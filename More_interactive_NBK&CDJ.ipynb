{
 "cells": [
  {
   "cell_type": "code",
   "execution_count": 1,
   "metadata": {},
   "outputs": [
    {
     "data": {
      "text/html": [
       "        <script type=\"text/javascript\">\n",
       "        window.PlotlyConfig = {MathJaxConfig: 'local'};\n",
       "        if (window.MathJax) {MathJax.Hub.Config({SVG: {font: \"STIX-Web\"}});}\n",
       "        if (typeof require !== 'undefined') {\n",
       "        require.undef(\"plotly\");\n",
       "        requirejs.config({\n",
       "            paths: {\n",
       "                'plotly': ['https://cdn.plot.ly/plotly-latest.min']\n",
       "            }\n",
       "        });\n",
       "        require(['plotly'], function(Plotly) {\n",
       "            window._Plotly = Plotly;\n",
       "        });\n",
       "        }\n",
       "        </script>\n",
       "        "
      ]
     },
     "metadata": {},
     "output_type": "display_data"
    }
   ],
   "source": [
    "import pandas as pd\n",
    "import numpy as np\n",
    "from plotly.offline import init_notebook_mode, iplot, plot\n",
    "import plotly as py\n",
    "import plotly.express as px\n",
    "import plotly.graph_objs as go\n",
    "import matplotlib.pyplot as plt\n",
    "init_notebook_mode(connected=True)"
   ]
  },
  {
   "cell_type": "code",
   "execution_count": 2,
   "metadata": {},
   "outputs": [],
   "source": [
    "df = pd.read_csv('C:/Users/Camilla/visualization/owid-covid-data.csv')"
   ]
  },
  {
   "cell_type": "code",
   "execution_count": 10,
   "metadata": {},
   "outputs": [
    {
     "data": {
      "text/plain": [
       "Index(['Unnamed: 0', 'iso_code', 'continent', 'location', 'date',\n",
       "       'total_cases', 'new_cases', 'new_cases_smoothed', 'total_deaths',\n",
       "       'new_deaths', 'new_deaths_smoothed', 'total_cases_per_million',\n",
       "       'new_cases_per_million', 'new_cases_smoothed_per_million',\n",
       "       'total_deaths_per_million', 'new_deaths_per_million',\n",
       "       'new_deaths_smoothed_per_million', 'reproduction_rate', 'icu_patients',\n",
       "       'icu_patients_per_million', 'hosp_patients',\n",
       "       'hosp_patients_per_million', 'weekly_icu_admissions',\n",
       "       'weekly_icu_admissions_per_million', 'weekly_hosp_admissions',\n",
       "       'weekly_hosp_admissions_per_million', 'total_tests', 'new_tests',\n",
       "       'total_tests_per_thousand', 'new_tests_per_thousand',\n",
       "       'new_tests_smoothed', 'new_tests_smoothed_per_thousand',\n",
       "       'tests_per_case', 'positive_rate', 'tests_units', 'stringency_index',\n",
       "       'population', 'population_density', 'median_age', 'aged_65_older',\n",
       "       'aged_70_older', 'gdp_per_capita', 'extreme_poverty',\n",
       "       'cardiovasc_death_rate', 'diabetes_prevalence', 'female_smokers',\n",
       "       'male_smokers', 'handwashing_facilities', 'hospital_beds_per_thousand',\n",
       "       'life_expectancy', 'human_development_index', 'lat', 'long',\n",
       "       'datetime'],\n",
       "      dtype='object')"
      ]
     },
     "execution_count": 10,
     "metadata": {},
     "output_type": "execute_result"
    }
   ],
   "source": [
    "df.columns"
   ]
  },
  {
   "cell_type": "code",
   "execution_count": 3,
   "metadata": {},
   "outputs": [],
   "source": [
    "df['datetime'] = pd.to_datetime(df['date'])"
   ]
  },
  {
   "cell_type": "code",
   "execution_count": 6,
   "metadata": {},
   "outputs": [],
   "source": [
    "df_grouped = df.groupby(['location','continent']).agg({'new_deaths': np.sum, 'gdp_per_capita': np.mean, 'new_cases':np.sum}).reset_index()\n",
    "df_grouped = df_grouped[(~df_grouped['new_deaths'].isnull())&(~df_grouped['new_cases'].isnull())&(~df_grouped['gdp_per_capita'].isnull())&(~df_grouped['continent'].isnull())]"
   ]
  },
  {
   "cell_type": "code",
   "execution_count": 9,
   "metadata": {},
   "outputs": [
    {
     "data": {
      "application/vnd.plotly.v1+json": {
       "config": {
        "plotlyServerURL": "https://plot.ly"
       },
       "data": [
        {
         "hovertemplate": "<b>%{hovertext}</b><br><br>continent=Asia<br>new_deaths=%{x}<br>gdp_per_capita=%{y}<br>new_cases=%{marker.size}<extra></extra>",
         "hovertext": [
          "Afghanistan",
          "Armenia",
          "Azerbaijan",
          "Bahrain",
          "Bangladesh",
          "Bhutan",
          "Brunei",
          "Cambodia",
          "China",
          "Georgia",
          "Hong Kong",
          "India",
          "Indonesia",
          "Iran",
          "Iraq",
          "Israel",
          "Japan",
          "Jordan",
          "Kazakhstan",
          "Kuwait",
          "Kyrgyzstan",
          "Laos",
          "Lebanon",
          "Malaysia",
          "Maldives",
          "Mongolia",
          "Myanmar",
          "Nepal",
          "Oman",
          "Pakistan",
          "Palestine",
          "Philippines",
          "Qatar",
          "Saudi Arabia",
          "Singapore",
          "South Korea",
          "Sri Lanka",
          "Tajikistan",
          "Thailand",
          "Timor",
          "Turkey",
          "United Arab Emirates",
          "Uzbekistan",
          "Vietnam",
          "Yemen"
         ],
         "legendgroup": "Asia",
         "marker": {
          "color": "#636efa",
          "size": [
           44771,
           126709,
           93094,
           85705,
           447341,
           382,
           148,
           306,
           91731,
           108690,
           0,
           9139865,
           497668,
           854361,
           535321,
           329403,
           130917,
           183429,
           169757,
           140056,
           69885,
           24,
           116476,
           54775,
           12608,
           640,
           79246,
           220308,
           122081,
           376929,
           84340,
           418818,
           137229,
           355258,
           58160,
           31004,
           20171,
           11894,
           3913,
           30,
           446822,
           158990,
           71617,
           1306,
           2099
          ],
          "sizemode": "area",
          "sizeref": 3401.9191666666666,
          "symbol": "circle"
         },
         "mode": "markers",
         "name": "Asia",
         "orientation": "v",
         "showlegend": true,
         "type": "scatter",
         "x": [
          1695,
          1976,
          1131,
          338,
          6388,
          0,
          3,
          0,
          4739,
          1012,
          0,
          133738,
          15884,
          44802,
          11958,
          2806,
          1980,
          2236,
          2372,
          866,
          1237,
          0,
          900,
          335,
          46,
          0,
          1739,
          1321,
          1380,
          7696,
          714,
          8123,
          236,
          5780,
          28,
          509,
          87,
          86,
          60,
          0,
          12358,
          552,
          603,
          35,
          608
         ],
         "xaxis": "x",
         "y": [
          1803.987000000004,
          8787.58000000004,
          15847.419000000042,
          43290.70500000006,
          3523.984000000023,
          8708.597000000025,
          71809.25099999996,
          3645.069999999989,
          15308.711999999994,
          9745.078999999945,
          56054.91999999995,
          6426.674000000057,
          11188.743999999957,
          19082.620000000094,
          15663.98599999994,
          33132.32000000016,
          39002.222999999874,
          8337.490000000002,
          24055.588000000138,
          65530.53700000021,
          3393.474000000012,
          6397.360000000026,
          13367.564999999973,
          26808.16399999996,
          15183.615999999947,
          11840.845999999941,
          5591.596999999999,
          2442.8040000000033,
          37960.70900000015,
          5034.708000000031,
          4449.89800000002,
          7599.188000000042,
          116935.60000000072,
          49045.41100000019,
          85535.38300000042,
          35938.37399999987,
          11669.07700000004,
          2896.9129999999927,
          16277.671000000068,
          6570.1019999999735,
          25129.34100000001,
          67293.48299999943,
          6253.104000000032,
          6171.88400000003,
          1479.1469999999977
         ],
         "yaxis": "y"
        },
        {
         "hovertemplate": "<b>%{hovertext}</b><br><br>continent=Europe<br>new_deaths=%{x}<br>gdp_per_capita=%{y}<br>new_cases=%{marker.size}<extra></extra>",
         "hovertext": [
          "Albania",
          "Austria",
          "Belarus",
          "Belgium",
          "Bosnia and Herzegovina",
          "Bulgaria",
          "Croatia",
          "Cyprus",
          "Czech Republic",
          "Denmark",
          "Estonia",
          "Finland",
          "France",
          "Germany",
          "Greece",
          "Hungary",
          "Iceland",
          "Ireland",
          "Italy",
          "Kosovo",
          "Latvia",
          "Lithuania",
          "Luxembourg",
          "Macedonia",
          "Malta",
          "Moldova",
          "Montenegro",
          "Netherlands",
          "Norway",
          "Poland",
          "Portugal",
          "Romania",
          "Russia",
          "San Marino",
          "Serbia",
          "Slovakia",
          "Slovenia",
          "Spain",
          "Sweden",
          "Switzerland",
          "Ukraine",
          "United Kingdom"
         ],
         "legendgroup": "Europe",
         "marker": {
          "color": "#EF553B",
          "size": [
           32761,
           246124,
           123999,
           558146,
           80007,
           121820,
           103718,
           8643,
           492263,
           70485,
           9724,
           21639,
           2140208,
           929133,
           91619,
           177952,
           5277,
           70461,
           1408868,
           34295,
           13120,
           47047,
           30333,
           54743,
           8560,
           97941,
           31062,
           484060,
           31438,
           861331,
           260758,
           418645,
           2114502,
           1395,
           121120,
           96241,
           65308,
           1556730,
           208295,
           289483,
           612665,
           1512045
          ],
          "sizemode": "area",
          "sizeref": 3401.9191666666666,
          "symbol": "circle"
         },
         "mode": "markers",
         "name": "Europe",
         "orientation": "v",
         "showlegend": true,
         "type": "scatter",
         "x": [
          699,
          2199,
          1096,
          15510,
          2276,
          2880,
          1353,
          44,
          7196,
          784,
          88,
          375,
          48732,
          14112,
          1630,
          3891,
          26,
          2023,
          49823,
          914,
          153,
          386,
          262,
          1511,
          104,
          2149,
          439,
          8879,
          306,
          13618,
          3897,
          10047,
          36540,
          43,
          1199,
          671,
          663,
          42619,
          6406,
          3567,
          10813,
          54751
         ],
         "xaxis": "x",
         "y": [
          11803.430999999988,
          45436.68600000026,
          17167.967000000095,
          42658.57599999985,
          11713.895000000015,
          18563.307000000026,
          22669.797000000057,
          32415.132000000158,
          32605.906000000043,
          46682.51500000019,
          29481.252000000164,
          40585.72100000026,
          38605.671000000075,
          45229.2449999997,
          24574.382000000158,
          26777.56099999996,
          46482.95800000017,
          67335.29300000014,
          35220.0840000001,
          9795.833999999984,
          25063.84599999992,
          29524.264999999956,
          94277.96499999988,
          13111.214000000049,
          36513.32300000009,
          5189.971999999998,
          16409.288000000062,
          48472.54499999993,
          64800.057000000015,
          27216.44500000008,
          27936.895999999917,
          23313.19900000002,
          24765.953999999925,
          56861.47000000015,
          14048.881000000043,
          30155.15199999983,
          31400.8399999999,
          34272.35999999996,
          46949.28299999986,
          57410.16599999987,
          7894.392999999971,
          39753.24400000028
         ],
         "yaxis": "y"
        },
        {
         "hovertemplate": "<b>%{hovertext}</b><br><br>continent=Africa<br>new_deaths=%{x}<br>gdp_per_capita=%{y}<br>new_cases=%{marker.size}<extra></extra>",
         "hovertext": [
          "Algeria",
          "Angola",
          "Benin",
          "Botswana",
          "Burkina Faso",
          "Burundi",
          "Cameroon",
          "Cape Verde",
          "Central African Republic",
          "Chad",
          "Comoros",
          "Congo",
          "Cote d'Ivoire",
          "Democratic Republic of Congo",
          "Djibouti",
          "Egypt",
          "Equatorial Guinea",
          "Eritrea",
          "Ethiopia",
          "Gabon",
          "Gambia",
          "Ghana",
          "Guinea",
          "Guinea-Bissau",
          "Kenya",
          "Lesotho",
          "Liberia",
          "Libya",
          "Madagascar",
          "Malawi",
          "Mali",
          "Mauritania",
          "Mauritius",
          "Morocco",
          "Mozambique",
          "Namibia",
          "Niger",
          "Nigeria",
          "Rwanda",
          "Sao Tome and Principe",
          "Senegal",
          "Seychelles",
          "Sierra Leone",
          "South Africa",
          "South Sudan",
          "Sudan",
          "Swaziland",
          "Tanzania",
          "Togo",
          "Tunisia",
          "Uganda",
          "Zambia",
          "Zimbabwe"
         ],
         "legendgroup": "Africa",
         "marker": {
          "color": "#00cc96",
          "size": [
           74862,
           14493,
           2916,
           9594,
           2735,
           662,
           23528,
           10276,
           4911,
           1642,
           596,
           5632,
           21138,
           12239,
           5668,
           113027,
           5130,
           551,
           105785,
           9131,
           3726,
           50874,
           12826,
           2421,
           77372,
           2085,
           1551,
           77823,
           17341,
           6003,
           4206,
           8096,
           494,
           320962,
           15037,
           13865,
           1368,
           66383,
           5665,
           979,
           15882,
           166,
           2405,
           767679,
           3047,
           15839,
           6219,
           509,
           2843,
           88711,
           17968,
           17424,
           9220
          ],
          "sizemode": "area",
          "sizeref": 3401.9191666666666,
          "symbol": "circle"
         },
         "mode": "markers",
         "name": "Africa",
         "orientation": "v",
         "showlegend": true,
         "type": "scatter",
         "x": [
          2275,
          337,
          43,
          31,
          68,
          1,
          435,
          104,
          63,
          101,
          7,
          92,
          131,
          328,
          61,
          6548,
          85,
          0,
          1647,
          59,
          123,
          323,
          75,
          43,
          1380,
          44,
          82,
          1089,
          251,
          185,
          143,
          169,
          10,
          5256,
          124,
          145,
          70,
          1167,
          47,
          17,
          330,
          0,
          74,
          20903,
          60,
          1193,
          120,
          21,
          64,
          2821,
          172,
          357,
          268
         ],
         "xaxis": "x",
         "y": [
          13913.839000000029,
          5819.495000000027,
          2064.235999999989,
          15807.373999999942,
          1703.1020000000092,
          702.2250000000031,
          3364.925999999986,
          6222.554000000003,
          661.2399999999998,
          1768.1529999999943,
          1413.8900000000074,
          4881.405999999979,
          3601.00600000002,
          808.1330000000014,
          2705.4059999999954,
          10550.205999999913,
          22604.87299999995,
          1510.4589999999935,
          1729.9270000000088,
          16562.413000000062,
          1561.7669999999962,
          4227.630000000001,
          1998.9259999999917,
          1548.6749999999931,
          2993.0280000000125,
          2851.152999999997,
          752.7880000000004,
          17881.509000000002,
          1416.4400000000019,
          1095.041999999994,
          2014.3059999999944,
          3597.6330000000057,
          20292.745000000086,
          7485.013000000015,
          1136.1030000000023,
          9541.808000000003,
          926,
          5338.453999999976,
          1854.211000000007,
          3052.7140000000027,
          2470.5799999999954,
          26382.286999999837,
          1390.2999999999938,
          12294.876000000053,
          1569.8879999999967,
          4466.506999999989,
          7738.975000000034,
          2683.3040000000033,
          1429.8130000000049,
          10849.296999999957,
          1697.7069999999958,
          3689.251000000016,
          1899.775000000008
         ],
         "yaxis": "y"
        },
        {
         "hovertemplate": "<b>%{hovertext}</b><br><br>continent=North America<br>new_deaths=%{x}<br>gdp_per_capita=%{y}<br>new_cases=%{marker.size}<extra></extra>",
         "hovertext": [
          "Antigua and Barbuda",
          "Aruba",
          "Bahamas",
          "Barbados",
          "Belize",
          "Bermuda",
          "Canada",
          "Cayman Islands",
          "Costa Rica",
          "Dominica",
          "Dominican Republic",
          "El Salvador",
          "Grenada",
          "Guatemala",
          "Haiti",
          "Honduras",
          "Jamaica",
          "Mexico",
          "Nicaragua",
          "Panama",
          "Puerto Rico",
          "Saint Kitts and Nevis",
          "Saint Lucia",
          "Saint Vincent and the Grenadines",
          "Sint Maarten (Dutch part)",
          "Trinidad and Tobago",
          "United States"
         ],
         "legendgroup": "North America",
         "marker": {
          "color": "#ab63fa",
          "size": [
           139,
           4731,
           7413,
           259,
           5183,
           227,
           330503,
           261,
           129418,
           77,
           138410,
           37562,
           41,
           118629,
           9214,
           104435,
           10284,
           1041875,
           5725,
           154783,
           84924,
           20,
           220,
           84,
           1007,
           6450,
           12246909
          ],
          "sizemode": "area",
          "sizeref": 3401.9191666666666,
          "symbol": "circle"
         },
         "mode": "markers",
         "name": "North America",
         "orientation": "v",
         "showlegend": true,
         "type": "scatter",
         "x": [
          4,
          45,
          163,
          7,
          116,
          9,
          11455,
          2,
          1608,
          0,
          2310,
          1081,
          0,
          4076,
          232,
          2857,
          238,
          101676,
          159,
          2957,
          1017,
          0,
          2,
          0,
          25,
          115,
          256782
         ],
         "xaxis": "x",
         "y": [
          21490.942999999974,
          35973.78100000015,
          27717.847000000053,
          16978.067999999974,
          7824.361999999977,
          50669.31499999995,
          44017.59100000001,
          49903.028999999784,
          15524.99500000008,
          9673.367000000044,
          14600.86099999997,
          7292.458000000037,
          13593.876999999973,
          7423.807999999973,
          1653.1730000000061,
          4541.795000000009,
          8193.570999999998,
          17336.468999999914,
          5321.443999999989,
          22267.036999999884,
          35044.66999999994,
          24654.384999999857,
          12951.839000000033,
          10727.146000000012,
          36327.231999999996,
          28763.0710000002,
          54225.446000000244
         ],
         "yaxis": "y"
        },
        {
         "hovertemplate": "<b>%{hovertext}</b><br><br>continent=South America<br>new_deaths=%{x}<br>gdp_per_capita=%{y}<br>new_cases=%{marker.size}<extra></extra>",
         "hovertext": [
          "Argentina",
          "Bolivia",
          "Brazil",
          "Chile",
          "Colombia",
          "Ecuador",
          "Guyana",
          "Paraguay",
          "Peru",
          "Suriname",
          "Uruguay",
          "Venezuela"
         ],
         "legendgroup": "South America",
         "marker": {
          "color": "#FFA15A",
          "size": [
           1370350,
           143922,
           6071401,
           540640,
           1248417,
           185643,
           5133,
           76476,
           949670,
           5296,
           4699,
           99835
          ],
          "sizemode": "area",
          "sizeref": 3401.9191666666666,
          "symbol": "circle"
         },
         "mode": "markers",
         "name": "South America",
         "orientation": "v",
         "showlegend": true,
         "type": "scatter",
         "x": [
          37002,
          8904,
          169183,
          15069,
          35287,
          13201,
          143,
          1657,
          35595,
          116,
          71,
          871
         ],
         "xaxis": "x",
         "y": [
          18933.906999999974,
          6885.828999999975,
          14103.451999999996,
          22767.03699999987,
          13254.949000000019,
          10581.936000000082,
          7435.047000000017,
          8827.009999999986,
          12236.705999999924,
          13767.118999999957,
          20551.40899999999,
          16745.021999999968
         ],
         "yaxis": "y"
        },
        {
         "hovertemplate": "<b>%{hovertext}</b><br><br>continent=Oceania<br>new_deaths=%{x}<br>gdp_per_capita=%{y}<br>new_cases=%{marker.size}<extra></extra>",
         "hovertext": [
          "Australia",
          "Fiji",
          "Marshall Islands",
          "New Zealand",
          "Papua New Guinea",
          "Solomon Islands",
          "Vanuatu"
         ],
         "legendgroup": "Oceania",
         "marker": {
          "color": "#19d3f3",
          "size": [
           27821,
           35,
           4,
           1674,
           604,
           16,
           1
          ],
          "sizemode": "area",
          "sizeref": 3401.9191666666666,
          "symbol": "circle"
         },
         "mode": "markers",
         "name": "Oceania",
         "orientation": "v",
         "showlegend": true,
         "type": "scatter",
         "x": [
          907,
          2,
          0,
          25,
          7,
          0,
          0
         ],
         "xaxis": "x",
         "y": [
          44648.71000000037,
          8702.975000000048,
          3819.2020000000007,
          36085.843000000204,
          3823.194000000012,
          2205.9229999999993,
          2921.909
         ],
         "yaxis": "y"
        }
       ],
       "layout": {
        "legend": {
         "itemsizing": "constant",
         "title": {
          "text": "continent"
         },
         "tracegroupgap": 0
        },
        "margin": {
         "t": 60
        },
        "template": {
         "data": {
          "bar": [
           {
            "error_x": {
             "color": "#2a3f5f"
            },
            "error_y": {
             "color": "#2a3f5f"
            },
            "marker": {
             "line": {
              "color": "#E5ECF6",
              "width": 0.5
             }
            },
            "type": "bar"
           }
          ],
          "barpolar": [
           {
            "marker": {
             "line": {
              "color": "#E5ECF6",
              "width": 0.5
             }
            },
            "type": "barpolar"
           }
          ],
          "carpet": [
           {
            "aaxis": {
             "endlinecolor": "#2a3f5f",
             "gridcolor": "white",
             "linecolor": "white",
             "minorgridcolor": "white",
             "startlinecolor": "#2a3f5f"
            },
            "baxis": {
             "endlinecolor": "#2a3f5f",
             "gridcolor": "white",
             "linecolor": "white",
             "minorgridcolor": "white",
             "startlinecolor": "#2a3f5f"
            },
            "type": "carpet"
           }
          ],
          "choropleth": [
           {
            "colorbar": {
             "outlinewidth": 0,
             "ticks": ""
            },
            "type": "choropleth"
           }
          ],
          "contour": [
           {
            "colorbar": {
             "outlinewidth": 0,
             "ticks": ""
            },
            "colorscale": [
             [
              0,
              "#0d0887"
             ],
             [
              0.1111111111111111,
              "#46039f"
             ],
             [
              0.2222222222222222,
              "#7201a8"
             ],
             [
              0.3333333333333333,
              "#9c179e"
             ],
             [
              0.4444444444444444,
              "#bd3786"
             ],
             [
              0.5555555555555556,
              "#d8576b"
             ],
             [
              0.6666666666666666,
              "#ed7953"
             ],
             [
              0.7777777777777778,
              "#fb9f3a"
             ],
             [
              0.8888888888888888,
              "#fdca26"
             ],
             [
              1,
              "#f0f921"
             ]
            ],
            "type": "contour"
           }
          ],
          "contourcarpet": [
           {
            "colorbar": {
             "outlinewidth": 0,
             "ticks": ""
            },
            "type": "contourcarpet"
           }
          ],
          "heatmap": [
           {
            "colorbar": {
             "outlinewidth": 0,
             "ticks": ""
            },
            "colorscale": [
             [
              0,
              "#0d0887"
             ],
             [
              0.1111111111111111,
              "#46039f"
             ],
             [
              0.2222222222222222,
              "#7201a8"
             ],
             [
              0.3333333333333333,
              "#9c179e"
             ],
             [
              0.4444444444444444,
              "#bd3786"
             ],
             [
              0.5555555555555556,
              "#d8576b"
             ],
             [
              0.6666666666666666,
              "#ed7953"
             ],
             [
              0.7777777777777778,
              "#fb9f3a"
             ],
             [
              0.8888888888888888,
              "#fdca26"
             ],
             [
              1,
              "#f0f921"
             ]
            ],
            "type": "heatmap"
           }
          ],
          "heatmapgl": [
           {
            "colorbar": {
             "outlinewidth": 0,
             "ticks": ""
            },
            "colorscale": [
             [
              0,
              "#0d0887"
             ],
             [
              0.1111111111111111,
              "#46039f"
             ],
             [
              0.2222222222222222,
              "#7201a8"
             ],
             [
              0.3333333333333333,
              "#9c179e"
             ],
             [
              0.4444444444444444,
              "#bd3786"
             ],
             [
              0.5555555555555556,
              "#d8576b"
             ],
             [
              0.6666666666666666,
              "#ed7953"
             ],
             [
              0.7777777777777778,
              "#fb9f3a"
             ],
             [
              0.8888888888888888,
              "#fdca26"
             ],
             [
              1,
              "#f0f921"
             ]
            ],
            "type": "heatmapgl"
           }
          ],
          "histogram": [
           {
            "marker": {
             "colorbar": {
              "outlinewidth": 0,
              "ticks": ""
             }
            },
            "type": "histogram"
           }
          ],
          "histogram2d": [
           {
            "colorbar": {
             "outlinewidth": 0,
             "ticks": ""
            },
            "colorscale": [
             [
              0,
              "#0d0887"
             ],
             [
              0.1111111111111111,
              "#46039f"
             ],
             [
              0.2222222222222222,
              "#7201a8"
             ],
             [
              0.3333333333333333,
              "#9c179e"
             ],
             [
              0.4444444444444444,
              "#bd3786"
             ],
             [
              0.5555555555555556,
              "#d8576b"
             ],
             [
              0.6666666666666666,
              "#ed7953"
             ],
             [
              0.7777777777777778,
              "#fb9f3a"
             ],
             [
              0.8888888888888888,
              "#fdca26"
             ],
             [
              1,
              "#f0f921"
             ]
            ],
            "type": "histogram2d"
           }
          ],
          "histogram2dcontour": [
           {
            "colorbar": {
             "outlinewidth": 0,
             "ticks": ""
            },
            "colorscale": [
             [
              0,
              "#0d0887"
             ],
             [
              0.1111111111111111,
              "#46039f"
             ],
             [
              0.2222222222222222,
              "#7201a8"
             ],
             [
              0.3333333333333333,
              "#9c179e"
             ],
             [
              0.4444444444444444,
              "#bd3786"
             ],
             [
              0.5555555555555556,
              "#d8576b"
             ],
             [
              0.6666666666666666,
              "#ed7953"
             ],
             [
              0.7777777777777778,
              "#fb9f3a"
             ],
             [
              0.8888888888888888,
              "#fdca26"
             ],
             [
              1,
              "#f0f921"
             ]
            ],
            "type": "histogram2dcontour"
           }
          ],
          "mesh3d": [
           {
            "colorbar": {
             "outlinewidth": 0,
             "ticks": ""
            },
            "type": "mesh3d"
           }
          ],
          "parcoords": [
           {
            "line": {
             "colorbar": {
              "outlinewidth": 0,
              "ticks": ""
             }
            },
            "type": "parcoords"
           }
          ],
          "pie": [
           {
            "automargin": true,
            "type": "pie"
           }
          ],
          "scatter": [
           {
            "marker": {
             "colorbar": {
              "outlinewidth": 0,
              "ticks": ""
             }
            },
            "type": "scatter"
           }
          ],
          "scatter3d": [
           {
            "line": {
             "colorbar": {
              "outlinewidth": 0,
              "ticks": ""
             }
            },
            "marker": {
             "colorbar": {
              "outlinewidth": 0,
              "ticks": ""
             }
            },
            "type": "scatter3d"
           }
          ],
          "scattercarpet": [
           {
            "marker": {
             "colorbar": {
              "outlinewidth": 0,
              "ticks": ""
             }
            },
            "type": "scattercarpet"
           }
          ],
          "scattergeo": [
           {
            "marker": {
             "colorbar": {
              "outlinewidth": 0,
              "ticks": ""
             }
            },
            "type": "scattergeo"
           }
          ],
          "scattergl": [
           {
            "marker": {
             "colorbar": {
              "outlinewidth": 0,
              "ticks": ""
             }
            },
            "type": "scattergl"
           }
          ],
          "scattermapbox": [
           {
            "marker": {
             "colorbar": {
              "outlinewidth": 0,
              "ticks": ""
             }
            },
            "type": "scattermapbox"
           }
          ],
          "scatterpolar": [
           {
            "marker": {
             "colorbar": {
              "outlinewidth": 0,
              "ticks": ""
             }
            },
            "type": "scatterpolar"
           }
          ],
          "scatterpolargl": [
           {
            "marker": {
             "colorbar": {
              "outlinewidth": 0,
              "ticks": ""
             }
            },
            "type": "scatterpolargl"
           }
          ],
          "scatterternary": [
           {
            "marker": {
             "colorbar": {
              "outlinewidth": 0,
              "ticks": ""
             }
            },
            "type": "scatterternary"
           }
          ],
          "surface": [
           {
            "colorbar": {
             "outlinewidth": 0,
             "ticks": ""
            },
            "colorscale": [
             [
              0,
              "#0d0887"
             ],
             [
              0.1111111111111111,
              "#46039f"
             ],
             [
              0.2222222222222222,
              "#7201a8"
             ],
             [
              0.3333333333333333,
              "#9c179e"
             ],
             [
              0.4444444444444444,
              "#bd3786"
             ],
             [
              0.5555555555555556,
              "#d8576b"
             ],
             [
              0.6666666666666666,
              "#ed7953"
             ],
             [
              0.7777777777777778,
              "#fb9f3a"
             ],
             [
              0.8888888888888888,
              "#fdca26"
             ],
             [
              1,
              "#f0f921"
             ]
            ],
            "type": "surface"
           }
          ],
          "table": [
           {
            "cells": {
             "fill": {
              "color": "#EBF0F8"
             },
             "line": {
              "color": "white"
             }
            },
            "header": {
             "fill": {
              "color": "#C8D4E3"
             },
             "line": {
              "color": "white"
             }
            },
            "type": "table"
           }
          ]
         },
         "layout": {
          "annotationdefaults": {
           "arrowcolor": "#2a3f5f",
           "arrowhead": 0,
           "arrowwidth": 1
          },
          "coloraxis": {
           "colorbar": {
            "outlinewidth": 0,
            "ticks": ""
           }
          },
          "colorscale": {
           "diverging": [
            [
             0,
             "#8e0152"
            ],
            [
             0.1,
             "#c51b7d"
            ],
            [
             0.2,
             "#de77ae"
            ],
            [
             0.3,
             "#f1b6da"
            ],
            [
             0.4,
             "#fde0ef"
            ],
            [
             0.5,
             "#f7f7f7"
            ],
            [
             0.6,
             "#e6f5d0"
            ],
            [
             0.7,
             "#b8e186"
            ],
            [
             0.8,
             "#7fbc41"
            ],
            [
             0.9,
             "#4d9221"
            ],
            [
             1,
             "#276419"
            ]
           ],
           "sequential": [
            [
             0,
             "#0d0887"
            ],
            [
             0.1111111111111111,
             "#46039f"
            ],
            [
             0.2222222222222222,
             "#7201a8"
            ],
            [
             0.3333333333333333,
             "#9c179e"
            ],
            [
             0.4444444444444444,
             "#bd3786"
            ],
            [
             0.5555555555555556,
             "#d8576b"
            ],
            [
             0.6666666666666666,
             "#ed7953"
            ],
            [
             0.7777777777777778,
             "#fb9f3a"
            ],
            [
             0.8888888888888888,
             "#fdca26"
            ],
            [
             1,
             "#f0f921"
            ]
           ],
           "sequentialminus": [
            [
             0,
             "#0d0887"
            ],
            [
             0.1111111111111111,
             "#46039f"
            ],
            [
             0.2222222222222222,
             "#7201a8"
            ],
            [
             0.3333333333333333,
             "#9c179e"
            ],
            [
             0.4444444444444444,
             "#bd3786"
            ],
            [
             0.5555555555555556,
             "#d8576b"
            ],
            [
             0.6666666666666666,
             "#ed7953"
            ],
            [
             0.7777777777777778,
             "#fb9f3a"
            ],
            [
             0.8888888888888888,
             "#fdca26"
            ],
            [
             1,
             "#f0f921"
            ]
           ]
          },
          "colorway": [
           "#636efa",
           "#EF553B",
           "#00cc96",
           "#ab63fa",
           "#FFA15A",
           "#19d3f3",
           "#FF6692",
           "#B6E880",
           "#FF97FF",
           "#FECB52"
          ],
          "font": {
           "color": "#2a3f5f"
          },
          "geo": {
           "bgcolor": "white",
           "lakecolor": "white",
           "landcolor": "#E5ECF6",
           "showlakes": true,
           "showland": true,
           "subunitcolor": "white"
          },
          "hoverlabel": {
           "align": "left"
          },
          "hovermode": "closest",
          "mapbox": {
           "style": "light"
          },
          "paper_bgcolor": "white",
          "plot_bgcolor": "#E5ECF6",
          "polar": {
           "angularaxis": {
            "gridcolor": "white",
            "linecolor": "white",
            "ticks": ""
           },
           "bgcolor": "#E5ECF6",
           "radialaxis": {
            "gridcolor": "white",
            "linecolor": "white",
            "ticks": ""
           }
          },
          "scene": {
           "xaxis": {
            "backgroundcolor": "#E5ECF6",
            "gridcolor": "white",
            "gridwidth": 2,
            "linecolor": "white",
            "showbackground": true,
            "ticks": "",
            "zerolinecolor": "white"
           },
           "yaxis": {
            "backgroundcolor": "#E5ECF6",
            "gridcolor": "white",
            "gridwidth": 2,
            "linecolor": "white",
            "showbackground": true,
            "ticks": "",
            "zerolinecolor": "white"
           },
           "zaxis": {
            "backgroundcolor": "#E5ECF6",
            "gridcolor": "white",
            "gridwidth": 2,
            "linecolor": "white",
            "showbackground": true,
            "ticks": "",
            "zerolinecolor": "white"
           }
          },
          "shapedefaults": {
           "line": {
            "color": "#2a3f5f"
           }
          },
          "ternary": {
           "aaxis": {
            "gridcolor": "white",
            "linecolor": "white",
            "ticks": ""
           },
           "baxis": {
            "gridcolor": "white",
            "linecolor": "white",
            "ticks": ""
           },
           "bgcolor": "#E5ECF6",
           "caxis": {
            "gridcolor": "white",
            "linecolor": "white",
            "ticks": ""
           }
          },
          "title": {
           "x": 0.05
          },
          "xaxis": {
           "automargin": true,
           "gridcolor": "white",
           "linecolor": "white",
           "ticks": "",
           "title": {
            "standoff": 15
           },
           "zerolinecolor": "white",
           "zerolinewidth": 2
          },
          "yaxis": {
           "automargin": true,
           "gridcolor": "white",
           "linecolor": "white",
           "ticks": "",
           "title": {
            "standoff": 15
           },
           "zerolinecolor": "white",
           "zerolinewidth": 2
          }
         }
        },
        "xaxis": {
         "anchor": "y",
         "domain": [
          0,
          1
         ],
         "title": {
          "text": "new_deaths"
         },
         "type": "log"
        },
        "yaxis": {
         "anchor": "x",
         "domain": [
          0,
          1
         ],
         "title": {
          "text": "gdp_per_capita"
         }
        }
       }
      },
      "text/html": [
       "<div>                            <div id=\"5d29932b-28a6-45a3-8a05-b8c2c1b45895\" class=\"plotly-graph-div\" style=\"height:525px; width:100%;\"></div>            <script type=\"text/javascript\">                require([\"plotly\"], function(Plotly) {                    window.PLOTLYENV=window.PLOTLYENV || {};                                    if (document.getElementById(\"5d29932b-28a6-45a3-8a05-b8c2c1b45895\")) {                    Plotly.newPlot(                        \"5d29932b-28a6-45a3-8a05-b8c2c1b45895\",                        [{\"hovertemplate\": \"<b>%{hovertext}</b><br><br>continent=Asia<br>new_deaths=%{x}<br>gdp_per_capita=%{y}<br>new_cases=%{marker.size}<extra></extra>\", \"hovertext\": [\"Afghanistan\", \"Armenia\", \"Azerbaijan\", \"Bahrain\", \"Bangladesh\", \"Bhutan\", \"Brunei\", \"Cambodia\", \"China\", \"Georgia\", \"Hong Kong\", \"India\", \"Indonesia\", \"Iran\", \"Iraq\", \"Israel\", \"Japan\", \"Jordan\", \"Kazakhstan\", \"Kuwait\", \"Kyrgyzstan\", \"Laos\", \"Lebanon\", \"Malaysia\", \"Maldives\", \"Mongolia\", \"Myanmar\", \"Nepal\", \"Oman\", \"Pakistan\", \"Palestine\", \"Philippines\", \"Qatar\", \"Saudi Arabia\", \"Singapore\", \"South Korea\", \"Sri Lanka\", \"Tajikistan\", \"Thailand\", \"Timor\", \"Turkey\", \"United Arab Emirates\", \"Uzbekistan\", \"Vietnam\", \"Yemen\"], \"legendgroup\": \"Asia\", \"marker\": {\"color\": \"#636efa\", \"size\": [44771.0, 126709.0, 93094.0, 85705.0, 447341.0, 382.0, 148.0, 306.0, 91731.0, 108690.0, 0.0, 9139865.0, 497668.0, 854361.0, 535321.0, 329403.0, 130917.0, 183429.0, 169757.0, 140056.0, 69885.0, 24.0, 116476.0, 54775.0, 12608.0, 640.0, 79246.0, 220308.0, 122081.0, 376929.0, 84340.0, 418818.0, 137229.0, 355258.0, 58160.0, 31004.0, 20171.0, 11894.0, 3913.0, 30.0, 446822.0, 158990.0, 71617.0, 1306.0, 2099.0], \"sizemode\": \"area\", \"sizeref\": 3401.9191666666666, \"symbol\": \"circle\"}, \"mode\": \"markers\", \"name\": \"Asia\", \"orientation\": \"v\", \"showlegend\": true, \"type\": \"scatter\", \"x\": [1695.0, 1976.0, 1131.0, 338.0, 6388.0, 0.0, 3.0, 0.0, 4739.0, 1012.0, 0.0, 133738.0, 15884.0, 44802.0, 11958.0, 2806.0, 1980.0, 2236.0, 2372.0, 866.0, 1237.0, 0.0, 900.0, 335.0, 46.0, 0.0, 1739.0, 1321.0, 1380.0, 7696.0, 714.0, 8123.0, 236.0, 5780.0, 28.0, 509.0, 87.0, 86.0, 60.0, 0.0, 12358.0, 552.0, 603.0, 35.0, 608.0], \"xaxis\": \"x\", \"y\": [1803.987000000004, 8787.58000000004, 15847.419000000042, 43290.70500000006, 3523.984000000023, 8708.597000000025, 71809.25099999996, 3645.069999999989, 15308.711999999994, 9745.078999999945, 56054.91999999995, 6426.674000000057, 11188.743999999957, 19082.620000000094, 15663.98599999994, 33132.32000000016, 39002.222999999874, 8337.490000000002, 24055.588000000138, 65530.53700000021, 3393.474000000012, 6397.360000000026, 13367.564999999973, 26808.16399999996, 15183.615999999947, 11840.845999999941, 5591.596999999999, 2442.8040000000033, 37960.70900000015, 5034.708000000031, 4449.89800000002, 7599.188000000042, 116935.60000000072, 49045.41100000019, 85535.38300000042, 35938.37399999987, 11669.07700000004, 2896.9129999999927, 16277.671000000068, 6570.1019999999735, 25129.34100000001, 67293.48299999943, 6253.104000000032, 6171.88400000003, 1479.1469999999977], \"yaxis\": \"y\"}, {\"hovertemplate\": \"<b>%{hovertext}</b><br><br>continent=Europe<br>new_deaths=%{x}<br>gdp_per_capita=%{y}<br>new_cases=%{marker.size}<extra></extra>\", \"hovertext\": [\"Albania\", \"Austria\", \"Belarus\", \"Belgium\", \"Bosnia and Herzegovina\", \"Bulgaria\", \"Croatia\", \"Cyprus\", \"Czech Republic\", \"Denmark\", \"Estonia\", \"Finland\", \"France\", \"Germany\", \"Greece\", \"Hungary\", \"Iceland\", \"Ireland\", \"Italy\", \"Kosovo\", \"Latvia\", \"Lithuania\", \"Luxembourg\", \"Macedonia\", \"Malta\", \"Moldova\", \"Montenegro\", \"Netherlands\", \"Norway\", \"Poland\", \"Portugal\", \"Romania\", \"Russia\", \"San Marino\", \"Serbia\", \"Slovakia\", \"Slovenia\", \"Spain\", \"Sweden\", \"Switzerland\", \"Ukraine\", \"United Kingdom\"], \"legendgroup\": \"Europe\", \"marker\": {\"color\": \"#EF553B\", \"size\": [32761.0, 246124.0, 123999.0, 558146.0, 80007.0, 121820.0, 103718.0, 8643.0, 492263.0, 70485.0, 9724.0, 21639.0, 2140208.0, 929133.0, 91619.0, 177952.0, 5277.0, 70461.0, 1408868.0, 34295.0, 13120.0, 47047.0, 30333.0, 54743.0, 8560.0, 97941.0, 31062.0, 484060.0, 31438.0, 861331.0, 260758.0, 418645.0, 2114502.0, 1395.0, 121120.0, 96241.0, 65308.0, 1556730.0, 208295.0, 289483.0, 612665.0, 1512045.0], \"sizemode\": \"area\", \"sizeref\": 3401.9191666666666, \"symbol\": \"circle\"}, \"mode\": \"markers\", \"name\": \"Europe\", \"orientation\": \"v\", \"showlegend\": true, \"type\": \"scatter\", \"x\": [699.0, 2199.0, 1096.0, 15510.0, 2276.0, 2880.0, 1353.0, 44.0, 7196.0, 784.0, 88.0, 375.0, 48732.0, 14112.0, 1630.0, 3891.0, 26.0, 2023.0, 49823.0, 914.0, 153.0, 386.0, 262.0, 1511.0, 104.0, 2149.0, 439.0, 8879.0, 306.0, 13618.0, 3897.0, 10047.0, 36540.0, 43.0, 1199.0, 671.0, 663.0, 42619.0, 6406.0, 3567.0, 10813.0, 54751.0], \"xaxis\": \"x\", \"y\": [11803.430999999988, 45436.68600000026, 17167.967000000095, 42658.57599999985, 11713.895000000015, 18563.307000000026, 22669.797000000057, 32415.132000000158, 32605.906000000043, 46682.51500000019, 29481.252000000164, 40585.72100000026, 38605.671000000075, 45229.2449999997, 24574.382000000158, 26777.56099999996, 46482.95800000017, 67335.29300000014, 35220.0840000001, 9795.833999999984, 25063.84599999992, 29524.264999999956, 94277.96499999988, 13111.214000000049, 36513.32300000009, 5189.971999999998, 16409.288000000062, 48472.54499999993, 64800.057000000015, 27216.44500000008, 27936.895999999917, 23313.19900000002, 24765.953999999925, 56861.47000000015, 14048.881000000043, 30155.15199999983, 31400.8399999999, 34272.35999999996, 46949.28299999986, 57410.16599999987, 7894.392999999971, 39753.24400000028], \"yaxis\": \"y\"}, {\"hovertemplate\": \"<b>%{hovertext}</b><br><br>continent=Africa<br>new_deaths=%{x}<br>gdp_per_capita=%{y}<br>new_cases=%{marker.size}<extra></extra>\", \"hovertext\": [\"Algeria\", \"Angola\", \"Benin\", \"Botswana\", \"Burkina Faso\", \"Burundi\", \"Cameroon\", \"Cape Verde\", \"Central African Republic\", \"Chad\", \"Comoros\", \"Congo\", \"Cote d'Ivoire\", \"Democratic Republic of Congo\", \"Djibouti\", \"Egypt\", \"Equatorial Guinea\", \"Eritrea\", \"Ethiopia\", \"Gabon\", \"Gambia\", \"Ghana\", \"Guinea\", \"Guinea-Bissau\", \"Kenya\", \"Lesotho\", \"Liberia\", \"Libya\", \"Madagascar\", \"Malawi\", \"Mali\", \"Mauritania\", \"Mauritius\", \"Morocco\", \"Mozambique\", \"Namibia\", \"Niger\", \"Nigeria\", \"Rwanda\", \"Sao Tome and Principe\", \"Senegal\", \"Seychelles\", \"Sierra Leone\", \"South Africa\", \"South Sudan\", \"Sudan\", \"Swaziland\", \"Tanzania\", \"Togo\", \"Tunisia\", \"Uganda\", \"Zambia\", \"Zimbabwe\"], \"legendgroup\": \"Africa\", \"marker\": {\"color\": \"#00cc96\", \"size\": [74862.0, 14493.0, 2916.0, 9594.0, 2735.0, 662.0, 23528.0, 10276.0, 4911.0, 1642.0, 596.0, 5632.0, 21138.0, 12239.0, 5668.0, 113027.0, 5130.0, 551.0, 105785.0, 9131.0, 3726.0, 50874.0, 12826.0, 2421.0, 77372.0, 2085.0, 1551.0, 77823.0, 17341.0, 6003.0, 4206.0, 8096.0, 494.0, 320962.0, 15037.0, 13865.0, 1368.0, 66383.0, 5665.0, 979.0, 15882.0, 166.0, 2405.0, 767679.0, 3047.0, 15839.0, 6219.0, 509.0, 2843.0, 88711.0, 17968.0, 17424.0, 9220.0], \"sizemode\": \"area\", \"sizeref\": 3401.9191666666666, \"symbol\": \"circle\"}, \"mode\": \"markers\", \"name\": \"Africa\", \"orientation\": \"v\", \"showlegend\": true, \"type\": \"scatter\", \"x\": [2275.0, 337.0, 43.0, 31.0, 68.0, 1.0, 435.0, 104.0, 63.0, 101.0, 7.0, 92.0, 131.0, 328.0, 61.0, 6548.0, 85.0, 0.0, 1647.0, 59.0, 123.0, 323.0, 75.0, 43.0, 1380.0, 44.0, 82.0, 1089.0, 251.0, 185.0, 143.0, 169.0, 10.0, 5256.0, 124.0, 145.0, 70.0, 1167.0, 47.0, 17.0, 330.0, 0.0, 74.0, 20903.0, 60.0, 1193.0, 120.0, 21.0, 64.0, 2821.0, 172.0, 357.0, 268.0], \"xaxis\": \"x\", \"y\": [13913.839000000029, 5819.495000000027, 2064.235999999989, 15807.373999999942, 1703.1020000000092, 702.2250000000031, 3364.925999999986, 6222.554000000003, 661.2399999999998, 1768.1529999999943, 1413.8900000000074, 4881.405999999979, 3601.00600000002, 808.1330000000014, 2705.4059999999954, 10550.205999999913, 22604.87299999995, 1510.4589999999935, 1729.9270000000088, 16562.413000000062, 1561.7669999999962, 4227.630000000001, 1998.9259999999917, 1548.6749999999931, 2993.0280000000125, 2851.152999999997, 752.7880000000004, 17881.509000000002, 1416.4400000000019, 1095.041999999994, 2014.3059999999944, 3597.6330000000057, 20292.745000000086, 7485.013000000015, 1136.1030000000023, 9541.808000000003, 926.0, 5338.453999999976, 1854.211000000007, 3052.7140000000027, 2470.5799999999954, 26382.286999999837, 1390.2999999999938, 12294.876000000053, 1569.8879999999967, 4466.506999999989, 7738.975000000034, 2683.3040000000033, 1429.8130000000049, 10849.296999999957, 1697.7069999999958, 3689.251000000016, 1899.775000000008], \"yaxis\": \"y\"}, {\"hovertemplate\": \"<b>%{hovertext}</b><br><br>continent=North America<br>new_deaths=%{x}<br>gdp_per_capita=%{y}<br>new_cases=%{marker.size}<extra></extra>\", \"hovertext\": [\"Antigua and Barbuda\", \"Aruba\", \"Bahamas\", \"Barbados\", \"Belize\", \"Bermuda\", \"Canada\", \"Cayman Islands\", \"Costa Rica\", \"Dominica\", \"Dominican Republic\", \"El Salvador\", \"Grenada\", \"Guatemala\", \"Haiti\", \"Honduras\", \"Jamaica\", \"Mexico\", \"Nicaragua\", \"Panama\", \"Puerto Rico\", \"Saint Kitts and Nevis\", \"Saint Lucia\", \"Saint Vincent and the Grenadines\", \"Sint Maarten (Dutch part)\", \"Trinidad and Tobago\", \"United States\"], \"legendgroup\": \"North America\", \"marker\": {\"color\": \"#ab63fa\", \"size\": [139.0, 4731.0, 7413.0, 259.0, 5183.0, 227.0, 330503.0, 261.0, 129418.0, 77.0, 138410.0, 37562.0, 41.0, 118629.0, 9214.0, 104435.0, 10284.0, 1041875.0, 5725.0, 154783.0, 84924.0, 20.0, 220.0, 84.0, 1007.0, 6450.0, 12246909.0], \"sizemode\": \"area\", \"sizeref\": 3401.9191666666666, \"symbol\": \"circle\"}, \"mode\": \"markers\", \"name\": \"North America\", \"orientation\": \"v\", \"showlegend\": true, \"type\": \"scatter\", \"x\": [4.0, 45.0, 163.0, 7.0, 116.0, 9.0, 11455.0, 2.0, 1608.0, 0.0, 2310.0, 1081.0, 0.0, 4076.0, 232.0, 2857.0, 238.0, 101676.0, 159.0, 2957.0, 1017.0, 0.0, 2.0, 0.0, 25.0, 115.0, 256782.0], \"xaxis\": \"x\", \"y\": [21490.942999999974, 35973.78100000015, 27717.847000000053, 16978.067999999974, 7824.361999999977, 50669.31499999995, 44017.59100000001, 49903.028999999784, 15524.99500000008, 9673.367000000044, 14600.86099999997, 7292.458000000037, 13593.876999999973, 7423.807999999973, 1653.1730000000061, 4541.795000000009, 8193.570999999998, 17336.468999999914, 5321.443999999989, 22267.036999999884, 35044.66999999994, 24654.384999999857, 12951.839000000033, 10727.146000000012, 36327.231999999996, 28763.0710000002, 54225.446000000244], \"yaxis\": \"y\"}, {\"hovertemplate\": \"<b>%{hovertext}</b><br><br>continent=South America<br>new_deaths=%{x}<br>gdp_per_capita=%{y}<br>new_cases=%{marker.size}<extra></extra>\", \"hovertext\": [\"Argentina\", \"Bolivia\", \"Brazil\", \"Chile\", \"Colombia\", \"Ecuador\", \"Guyana\", \"Paraguay\", \"Peru\", \"Suriname\", \"Uruguay\", \"Venezuela\"], \"legendgroup\": \"South America\", \"marker\": {\"color\": \"#FFA15A\", \"size\": [1370350.0, 143922.0, 6071401.0, 540640.0, 1248417.0, 185643.0, 5133.0, 76476.0, 949670.0, 5296.0, 4699.0, 99835.0], \"sizemode\": \"area\", \"sizeref\": 3401.9191666666666, \"symbol\": \"circle\"}, \"mode\": \"markers\", \"name\": \"South America\", \"orientation\": \"v\", \"showlegend\": true, \"type\": \"scatter\", \"x\": [37002.0, 8904.0, 169183.0, 15069.0, 35287.0, 13201.0, 143.0, 1657.0, 35595.0, 116.0, 71.0, 871.0], \"xaxis\": \"x\", \"y\": [18933.906999999974, 6885.828999999975, 14103.451999999996, 22767.03699999987, 13254.949000000019, 10581.936000000082, 7435.047000000017, 8827.009999999986, 12236.705999999924, 13767.118999999957, 20551.40899999999, 16745.021999999968], \"yaxis\": \"y\"}, {\"hovertemplate\": \"<b>%{hovertext}</b><br><br>continent=Oceania<br>new_deaths=%{x}<br>gdp_per_capita=%{y}<br>new_cases=%{marker.size}<extra></extra>\", \"hovertext\": [\"Australia\", \"Fiji\", \"Marshall Islands\", \"New Zealand\", \"Papua New Guinea\", \"Solomon Islands\", \"Vanuatu\"], \"legendgroup\": \"Oceania\", \"marker\": {\"color\": \"#19d3f3\", \"size\": [27821.0, 35.0, 4.0, 1674.0, 604.0, 16.0, 1.0], \"sizemode\": \"area\", \"sizeref\": 3401.9191666666666, \"symbol\": \"circle\"}, \"mode\": \"markers\", \"name\": \"Oceania\", \"orientation\": \"v\", \"showlegend\": true, \"type\": \"scatter\", \"x\": [907.0, 2.0, 0.0, 25.0, 7.0, 0.0, 0.0], \"xaxis\": \"x\", \"y\": [44648.71000000037, 8702.975000000048, 3819.2020000000007, 36085.843000000204, 3823.194000000012, 2205.9229999999993, 2921.909], \"yaxis\": \"y\"}],                        {\"legend\": {\"itemsizing\": \"constant\", \"title\": {\"text\": \"continent\"}, \"tracegroupgap\": 0}, \"margin\": {\"t\": 60}, \"template\": {\"data\": {\"bar\": [{\"error_x\": {\"color\": \"#2a3f5f\"}, \"error_y\": {\"color\": \"#2a3f5f\"}, \"marker\": {\"line\": {\"color\": \"#E5ECF6\", \"width\": 0.5}}, \"type\": \"bar\"}], \"barpolar\": [{\"marker\": {\"line\": {\"color\": \"#E5ECF6\", \"width\": 0.5}}, \"type\": \"barpolar\"}], \"carpet\": [{\"aaxis\": {\"endlinecolor\": \"#2a3f5f\", \"gridcolor\": \"white\", \"linecolor\": \"white\", \"minorgridcolor\": \"white\", \"startlinecolor\": \"#2a3f5f\"}, \"baxis\": {\"endlinecolor\": \"#2a3f5f\", \"gridcolor\": \"white\", \"linecolor\": \"white\", \"minorgridcolor\": \"white\", \"startlinecolor\": \"#2a3f5f\"}, \"type\": \"carpet\"}], \"choropleth\": [{\"colorbar\": {\"outlinewidth\": 0, \"ticks\": \"\"}, \"type\": \"choropleth\"}], \"contour\": [{\"colorbar\": {\"outlinewidth\": 0, \"ticks\": \"\"}, \"colorscale\": [[0.0, \"#0d0887\"], [0.1111111111111111, \"#46039f\"], [0.2222222222222222, \"#7201a8\"], [0.3333333333333333, \"#9c179e\"], [0.4444444444444444, \"#bd3786\"], [0.5555555555555556, \"#d8576b\"], [0.6666666666666666, \"#ed7953\"], [0.7777777777777778, \"#fb9f3a\"], [0.8888888888888888, \"#fdca26\"], [1.0, \"#f0f921\"]], \"type\": \"contour\"}], \"contourcarpet\": [{\"colorbar\": {\"outlinewidth\": 0, \"ticks\": \"\"}, \"type\": \"contourcarpet\"}], \"heatmap\": [{\"colorbar\": {\"outlinewidth\": 0, \"ticks\": \"\"}, \"colorscale\": [[0.0, \"#0d0887\"], [0.1111111111111111, \"#46039f\"], [0.2222222222222222, \"#7201a8\"], [0.3333333333333333, \"#9c179e\"], [0.4444444444444444, \"#bd3786\"], [0.5555555555555556, \"#d8576b\"], [0.6666666666666666, \"#ed7953\"], [0.7777777777777778, \"#fb9f3a\"], [0.8888888888888888, \"#fdca26\"], [1.0, \"#f0f921\"]], \"type\": \"heatmap\"}], \"heatmapgl\": [{\"colorbar\": {\"outlinewidth\": 0, \"ticks\": \"\"}, \"colorscale\": [[0.0, \"#0d0887\"], [0.1111111111111111, \"#46039f\"], [0.2222222222222222, \"#7201a8\"], [0.3333333333333333, \"#9c179e\"], [0.4444444444444444, \"#bd3786\"], [0.5555555555555556, \"#d8576b\"], [0.6666666666666666, \"#ed7953\"], [0.7777777777777778, \"#fb9f3a\"], [0.8888888888888888, \"#fdca26\"], [1.0, \"#f0f921\"]], \"type\": \"heatmapgl\"}], \"histogram\": [{\"marker\": {\"colorbar\": {\"outlinewidth\": 0, \"ticks\": \"\"}}, \"type\": \"histogram\"}], \"histogram2d\": [{\"colorbar\": {\"outlinewidth\": 0, \"ticks\": \"\"}, \"colorscale\": [[0.0, \"#0d0887\"], [0.1111111111111111, \"#46039f\"], [0.2222222222222222, \"#7201a8\"], [0.3333333333333333, \"#9c179e\"], [0.4444444444444444, \"#bd3786\"], [0.5555555555555556, \"#d8576b\"], [0.6666666666666666, \"#ed7953\"], [0.7777777777777778, \"#fb9f3a\"], [0.8888888888888888, \"#fdca26\"], [1.0, \"#f0f921\"]], \"type\": \"histogram2d\"}], \"histogram2dcontour\": [{\"colorbar\": {\"outlinewidth\": 0, \"ticks\": \"\"}, \"colorscale\": [[0.0, \"#0d0887\"], [0.1111111111111111, \"#46039f\"], [0.2222222222222222, \"#7201a8\"], [0.3333333333333333, \"#9c179e\"], [0.4444444444444444, \"#bd3786\"], [0.5555555555555556, \"#d8576b\"], [0.6666666666666666, \"#ed7953\"], [0.7777777777777778, \"#fb9f3a\"], [0.8888888888888888, \"#fdca26\"], [1.0, \"#f0f921\"]], \"type\": \"histogram2dcontour\"}], \"mesh3d\": [{\"colorbar\": {\"outlinewidth\": 0, \"ticks\": \"\"}, \"type\": \"mesh3d\"}], \"parcoords\": [{\"line\": {\"colorbar\": {\"outlinewidth\": 0, \"ticks\": \"\"}}, \"type\": \"parcoords\"}], \"pie\": [{\"automargin\": true, \"type\": \"pie\"}], \"scatter\": [{\"marker\": {\"colorbar\": {\"outlinewidth\": 0, \"ticks\": \"\"}}, \"type\": \"scatter\"}], \"scatter3d\": [{\"line\": {\"colorbar\": {\"outlinewidth\": 0, \"ticks\": \"\"}}, \"marker\": {\"colorbar\": {\"outlinewidth\": 0, \"ticks\": \"\"}}, \"type\": \"scatter3d\"}], \"scattercarpet\": [{\"marker\": {\"colorbar\": {\"outlinewidth\": 0, \"ticks\": \"\"}}, \"type\": \"scattercarpet\"}], \"scattergeo\": [{\"marker\": {\"colorbar\": {\"outlinewidth\": 0, \"ticks\": \"\"}}, \"type\": \"scattergeo\"}], \"scattergl\": [{\"marker\": {\"colorbar\": {\"outlinewidth\": 0, \"ticks\": \"\"}}, \"type\": \"scattergl\"}], \"scattermapbox\": [{\"marker\": {\"colorbar\": {\"outlinewidth\": 0, \"ticks\": \"\"}}, \"type\": \"scattermapbox\"}], \"scatterpolar\": [{\"marker\": {\"colorbar\": {\"outlinewidth\": 0, \"ticks\": \"\"}}, \"type\": \"scatterpolar\"}], \"scatterpolargl\": [{\"marker\": {\"colorbar\": {\"outlinewidth\": 0, \"ticks\": \"\"}}, \"type\": \"scatterpolargl\"}], \"scatterternary\": [{\"marker\": {\"colorbar\": {\"outlinewidth\": 0, \"ticks\": \"\"}}, \"type\": \"scatterternary\"}], \"surface\": [{\"colorbar\": {\"outlinewidth\": 0, \"ticks\": \"\"}, \"colorscale\": [[0.0, \"#0d0887\"], [0.1111111111111111, \"#46039f\"], [0.2222222222222222, \"#7201a8\"], [0.3333333333333333, \"#9c179e\"], [0.4444444444444444, \"#bd3786\"], [0.5555555555555556, \"#d8576b\"], [0.6666666666666666, \"#ed7953\"], [0.7777777777777778, \"#fb9f3a\"], [0.8888888888888888, \"#fdca26\"], [1.0, \"#f0f921\"]], \"type\": \"surface\"}], \"table\": [{\"cells\": {\"fill\": {\"color\": \"#EBF0F8\"}, \"line\": {\"color\": \"white\"}}, \"header\": {\"fill\": {\"color\": \"#C8D4E3\"}, \"line\": {\"color\": \"white\"}}, \"type\": \"table\"}]}, \"layout\": {\"annotationdefaults\": {\"arrowcolor\": \"#2a3f5f\", \"arrowhead\": 0, \"arrowwidth\": 1}, \"coloraxis\": {\"colorbar\": {\"outlinewidth\": 0, \"ticks\": \"\"}}, \"colorscale\": {\"diverging\": [[0, \"#8e0152\"], [0.1, \"#c51b7d\"], [0.2, \"#de77ae\"], [0.3, \"#f1b6da\"], [0.4, \"#fde0ef\"], [0.5, \"#f7f7f7\"], [0.6, \"#e6f5d0\"], [0.7, \"#b8e186\"], [0.8, \"#7fbc41\"], [0.9, \"#4d9221\"], [1, \"#276419\"]], \"sequential\": [[0.0, \"#0d0887\"], [0.1111111111111111, \"#46039f\"], [0.2222222222222222, \"#7201a8\"], [0.3333333333333333, \"#9c179e\"], [0.4444444444444444, \"#bd3786\"], [0.5555555555555556, \"#d8576b\"], [0.6666666666666666, \"#ed7953\"], [0.7777777777777778, \"#fb9f3a\"], [0.8888888888888888, \"#fdca26\"], [1.0, \"#f0f921\"]], \"sequentialminus\": [[0.0, \"#0d0887\"], [0.1111111111111111, \"#46039f\"], [0.2222222222222222, \"#7201a8\"], [0.3333333333333333, \"#9c179e\"], [0.4444444444444444, \"#bd3786\"], [0.5555555555555556, \"#d8576b\"], [0.6666666666666666, \"#ed7953\"], [0.7777777777777778, \"#fb9f3a\"], [0.8888888888888888, \"#fdca26\"], [1.0, \"#f0f921\"]]}, \"colorway\": [\"#636efa\", \"#EF553B\", \"#00cc96\", \"#ab63fa\", \"#FFA15A\", \"#19d3f3\", \"#FF6692\", \"#B6E880\", \"#FF97FF\", \"#FECB52\"], \"font\": {\"color\": \"#2a3f5f\"}, \"geo\": {\"bgcolor\": \"white\", \"lakecolor\": \"white\", \"landcolor\": \"#E5ECF6\", \"showlakes\": true, \"showland\": true, \"subunitcolor\": \"white\"}, \"hoverlabel\": {\"align\": \"left\"}, \"hovermode\": \"closest\", \"mapbox\": {\"style\": \"light\"}, \"paper_bgcolor\": \"white\", \"plot_bgcolor\": \"#E5ECF6\", \"polar\": {\"angularaxis\": {\"gridcolor\": \"white\", \"linecolor\": \"white\", \"ticks\": \"\"}, \"bgcolor\": \"#E5ECF6\", \"radialaxis\": {\"gridcolor\": \"white\", \"linecolor\": \"white\", \"ticks\": \"\"}}, \"scene\": {\"xaxis\": {\"backgroundcolor\": \"#E5ECF6\", \"gridcolor\": \"white\", \"gridwidth\": 2, \"linecolor\": \"white\", \"showbackground\": true, \"ticks\": \"\", \"zerolinecolor\": \"white\"}, \"yaxis\": {\"backgroundcolor\": \"#E5ECF6\", \"gridcolor\": \"white\", \"gridwidth\": 2, \"linecolor\": \"white\", \"showbackground\": true, \"ticks\": \"\", \"zerolinecolor\": \"white\"}, \"zaxis\": {\"backgroundcolor\": \"#E5ECF6\", \"gridcolor\": \"white\", \"gridwidth\": 2, \"linecolor\": \"white\", \"showbackground\": true, \"ticks\": \"\", \"zerolinecolor\": \"white\"}}, \"shapedefaults\": {\"line\": {\"color\": \"#2a3f5f\"}}, \"ternary\": {\"aaxis\": {\"gridcolor\": \"white\", \"linecolor\": \"white\", \"ticks\": \"\"}, \"baxis\": {\"gridcolor\": \"white\", \"linecolor\": \"white\", \"ticks\": \"\"}, \"bgcolor\": \"#E5ECF6\", \"caxis\": {\"gridcolor\": \"white\", \"linecolor\": \"white\", \"ticks\": \"\"}}, \"title\": {\"x\": 0.05}, \"xaxis\": {\"automargin\": true, \"gridcolor\": \"white\", \"linecolor\": \"white\", \"ticks\": \"\", \"title\": {\"standoff\": 15}, \"zerolinecolor\": \"white\", \"zerolinewidth\": 2}, \"yaxis\": {\"automargin\": true, \"gridcolor\": \"white\", \"linecolor\": \"white\", \"ticks\": \"\", \"title\": {\"standoff\": 15}, \"zerolinecolor\": \"white\", \"zerolinewidth\": 2}}}, \"xaxis\": {\"anchor\": \"y\", \"domain\": [0.0, 1.0], \"title\": {\"text\": \"new_deaths\"}, \"type\": \"log\"}, \"yaxis\": {\"anchor\": \"x\", \"domain\": [0.0, 1.0], \"title\": {\"text\": \"gdp_per_capita\"}}},                        {\"responsive\": true}                    ).then(function(){\n",
       "                            \n",
       "var gd = document.getElementById('5d29932b-28a6-45a3-8a05-b8c2c1b45895');\n",
       "var x = new MutationObserver(function (mutations, observer) {{\n",
       "        var display = window.getComputedStyle(gd).display;\n",
       "        if (!display || display === 'none') {{\n",
       "            console.log([gd, 'removed!']);\n",
       "            Plotly.purge(gd);\n",
       "            observer.disconnect();\n",
       "        }}\n",
       "}});\n",
       "\n",
       "// Listen for the removal of the full notebook cells\n",
       "var notebookContainer = gd.closest('#notebook-container');\n",
       "if (notebookContainer) {{\n",
       "    x.observe(notebookContainer, {childList: true});\n",
       "}}\n",
       "\n",
       "// Listen for the clearing of the current output cell\n",
       "var outputEl = gd.closest('.output');\n",
       "if (outputEl) {{\n",
       "    x.observe(outputEl, {childList: true});\n",
       "}}\n",
       "\n",
       "                        })                };                });            </script>        </div>"
      ]
     },
     "metadata": {},
     "output_type": "display_data"
    }
   ],
   "source": [
    "fig = px.scatter(df_grouped, \n",
    "                 x=\"new_deaths\", y=\"gdp_per_capita\", size=\"new_cases\", color=\"continent\",\n",
    "                 hover_name=\"location\", log_x=True, size_max=60)\n",
    "fig.show()"
   ]
  },
  {
   "cell_type": "code",
   "execution_count": null,
   "metadata": {},
   "outputs": [],
   "source": []
  },
  {
   "cell_type": "code",
   "execution_count": null,
   "metadata": {},
   "outputs": [],
   "source": []
  }
 ],
 "metadata": {
  "kernelspec": {
   "display_name": "Python 3",
   "language": "python",
   "name": "python3"
  },
  "language_info": {
   "codemirror_mode": {
    "name": "ipython",
    "version": 3
   },
   "file_extension": ".py",
   "mimetype": "text/x-python",
   "name": "python",
   "nbconvert_exporter": "python",
   "pygments_lexer": "ipython3",
   "version": "3.8.5"
  }
 },
 "nbformat": 4,
 "nbformat_minor": 4
}
