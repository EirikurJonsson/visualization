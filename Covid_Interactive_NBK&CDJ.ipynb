{
 "cells": [
  {
   "cell_type": "code",
   "execution_count": 1,
   "metadata": {},
   "outputs": [
    {
     "data": {
      "text/html": [
       "        <script type=\"text/javascript\">\n",
       "        window.PlotlyConfig = {MathJaxConfig: 'local'};\n",
       "        if (window.MathJax) {MathJax.Hub.Config({SVG: {font: \"STIX-Web\"}});}\n",
       "        if (typeof require !== 'undefined') {\n",
       "        require.undef(\"plotly\");\n",
       "        requirejs.config({\n",
       "            paths: {\n",
       "                'plotly': ['https://cdn.plot.ly/plotly-latest.min']\n",
       "            }\n",
       "        });\n",
       "        require(['plotly'], function(Plotly) {\n",
       "            window._Plotly = Plotly;\n",
       "        });\n",
       "        }\n",
       "        </script>\n",
       "        "
      ]
     },
     "metadata": {},
     "output_type": "display_data"
    }
   ],
   "source": [
    "import os\n",
    "\n",
    "import pandas as pd\n",
    "import numpy as np\n",
    "\n",
    "\n",
    "from plotly.offline import init_notebook_mode, iplot, plot\n",
    "import plotly as py\n",
    "import plotly.express as px\n",
    "import plotly.graph_objs as go\n",
    "import matplotlib.pyplot as plt\n",
    "\n",
    "init_notebook_mode(connected=True)"
   ]
  },
  {
   "cell_type": "code",
   "execution_count": 2,
   "metadata": {},
   "outputs": [],
   "source": [
    "df = pd.read_csv('owid-covid-data.csv')"
   ]
  },
  {
   "cell_type": "code",
   "execution_count": 3,
   "metadata": {},
   "outputs": [],
   "source": [
    "df['death_rate'] = (df['new_deaths_smoothed_per_million'] / df['new_cases_smoothed_per_million']).replace(np.inf,np.nan)\n",
    "df['population_coverage'] = df['total_tests'] / df['population']\n",
    "df['datetime'] = pd.to_datetime(df['date'])"
   ]
  },
  {
   "cell_type": "code",
   "execution_count": 4,
   "metadata": {},
   "outputs": [
    {
     "data": {
      "text/html": [
       "<div>\n",
       "<style scoped>\n",
       "    .dataframe tbody tr th:only-of-type {\n",
       "        vertical-align: middle;\n",
       "    }\n",
       "\n",
       "    .dataframe tbody tr th {\n",
       "        vertical-align: top;\n",
       "    }\n",
       "\n",
       "    .dataframe thead th {\n",
       "        text-align: right;\n",
       "    }\n",
       "</style>\n",
       "<table border=\"1\" class=\"dataframe\">\n",
       "  <thead>\n",
       "    <tr style=\"text-align: right;\">\n",
       "      <th></th>\n",
       "      <th>count</th>\n",
       "      <th>mean</th>\n",
       "      <th>std</th>\n",
       "      <th>min</th>\n",
       "      <th>25%</th>\n",
       "      <th>50%</th>\n",
       "      <th>75%</th>\n",
       "      <th>max</th>\n",
       "    </tr>\n",
       "  </thead>\n",
       "  <tbody>\n",
       "    <tr>\n",
       "      <th>Unnamed: 0</th>\n",
       "      <td>58698.0</td>\n",
       "      <td>2.934850e+04</td>\n",
       "      <td>1.694480e+04</td>\n",
       "      <td>0.000000e+00</td>\n",
       "      <td>1.467425e+04</td>\n",
       "      <td>2.934850e+04</td>\n",
       "      <td>4.402275e+04</td>\n",
       "      <td>5.869700e+04</td>\n",
       "    </tr>\n",
       "    <tr>\n",
       "      <th>total_cases</th>\n",
       "      <td>55046.0</td>\n",
       "      <td>1.763675e+05</td>\n",
       "      <td>1.784635e+06</td>\n",
       "      <td>1.000000e+00</td>\n",
       "      <td>1.870000e+02</td>\n",
       "      <td>2.171000e+03</td>\n",
       "      <td>2.408850e+04</td>\n",
       "      <td>5.876714e+07</td>\n",
       "    </tr>\n",
       "    <tr>\n",
       "      <th>new_cases</th>\n",
       "      <td>57752.0</td>\n",
       "      <td>2.035146e+03</td>\n",
       "      <td>1.918144e+04</td>\n",
       "      <td>-8.261000e+03</td>\n",
       "      <td>0.000000e+00</td>\n",
       "      <td>1.400000e+01</td>\n",
       "      <td>2.460000e+02</td>\n",
       "      <td>6.799700e+05</td>\n",
       "    </tr>\n",
       "    <tr>\n",
       "      <th>new_cases_smoothed</th>\n",
       "      <td>56938.0</td>\n",
       "      <td>2.002460e+03</td>\n",
       "      <td>1.869187e+04</td>\n",
       "      <td>-5.520000e+02</td>\n",
       "      <td>8.570000e-01</td>\n",
       "      <td>1.985700e+01</td>\n",
       "      <td>2.580000e+02</td>\n",
       "      <td>5.977341e+05</td>\n",
       "    </tr>\n",
       "    <tr>\n",
       "      <th>total_deaths</th>\n",
       "      <td>45535.0</td>\n",
       "      <td>7.042994e+03</td>\n",
       "      <td>5.737981e+04</td>\n",
       "      <td>1.000000e+00</td>\n",
       "      <td>1.300000e+01</td>\n",
       "      <td>8.700000e+01</td>\n",
       "      <td>7.570000e+02</td>\n",
       "      <td>1.388661e+06</td>\n",
       "    </tr>\n",
       "    <tr>\n",
       "      <th>new_deaths</th>\n",
       "      <td>57752.0</td>\n",
       "      <td>4.808862e+01</td>\n",
       "      <td>4.007257e+02</td>\n",
       "      <td>-1.918000e+03</td>\n",
       "      <td>0.000000e+00</td>\n",
       "      <td>0.000000e+00</td>\n",
       "      <td>4.000000e+00</td>\n",
       "      <td>1.193800e+04</td>\n",
       "    </tr>\n",
       "    <tr>\n",
       "      <th>new_deaths_smoothed</th>\n",
       "      <td>56938.0</td>\n",
       "      <td>4.779979e+01</td>\n",
       "      <td>3.871711e+02</td>\n",
       "      <td>-2.321430e+02</td>\n",
       "      <td>0.000000e+00</td>\n",
       "      <td>2.860000e-01</td>\n",
       "      <td>4.286000e+00</td>\n",
       "      <td>9.797714e+03</td>\n",
       "    </tr>\n",
       "    <tr>\n",
       "      <th>total_cases_per_million</th>\n",
       "      <td>54753.0</td>\n",
       "      <td>3.320269e+03</td>\n",
       "      <td>6.549652e+03</td>\n",
       "      <td>1.000000e-03</td>\n",
       "      <td>9.441600e+01</td>\n",
       "      <td>6.263680e+02</td>\n",
       "      <td>3.629404e+03</td>\n",
       "      <td>8.096810e+04</td>\n",
       "    </tr>\n",
       "    <tr>\n",
       "      <th>new_cases_per_million</th>\n",
       "      <td>57688.0</td>\n",
       "      <td>4.139261e+01</td>\n",
       "      <td>1.376125e+02</td>\n",
       "      <td>-2.212545e+03</td>\n",
       "      <td>0.000000e+00</td>\n",
       "      <td>2.273500e+00</td>\n",
       "      <td>2.713800e+01</td>\n",
       "      <td>8.652658e+03</td>\n",
       "    </tr>\n",
       "    <tr>\n",
       "      <th>new_cases_smoothed_per_million</th>\n",
       "      <td>56873.0</td>\n",
       "      <td>4.048079e+01</td>\n",
       "      <td>1.059922e+02</td>\n",
       "      <td>-2.699780e+02</td>\n",
       "      <td>2.770000e-01</td>\n",
       "      <td>3.977000e+00</td>\n",
       "      <td>3.082500e+01</td>\n",
       "      <td>2.472188e+03</td>\n",
       "    </tr>\n",
       "    <tr>\n",
       "      <th>total_deaths_per_million</th>\n",
       "      <td>45257.0</td>\n",
       "      <td>9.820383e+01</td>\n",
       "      <td>1.842503e+02</td>\n",
       "      <td>0.000000e+00</td>\n",
       "      <td>4.114000e+00</td>\n",
       "      <td>2.108100e+01</td>\n",
       "      <td>9.656800e+01</td>\n",
       "      <td>1.338267e+03</td>\n",
       "    </tr>\n",
       "    <tr>\n",
       "      <th>new_deaths_per_million</th>\n",
       "      <td>57688.0</td>\n",
       "      <td>7.092957e-01</td>\n",
       "      <td>3.062841e+00</td>\n",
       "      <td>-6.790100e+01</td>\n",
       "      <td>0.000000e+00</td>\n",
       "      <td>0.000000e+00</td>\n",
       "      <td>3.030000e-01</td>\n",
       "      <td>2.153820e+02</td>\n",
       "    </tr>\n",
       "    <tr>\n",
       "      <th>new_deaths_smoothed_per_million</th>\n",
       "      <td>56873.0</td>\n",
       "      <td>6.979584e-01</td>\n",
       "      <td>2.028484e+00</td>\n",
       "      <td>-9.678000e+00</td>\n",
       "      <td>0.000000e+00</td>\n",
       "      <td>3.000000e-02</td>\n",
       "      <td>4.460000e-01</td>\n",
       "      <td>6.314000e+01</td>\n",
       "    </tr>\n",
       "    <tr>\n",
       "      <th>reproduction_rate</th>\n",
       "      <td>38758.0</td>\n",
       "      <td>1.044327e+00</td>\n",
       "      <td>3.915881e-01</td>\n",
       "      <td>0.000000e+00</td>\n",
       "      <td>8.700000e-01</td>\n",
       "      <td>1.040000e+00</td>\n",
       "      <td>1.220000e+00</td>\n",
       "      <td>6.720000e+00</td>\n",
       "    </tr>\n",
       "    <tr>\n",
       "      <th>icu_patients</th>\n",
       "      <td>4624.0</td>\n",
       "      <td>7.532785e+02</td>\n",
       "      <td>2.077791e+03</td>\n",
       "      <td>0.000000e+00</td>\n",
       "      <td>9.000000e+00</td>\n",
       "      <td>5.000000e+01</td>\n",
       "      <td>3.450000e+02</td>\n",
       "      <td>1.535000e+04</td>\n",
       "    </tr>\n",
       "    <tr>\n",
       "      <th>icu_patients_per_million</th>\n",
       "      <td>4624.0</td>\n",
       "      <td>1.431321e+01</td>\n",
       "      <td>2.029585e+01</td>\n",
       "      <td>0.000000e+00</td>\n",
       "      <td>1.805000e+00</td>\n",
       "      <td>6.232500e+00</td>\n",
       "      <td>1.865525e+01</td>\n",
       "      <td>1.271830e+02</td>\n",
       "    </tr>\n",
       "    <tr>\n",
       "      <th>hosp_patients</th>\n",
       "      <td>5196.0</td>\n",
       "      <td>4.028224e+03</td>\n",
       "      <td>1.025423e+04</td>\n",
       "      <td>0.000000e+00</td>\n",
       "      <td>3.975000e+01</td>\n",
       "      <td>2.210000e+02</td>\n",
       "      <td>1.737250e+03</td>\n",
       "      <td>7.941000e+04</td>\n",
       "    </tr>\n",
       "    <tr>\n",
       "      <th>hosp_patients_per_million</th>\n",
       "      <td>5196.0</td>\n",
       "      <td>8.445651e+01</td>\n",
       "      <td>1.226779e+02</td>\n",
       "      <td>0.000000e+00</td>\n",
       "      <td>1.080700e+01</td>\n",
       "      <td>3.736500e+01</td>\n",
       "      <td>1.007148e+02</td>\n",
       "      <td>7.734630e+02</td>\n",
       "    </tr>\n",
       "    <tr>\n",
       "      <th>weekly_icu_admissions</th>\n",
       "      <td>396.0</td>\n",
       "      <td>2.435820e+02</td>\n",
       "      <td>5.462179e+02</td>\n",
       "      <td>0.000000e+00</td>\n",
       "      <td>3.810500e+00</td>\n",
       "      <td>2.101750e+01</td>\n",
       "      <td>1.928310e+02</td>\n",
       "      <td>4.375407e+03</td>\n",
       "    </tr>\n",
       "    <tr>\n",
       "      <th>weekly_icu_admissions_per_million</th>\n",
       "      <td>396.0</td>\n",
       "      <td>7.645217e+00</td>\n",
       "      <td>1.938481e+01</td>\n",
       "      <td>0.000000e+00</td>\n",
       "      <td>8.075000e-01</td>\n",
       "      <td>2.093000e+00</td>\n",
       "      <td>6.756000e+00</td>\n",
       "      <td>1.909900e+02</td>\n",
       "    </tr>\n",
       "    <tr>\n",
       "      <th>weekly_hosp_admissions</th>\n",
       "      <td>696.0</td>\n",
       "      <td>2.256511e+03</td>\n",
       "      <td>5.573564e+03</td>\n",
       "      <td>0.000000e+00</td>\n",
       "      <td>1.518275e+01</td>\n",
       "      <td>1.261570e+02</td>\n",
       "      <td>9.544302e+02</td>\n",
       "      <td>5.086757e+04</td>\n",
       "    </tr>\n",
       "    <tr>\n",
       "      <th>weekly_hosp_admissions_per_million</th>\n",
       "      <td>696.0</td>\n",
       "      <td>6.492776e+01</td>\n",
       "      <td>1.993184e+02</td>\n",
       "      <td>0.000000e+00</td>\n",
       "      <td>4.278750e+00</td>\n",
       "      <td>1.605800e+01</td>\n",
       "      <td>4.510925e+01</td>\n",
       "      <td>2.644163e+03</td>\n",
       "    </tr>\n",
       "    <tr>\n",
       "      <th>total_tests</th>\n",
       "      <td>22763.0</td>\n",
       "      <td>2.435633e+06</td>\n",
       "      <td>1.112046e+07</td>\n",
       "      <td>1.000000e+00</td>\n",
       "      <td>6.428650e+04</td>\n",
       "      <td>2.839400e+05</td>\n",
       "      <td>1.136108e+06</td>\n",
       "      <td>1.776726e+08</td>\n",
       "    </tr>\n",
       "    <tr>\n",
       "      <th>new_tests</th>\n",
       "      <td>22538.0</td>\n",
       "      <td>2.930774e+04</td>\n",
       "      <td>1.105009e+06</td>\n",
       "      <td>-1.155492e+08</td>\n",
       "      <td>1.064250e+03</td>\n",
       "      <td>3.845500e+03</td>\n",
       "      <td>1.436750e+04</td>\n",
       "      <td>1.176986e+08</td>\n",
       "    </tr>\n",
       "    <tr>\n",
       "      <th>total_tests_per_thousand</th>\n",
       "      <td>22763.0</td>\n",
       "      <td>8.450040e+01</td>\n",
       "      <td>1.692009e+02</td>\n",
       "      <td>0.000000e+00</td>\n",
       "      <td>4.332000e+00</td>\n",
       "      <td>2.247500e+01</td>\n",
       "      <td>9.061750e+01</td>\n",
       "      <td>2.035832e+03</td>\n",
       "    </tr>\n",
       "    <tr>\n",
       "      <th>new_tests_per_thousand</th>\n",
       "      <td>22538.0</td>\n",
       "      <td>9.535330e-01</td>\n",
       "      <td>1.932157e+00</td>\n",
       "      <td>-8.373100e+01</td>\n",
       "      <td>7.500000e-02</td>\n",
       "      <td>3.510000e-01</td>\n",
       "      <td>1.112750e+00</td>\n",
       "      <td>8.528900e+01</td>\n",
       "    </tr>\n",
       "    <tr>\n",
       "      <th>new_tests_smoothed</th>\n",
       "      <td>25497.0</td>\n",
       "      <td>2.812199e+04</td>\n",
       "      <td>1.089655e+05</td>\n",
       "      <td>0.000000e+00</td>\n",
       "      <td>1.139000e+03</td>\n",
       "      <td>4.149000e+03</td>\n",
       "      <td>1.562800e+04</td>\n",
       "      <td>1.475337e+06</td>\n",
       "    </tr>\n",
       "    <tr>\n",
       "      <th>new_tests_smoothed_per_thousand</th>\n",
       "      <td>25497.0</td>\n",
       "      <td>9.340948e-01</td>\n",
       "      <td>1.627918e+00</td>\n",
       "      <td>0.000000e+00</td>\n",
       "      <td>7.700000e-02</td>\n",
       "      <td>3.580000e-01</td>\n",
       "      <td>1.126000e+00</td>\n",
       "      <td>1.918300e+01</td>\n",
       "    </tr>\n",
       "    <tr>\n",
       "      <th>tests_per_case</th>\n",
       "      <td>23591.0</td>\n",
       "      <td>1.813589e+02</td>\n",
       "      <td>8.682092e+02</td>\n",
       "      <td>1.535000e+00</td>\n",
       "      <td>1.045250e+01</td>\n",
       "      <td>2.858400e+01</td>\n",
       "      <td>9.236300e+01</td>\n",
       "      <td>4.586400e+04</td>\n",
       "    </tr>\n",
       "    <tr>\n",
       "      <th>positive_rate</th>\n",
       "      <td>24001.0</td>\n",
       "      <td>6.895667e-02</td>\n",
       "      <td>8.939042e-02</td>\n",
       "      <td>0.000000e+00</td>\n",
       "      <td>1.000000e-02</td>\n",
       "      <td>3.400000e-02</td>\n",
       "      <td>9.400000e-02</td>\n",
       "      <td>6.510000e-01</td>\n",
       "    </tr>\n",
       "    <tr>\n",
       "      <th>stringency_index</th>\n",
       "      <td>47539.0</td>\n",
       "      <td>5.691560e+01</td>\n",
       "      <td>2.587618e+01</td>\n",
       "      <td>0.000000e+00</td>\n",
       "      <td>3.981000e+01</td>\n",
       "      <td>6.019000e+01</td>\n",
       "      <td>7.778000e+01</td>\n",
       "      <td>1.000000e+02</td>\n",
       "    </tr>\n",
       "    <tr>\n",
       "      <th>population</th>\n",
       "      <td>58369.0</td>\n",
       "      <td>8.529228e+07</td>\n",
       "      <td>6.005201e+08</td>\n",
       "      <td>8.090000e+02</td>\n",
       "      <td>1.326539e+06</td>\n",
       "      <td>7.976985e+06</td>\n",
       "      <td>2.913681e+07</td>\n",
       "      <td>7.794799e+09</td>\n",
       "    </tr>\n",
       "    <tr>\n",
       "      <th>population_density</th>\n",
       "      <td>55597.0</td>\n",
       "      <td>3.613760e+02</td>\n",
       "      <td>1.639842e+03</td>\n",
       "      <td>1.370000e-01</td>\n",
       "      <td>3.772800e+01</td>\n",
       "      <td>8.812500e+01</td>\n",
       "      <td>2.142430e+02</td>\n",
       "      <td>1.934750e+04</td>\n",
       "    </tr>\n",
       "    <tr>\n",
       "      <th>median_age</th>\n",
       "      <td>52176.0</td>\n",
       "      <td>3.117942e+01</td>\n",
       "      <td>9.047539e+00</td>\n",
       "      <td>1.510000e+01</td>\n",
       "      <td>2.320000e+01</td>\n",
       "      <td>3.110000e+01</td>\n",
       "      <td>3.970000e+01</td>\n",
       "      <td>4.820000e+01</td>\n",
       "    </tr>\n",
       "    <tr>\n",
       "      <th>aged_65_older</th>\n",
       "      <td>51389.0</td>\n",
       "      <td>9.173667e+00</td>\n",
       "      <td>6.295828e+00</td>\n",
       "      <td>1.144000e+00</td>\n",
       "      <td>3.548000e+00</td>\n",
       "      <td>6.933000e+00</td>\n",
       "      <td>1.473800e+01</td>\n",
       "      <td>2.704900e+01</td>\n",
       "    </tr>\n",
       "    <tr>\n",
       "      <th>aged_70_older</th>\n",
       "      <td>51904.0</td>\n",
       "      <td>5.796075e+00</td>\n",
       "      <td>4.294356e+00</td>\n",
       "      <td>5.260000e-01</td>\n",
       "      <td>2.085000e+00</td>\n",
       "      <td>4.321000e+00</td>\n",
       "      <td>9.395000e+00</td>\n",
       "      <td>1.849300e+01</td>\n",
       "    </tr>\n",
       "    <tr>\n",
       "      <th>gdp_per_capita</th>\n",
       "      <td>51497.0</td>\n",
       "      <td>2.059794e+04</td>\n",
       "      <td>2.030216e+04</td>\n",
       "      <td>6.612400e+02</td>\n",
       "      <td>5.321444e+03</td>\n",
       "      <td>1.391384e+04</td>\n",
       "      <td>3.015515e+04</td>\n",
       "      <td>1.169356e+05</td>\n",
       "    </tr>\n",
       "    <tr>\n",
       "      <th>extreme_poverty</th>\n",
       "      <td>34310.0</td>\n",
       "      <td>1.246869e+01</td>\n",
       "      <td>1.944807e+01</td>\n",
       "      <td>1.000000e-01</td>\n",
       "      <td>5.000000e-01</td>\n",
       "      <td>2.000000e+00</td>\n",
       "      <td>1.880000e+01</td>\n",
       "      <td>7.760000e+01</td>\n",
       "    </tr>\n",
       "    <tr>\n",
       "      <th>cardiovasc_death_rate</th>\n",
       "      <td>52147.0</td>\n",
       "      <td>2.528205e+02</td>\n",
       "      <td>1.175676e+02</td>\n",
       "      <td>7.937000e+01</td>\n",
       "      <td>1.561390e+02</td>\n",
       "      <td>2.402080e+02</td>\n",
       "      <td>3.189910e+02</td>\n",
       "      <td>7.244170e+02</td>\n",
       "    </tr>\n",
       "    <tr>\n",
       "      <th>diabetes_prevalence</th>\n",
       "      <td>54071.0</td>\n",
       "      <td>8.074392e+00</td>\n",
       "      <td>4.197678e+00</td>\n",
       "      <td>9.900000e-01</td>\n",
       "      <td>5.310000e+00</td>\n",
       "      <td>7.140000e+00</td>\n",
       "      <td>1.039000e+01</td>\n",
       "      <td>3.053000e+01</td>\n",
       "    </tr>\n",
       "    <tr>\n",
       "      <th>female_smokers</th>\n",
       "      <td>40521.0</td>\n",
       "      <td>1.073611e+01</td>\n",
       "      <td>1.046966e+01</td>\n",
       "      <td>1.000000e-01</td>\n",
       "      <td>1.900000e+00</td>\n",
       "      <td>6.300000e+00</td>\n",
       "      <td>1.960000e+01</td>\n",
       "      <td>4.400000e+01</td>\n",
       "    </tr>\n",
       "    <tr>\n",
       "      <th>male_smokers</th>\n",
       "      <td>40003.0</td>\n",
       "      <td>3.264119e+01</td>\n",
       "      <td>1.345533e+01</td>\n",
       "      <td>7.700000e+00</td>\n",
       "      <td>2.140000e+01</td>\n",
       "      <td>3.140000e+01</td>\n",
       "      <td>4.090000e+01</td>\n",
       "      <td>7.810000e+01</td>\n",
       "    </tr>\n",
       "    <tr>\n",
       "      <th>handwashing_facilities</th>\n",
       "      <td>24746.0</td>\n",
       "      <td>5.204774e+01</td>\n",
       "      <td>3.164824e+01</td>\n",
       "      <td>1.188000e+00</td>\n",
       "      <td>2.122200e+01</td>\n",
       "      <td>5.223200e+01</td>\n",
       "      <td>8.374100e+01</td>\n",
       "      <td>9.899900e+01</td>\n",
       "    </tr>\n",
       "    <tr>\n",
       "      <th>hospital_beds_per_thousand</th>\n",
       "      <td>46938.0</td>\n",
       "      <td>3.088129e+00</td>\n",
       "      <td>2.511641e+00</td>\n",
       "      <td>1.000000e-01</td>\n",
       "      <td>1.300000e+00</td>\n",
       "      <td>2.500000e+00</td>\n",
       "      <td>4.200000e+00</td>\n",
       "      <td>1.380000e+01</td>\n",
       "    </tr>\n",
       "    <tr>\n",
       "      <th>life_expectancy</th>\n",
       "      <td>57616.0</td>\n",
       "      <td>7.393111e+01</td>\n",
       "      <td>7.399884e+00</td>\n",
       "      <td>5.328000e+01</td>\n",
       "      <td>6.987000e+01</td>\n",
       "      <td>7.529000e+01</td>\n",
       "      <td>7.938000e+01</td>\n",
       "      <td>8.675000e+01</td>\n",
       "    </tr>\n",
       "    <tr>\n",
       "      <th>human_development_index</th>\n",
       "      <td>50353.0</td>\n",
       "      <td>7.220054e-01</td>\n",
       "      <td>1.533241e-01</td>\n",
       "      <td>3.540000e-01</td>\n",
       "      <td>6.010000e-01</td>\n",
       "      <td>7.520000e-01</td>\n",
       "      <td>8.470000e-01</td>\n",
       "      <td>9.530000e-01</td>\n",
       "    </tr>\n",
       "    <tr>\n",
       "      <th>lat</th>\n",
       "      <td>58698.0</td>\n",
       "      <td>2.026007e+01</td>\n",
       "      <td>2.367066e+01</td>\n",
       "      <td>-4.090056e+01</td>\n",
       "      <td>3.202778e+00</td>\n",
       "      <td>1.822083e+01</td>\n",
       "      <td>4.046367e+01</td>\n",
       "      <td>7.170694e+01</td>\n",
       "    </tr>\n",
       "    <tr>\n",
       "      <th>long</th>\n",
       "      <td>58698.0</td>\n",
       "      <td>1.459523e+01</td>\n",
       "      <td>5.990785e+01</td>\n",
       "      <td>-1.771561e+02</td>\n",
       "      <td>-8.243890e+00</td>\n",
       "      <td>1.455007e+01</td>\n",
       "      <td>4.367929e+01</td>\n",
       "      <td>1.794144e+02</td>\n",
       "    </tr>\n",
       "    <tr>\n",
       "      <th>death_rate</th>\n",
       "      <td>48647.0</td>\n",
       "      <td>3.037250e-02</td>\n",
       "      <td>1.503124e-01</td>\n",
       "      <td>-2.597195e+00</td>\n",
       "      <td>0.000000e+00</td>\n",
       "      <td>1.085976e-02</td>\n",
       "      <td>2.896365e-02</td>\n",
       "      <td>2.681765e+01</td>\n",
       "    </tr>\n",
       "    <tr>\n",
       "      <th>population_coverage</th>\n",
       "      <td>22763.0</td>\n",
       "      <td>8.450040e-02</td>\n",
       "      <td>1.692009e-01</td>\n",
       "      <td>8.698407e-09</td>\n",
       "      <td>4.332185e-03</td>\n",
       "      <td>2.247460e-02</td>\n",
       "      <td>9.061789e-02</td>\n",
       "      <td>2.035832e+00</td>\n",
       "    </tr>\n",
       "  </tbody>\n",
       "</table>\n",
       "</div>"
      ],
      "text/plain": [
       "                                      count          mean           std  \\\n",
       "Unnamed: 0                          58698.0  2.934850e+04  1.694480e+04   \n",
       "total_cases                         55046.0  1.763675e+05  1.784635e+06   \n",
       "new_cases                           57752.0  2.035146e+03  1.918144e+04   \n",
       "new_cases_smoothed                  56938.0  2.002460e+03  1.869187e+04   \n",
       "total_deaths                        45535.0  7.042994e+03  5.737981e+04   \n",
       "new_deaths                          57752.0  4.808862e+01  4.007257e+02   \n",
       "new_deaths_smoothed                 56938.0  4.779979e+01  3.871711e+02   \n",
       "total_cases_per_million             54753.0  3.320269e+03  6.549652e+03   \n",
       "new_cases_per_million               57688.0  4.139261e+01  1.376125e+02   \n",
       "new_cases_smoothed_per_million      56873.0  4.048079e+01  1.059922e+02   \n",
       "total_deaths_per_million            45257.0  9.820383e+01  1.842503e+02   \n",
       "new_deaths_per_million              57688.0  7.092957e-01  3.062841e+00   \n",
       "new_deaths_smoothed_per_million     56873.0  6.979584e-01  2.028484e+00   \n",
       "reproduction_rate                   38758.0  1.044327e+00  3.915881e-01   \n",
       "icu_patients                         4624.0  7.532785e+02  2.077791e+03   \n",
       "icu_patients_per_million             4624.0  1.431321e+01  2.029585e+01   \n",
       "hosp_patients                        5196.0  4.028224e+03  1.025423e+04   \n",
       "hosp_patients_per_million            5196.0  8.445651e+01  1.226779e+02   \n",
       "weekly_icu_admissions                 396.0  2.435820e+02  5.462179e+02   \n",
       "weekly_icu_admissions_per_million     396.0  7.645217e+00  1.938481e+01   \n",
       "weekly_hosp_admissions                696.0  2.256511e+03  5.573564e+03   \n",
       "weekly_hosp_admissions_per_million    696.0  6.492776e+01  1.993184e+02   \n",
       "total_tests                         22763.0  2.435633e+06  1.112046e+07   \n",
       "new_tests                           22538.0  2.930774e+04  1.105009e+06   \n",
       "total_tests_per_thousand            22763.0  8.450040e+01  1.692009e+02   \n",
       "new_tests_per_thousand              22538.0  9.535330e-01  1.932157e+00   \n",
       "new_tests_smoothed                  25497.0  2.812199e+04  1.089655e+05   \n",
       "new_tests_smoothed_per_thousand     25497.0  9.340948e-01  1.627918e+00   \n",
       "tests_per_case                      23591.0  1.813589e+02  8.682092e+02   \n",
       "positive_rate                       24001.0  6.895667e-02  8.939042e-02   \n",
       "stringency_index                    47539.0  5.691560e+01  2.587618e+01   \n",
       "population                          58369.0  8.529228e+07  6.005201e+08   \n",
       "population_density                  55597.0  3.613760e+02  1.639842e+03   \n",
       "median_age                          52176.0  3.117942e+01  9.047539e+00   \n",
       "aged_65_older                       51389.0  9.173667e+00  6.295828e+00   \n",
       "aged_70_older                       51904.0  5.796075e+00  4.294356e+00   \n",
       "gdp_per_capita                      51497.0  2.059794e+04  2.030216e+04   \n",
       "extreme_poverty                     34310.0  1.246869e+01  1.944807e+01   \n",
       "cardiovasc_death_rate               52147.0  2.528205e+02  1.175676e+02   \n",
       "diabetes_prevalence                 54071.0  8.074392e+00  4.197678e+00   \n",
       "female_smokers                      40521.0  1.073611e+01  1.046966e+01   \n",
       "male_smokers                        40003.0  3.264119e+01  1.345533e+01   \n",
       "handwashing_facilities              24746.0  5.204774e+01  3.164824e+01   \n",
       "hospital_beds_per_thousand          46938.0  3.088129e+00  2.511641e+00   \n",
       "life_expectancy                     57616.0  7.393111e+01  7.399884e+00   \n",
       "human_development_index             50353.0  7.220054e-01  1.533241e-01   \n",
       "lat                                 58698.0  2.026007e+01  2.367066e+01   \n",
       "long                                58698.0  1.459523e+01  5.990785e+01   \n",
       "death_rate                          48647.0  3.037250e-02  1.503124e-01   \n",
       "population_coverage                 22763.0  8.450040e-02  1.692009e-01   \n",
       "\n",
       "                                             min           25%           50%  \\\n",
       "Unnamed: 0                          0.000000e+00  1.467425e+04  2.934850e+04   \n",
       "total_cases                         1.000000e+00  1.870000e+02  2.171000e+03   \n",
       "new_cases                          -8.261000e+03  0.000000e+00  1.400000e+01   \n",
       "new_cases_smoothed                 -5.520000e+02  8.570000e-01  1.985700e+01   \n",
       "total_deaths                        1.000000e+00  1.300000e+01  8.700000e+01   \n",
       "new_deaths                         -1.918000e+03  0.000000e+00  0.000000e+00   \n",
       "new_deaths_smoothed                -2.321430e+02  0.000000e+00  2.860000e-01   \n",
       "total_cases_per_million             1.000000e-03  9.441600e+01  6.263680e+02   \n",
       "new_cases_per_million              -2.212545e+03  0.000000e+00  2.273500e+00   \n",
       "new_cases_smoothed_per_million     -2.699780e+02  2.770000e-01  3.977000e+00   \n",
       "total_deaths_per_million            0.000000e+00  4.114000e+00  2.108100e+01   \n",
       "new_deaths_per_million             -6.790100e+01  0.000000e+00  0.000000e+00   \n",
       "new_deaths_smoothed_per_million    -9.678000e+00  0.000000e+00  3.000000e-02   \n",
       "reproduction_rate                   0.000000e+00  8.700000e-01  1.040000e+00   \n",
       "icu_patients                        0.000000e+00  9.000000e+00  5.000000e+01   \n",
       "icu_patients_per_million            0.000000e+00  1.805000e+00  6.232500e+00   \n",
       "hosp_patients                       0.000000e+00  3.975000e+01  2.210000e+02   \n",
       "hosp_patients_per_million           0.000000e+00  1.080700e+01  3.736500e+01   \n",
       "weekly_icu_admissions               0.000000e+00  3.810500e+00  2.101750e+01   \n",
       "weekly_icu_admissions_per_million   0.000000e+00  8.075000e-01  2.093000e+00   \n",
       "weekly_hosp_admissions              0.000000e+00  1.518275e+01  1.261570e+02   \n",
       "weekly_hosp_admissions_per_million  0.000000e+00  4.278750e+00  1.605800e+01   \n",
       "total_tests                         1.000000e+00  6.428650e+04  2.839400e+05   \n",
       "new_tests                          -1.155492e+08  1.064250e+03  3.845500e+03   \n",
       "total_tests_per_thousand            0.000000e+00  4.332000e+00  2.247500e+01   \n",
       "new_tests_per_thousand             -8.373100e+01  7.500000e-02  3.510000e-01   \n",
       "new_tests_smoothed                  0.000000e+00  1.139000e+03  4.149000e+03   \n",
       "new_tests_smoothed_per_thousand     0.000000e+00  7.700000e-02  3.580000e-01   \n",
       "tests_per_case                      1.535000e+00  1.045250e+01  2.858400e+01   \n",
       "positive_rate                       0.000000e+00  1.000000e-02  3.400000e-02   \n",
       "stringency_index                    0.000000e+00  3.981000e+01  6.019000e+01   \n",
       "population                          8.090000e+02  1.326539e+06  7.976985e+06   \n",
       "population_density                  1.370000e-01  3.772800e+01  8.812500e+01   \n",
       "median_age                          1.510000e+01  2.320000e+01  3.110000e+01   \n",
       "aged_65_older                       1.144000e+00  3.548000e+00  6.933000e+00   \n",
       "aged_70_older                       5.260000e-01  2.085000e+00  4.321000e+00   \n",
       "gdp_per_capita                      6.612400e+02  5.321444e+03  1.391384e+04   \n",
       "extreme_poverty                     1.000000e-01  5.000000e-01  2.000000e+00   \n",
       "cardiovasc_death_rate               7.937000e+01  1.561390e+02  2.402080e+02   \n",
       "diabetes_prevalence                 9.900000e-01  5.310000e+00  7.140000e+00   \n",
       "female_smokers                      1.000000e-01  1.900000e+00  6.300000e+00   \n",
       "male_smokers                        7.700000e+00  2.140000e+01  3.140000e+01   \n",
       "handwashing_facilities              1.188000e+00  2.122200e+01  5.223200e+01   \n",
       "hospital_beds_per_thousand          1.000000e-01  1.300000e+00  2.500000e+00   \n",
       "life_expectancy                     5.328000e+01  6.987000e+01  7.529000e+01   \n",
       "human_development_index             3.540000e-01  6.010000e-01  7.520000e-01   \n",
       "lat                                -4.090056e+01  3.202778e+00  1.822083e+01   \n",
       "long                               -1.771561e+02 -8.243890e+00  1.455007e+01   \n",
       "death_rate                         -2.597195e+00  0.000000e+00  1.085976e-02   \n",
       "population_coverage                 8.698407e-09  4.332185e-03  2.247460e-02   \n",
       "\n",
       "                                             75%           max  \n",
       "Unnamed: 0                          4.402275e+04  5.869700e+04  \n",
       "total_cases                         2.408850e+04  5.876714e+07  \n",
       "new_cases                           2.460000e+02  6.799700e+05  \n",
       "new_cases_smoothed                  2.580000e+02  5.977341e+05  \n",
       "total_deaths                        7.570000e+02  1.388661e+06  \n",
       "new_deaths                          4.000000e+00  1.193800e+04  \n",
       "new_deaths_smoothed                 4.286000e+00  9.797714e+03  \n",
       "total_cases_per_million             3.629404e+03  8.096810e+04  \n",
       "new_cases_per_million               2.713800e+01  8.652658e+03  \n",
       "new_cases_smoothed_per_million      3.082500e+01  2.472188e+03  \n",
       "total_deaths_per_million            9.656800e+01  1.338267e+03  \n",
       "new_deaths_per_million              3.030000e-01  2.153820e+02  \n",
       "new_deaths_smoothed_per_million     4.460000e-01  6.314000e+01  \n",
       "reproduction_rate                   1.220000e+00  6.720000e+00  \n",
       "icu_patients                        3.450000e+02  1.535000e+04  \n",
       "icu_patients_per_million            1.865525e+01  1.271830e+02  \n",
       "hosp_patients                       1.737250e+03  7.941000e+04  \n",
       "hosp_patients_per_million           1.007148e+02  7.734630e+02  \n",
       "weekly_icu_admissions               1.928310e+02  4.375407e+03  \n",
       "weekly_icu_admissions_per_million   6.756000e+00  1.909900e+02  \n",
       "weekly_hosp_admissions              9.544302e+02  5.086757e+04  \n",
       "weekly_hosp_admissions_per_million  4.510925e+01  2.644163e+03  \n",
       "total_tests                         1.136108e+06  1.776726e+08  \n",
       "new_tests                           1.436750e+04  1.176986e+08  \n",
       "total_tests_per_thousand            9.061750e+01  2.035832e+03  \n",
       "new_tests_per_thousand              1.112750e+00  8.528900e+01  \n",
       "new_tests_smoothed                  1.562800e+04  1.475337e+06  \n",
       "new_tests_smoothed_per_thousand     1.126000e+00  1.918300e+01  \n",
       "tests_per_case                      9.236300e+01  4.586400e+04  \n",
       "positive_rate                       9.400000e-02  6.510000e-01  \n",
       "stringency_index                    7.778000e+01  1.000000e+02  \n",
       "population                          2.913681e+07  7.794799e+09  \n",
       "population_density                  2.142430e+02  1.934750e+04  \n",
       "median_age                          3.970000e+01  4.820000e+01  \n",
       "aged_65_older                       1.473800e+01  2.704900e+01  \n",
       "aged_70_older                       9.395000e+00  1.849300e+01  \n",
       "gdp_per_capita                      3.015515e+04  1.169356e+05  \n",
       "extreme_poverty                     1.880000e+01  7.760000e+01  \n",
       "cardiovasc_death_rate               3.189910e+02  7.244170e+02  \n",
       "diabetes_prevalence                 1.039000e+01  3.053000e+01  \n",
       "female_smokers                      1.960000e+01  4.400000e+01  \n",
       "male_smokers                        4.090000e+01  7.810000e+01  \n",
       "handwashing_facilities              8.374100e+01  9.899900e+01  \n",
       "hospital_beds_per_thousand          4.200000e+00  1.380000e+01  \n",
       "life_expectancy                     7.938000e+01  8.675000e+01  \n",
       "human_development_index             8.470000e-01  9.530000e-01  \n",
       "lat                                 4.046367e+01  7.170694e+01  \n",
       "long                                4.367929e+01  1.794144e+02  \n",
       "death_rate                          2.896365e-02  2.681765e+01  \n",
       "population_coverage                 9.061789e-02  2.035832e+00  "
      ]
     },
     "execution_count": 4,
     "metadata": {},
     "output_type": "execute_result"
    }
   ],
   "source": [
    "df.describe().T"
   ]
  },
  {
   "cell_type": "code",
   "execution_count": 5,
   "metadata": {},
   "outputs": [
    {
     "ename": "SyntaxError",
     "evalue": "invalid syntax (<ipython-input-5-62b8402edc6e>, line 1)",
     "output_type": "error",
     "traceback": [
      "\u001b[0;36m  File \u001b[0;32m\"<ipython-input-5-62b8402edc6e>\"\u001b[0;36m, line \u001b[0;32m1\u001b[0m\n\u001b[0;31m    problem_idx = df[(df['new_cases'] == None)|(df['new_deaths'] == None)|(df['new_cases_smoothed']!=)|(df['new_deaths_smoothed']<0)|(df['new_cases_per_million']<0)|(df['new_deaths_per_million']<0)\u001b[0m\n\u001b[0m                                                                                                     ^\u001b[0m\n\u001b[0;31mSyntaxError\u001b[0m\u001b[0;31m:\u001b[0m invalid syntax\n"
     ]
    }
   ],
   "source": [
    "problem_idx = df[(df['new_cases'] == None)|(df['new_deaths'] == None)|(df['new_cases_smoothed']!=)|(df['new_deaths_smoothed']<0)|(df['new_cases_per_million']<0)|(df['new_deaths_per_million']<0)\n",
    "                 |(df['new_deaths_smoothed_per_million']!=)|(df['new_tests']!=None)|(df['new_tests_per_thousand']!=None)|(df['location'].isin(['World']))].index"
   ]
  },
  {
   "cell_type": "code",
   "execution_count": null,
   "metadata": {},
   "outputs": [],
   "source": []
  },
  {
   "cell_type": "code",
   "execution_count": 6,
   "metadata": {},
   "outputs": [
    {
     "data": {
      "text/plain": [
       "Unnamed: 0                                           4376\n",
       "iso_code                                              BEN\n",
       "continent                                          Africa\n",
       "location                                            Benin\n",
       "date                                           2020-05-20\n",
       "total_cases                                           130\n",
       "new_cases                                            -209\n",
       "new_cases_smoothed                                -28.143\n",
       "total_deaths                                            2\n",
       "new_deaths                                              0\n",
       "new_deaths_smoothed                                     0\n",
       "total_cases_per_million                            10.723\n",
       "new_cases_per_million                              -17.24\n",
       "new_cases_smoothed_per_million                     -2.321\n",
       "total_deaths_per_million                            0.165\n",
       "new_deaths_per_million                                  0\n",
       "new_deaths_smoothed_per_million                         0\n",
       "reproduction_rate                                    0.99\n",
       "icu_patients                                          NaN\n",
       "icu_patients_per_million                              NaN\n",
       "hosp_patients                                         NaN\n",
       "hosp_patients_per_million                             NaN\n",
       "weekly_icu_admissions                                 NaN\n",
       "weekly_icu_admissions_per_million                     NaN\n",
       "weekly_hosp_admissions                                NaN\n",
       "weekly_hosp_admissions_per_million                    NaN\n",
       "total_tests                                           NaN\n",
       "new_tests                                             NaN\n",
       "total_tests_per_thousand                              NaN\n",
       "new_tests_per_thousand                                NaN\n",
       "new_tests_smoothed                                    NaN\n",
       "new_tests_smoothed_per_thousand                       NaN\n",
       "tests_per_case                                        NaN\n",
       "positive_rate                                         NaN\n",
       "tests_units                                           NaN\n",
       "stringency_index                                    57.41\n",
       "population                                    1.21232e+07\n",
       "population_density                                  99.11\n",
       "median_age                                           18.8\n",
       "aged_65_older                                       3.244\n",
       "aged_70_older                                       1.942\n",
       "gdp_per_capita                                    2064.24\n",
       "extreme_poverty                                      49.6\n",
       "cardiovasc_death_rate                             235.848\n",
       "diabetes_prevalence                                  0.99\n",
       "female_smokers                                        0.6\n",
       "male_smokers                                         12.3\n",
       "handwashing_facilities                             11.035\n",
       "hospital_beds_per_thousand                            0.5\n",
       "life_expectancy                                     61.77\n",
       "human_development_index                             0.515\n",
       "lat                                               9.30769\n",
       "long                                              2.31583\n",
       "death_rate                                             -0\n",
       "population_coverage                                   NaN\n",
       "datetime                              2020-05-20 00:00:00\n",
       "Name: 4376, dtype: object"
      ]
     },
     "execution_count": 6,
     "metadata": {},
     "output_type": "execute_result"
    }
   ],
   "source": [
    "df.loc[4376,:]"
   ]
  },
  {
   "cell_type": "code",
   "execution_count": 7,
   "metadata": {},
   "outputs": [
    {
     "ename": "NameError",
     "evalue": "name 'problem_idx' is not defined",
     "output_type": "error",
     "traceback": [
      "\u001b[0;31m------------------------------------------------------------------\u001b[0m",
      "\u001b[0;31mNameError\u001b[0m                        Traceback (most recent call last)",
      "\u001b[0;32m<ipython-input-7-66e71e00c4bc>\u001b[0m in \u001b[0;36m<module>\u001b[0;34m\u001b[0m\n\u001b[0;32m----> 1\u001b[0;31m \u001b[0mdf\u001b[0m \u001b[0;34m=\u001b[0m \u001b[0mdf\u001b[0m\u001b[0;34m[\u001b[0m\u001b[0;34m~\u001b[0m\u001b[0mdf\u001b[0m\u001b[0;34m.\u001b[0m\u001b[0mindex\u001b[0m\u001b[0;34m.\u001b[0m\u001b[0misin\u001b[0m\u001b[0;34m(\u001b[0m\u001b[0mproblem_idx\u001b[0m\u001b[0;34m)\u001b[0m\u001b[0;34m]\u001b[0m\u001b[0;34m\u001b[0m\u001b[0;34m\u001b[0m\u001b[0m\n\u001b[0m\u001b[1;32m      2\u001b[0m \u001b[0mdf\u001b[0m \u001b[0;34m=\u001b[0m \u001b[0mdf\u001b[0m\u001b[0;34m[\u001b[0m\u001b[0;34m~\u001b[0m\u001b[0mdf\u001b[0m\u001b[0;34m[\u001b[0m\u001b[0;34m'date'\u001b[0m\u001b[0;34m]\u001b[0m\u001b[0;34m.\u001b[0m\u001b[0misin\u001b[0m\u001b[0;34m(\u001b[0m\u001b[0;34m[\u001b[0m\u001b[0;34m'2020-09-18'\u001b[0m\u001b[0;34m,\u001b[0m \u001b[0;34m'2020-09-19'\u001b[0m\u001b[0;34m]\u001b[0m\u001b[0;34m)\u001b[0m\u001b[0;34m]\u001b[0m\u001b[0;34m.\u001b[0m\u001b[0mreset_index\u001b[0m\u001b[0;34m(\u001b[0m\u001b[0mdrop\u001b[0m\u001b[0;34m=\u001b[0m\u001b[0;32mTrue\u001b[0m\u001b[0;34m)\u001b[0m\u001b[0;34m\u001b[0m\u001b[0;34m\u001b[0m\u001b[0m\n",
      "\u001b[0;31mNameError\u001b[0m: name 'problem_idx' is not defined"
     ]
    }
   ],
   "source": [
    "df = df[~df.index.isin(problem_idx)]\n",
    "df = df[~df['date'].isin(['2020-09-18', '2020-09-19'])].reset_index(drop=True)"
   ]
  },
  {
   "cell_type": "code",
   "execution_count": 8,
   "metadata": {},
   "outputs": [
    {
     "data": {
      "application/vnd.plotly.v1+json": {
       "config": {
        "linkText": "Export to plot.ly",
        "plotlyServerURL": "https://plot.ly",
        "showLink": false
       },
       "data": [
        {
         "marker": {
          "color": "green"
         },
         "mode": "lines",
         "name": "Asia",
         "type": "scatter",
         "x": [
          "2020-03-01",
          "2020-03-02",
          "2020-03-03",
          "2020-03-04",
          "2020-03-05",
          "2020-03-06",
          "2020-03-07",
          "2020-03-08",
          "2020-03-09",
          "2020-03-10",
          "2020-03-11",
          "2020-03-12",
          "2020-03-13",
          "2020-03-14",
          "2020-03-15",
          "2020-03-16",
          "2020-03-17",
          "2020-03-18",
          "2020-03-19",
          "2020-03-20",
          "2020-03-21",
          "2020-03-22",
          "2020-03-23",
          "2020-03-24",
          "2020-03-25",
          "2020-03-26",
          "2020-03-27",
          "2020-03-28",
          "2020-03-29",
          "2020-03-30",
          "2020-03-31",
          "2020-04-01",
          "2020-04-02",
          "2020-04-03",
          "2020-04-04",
          "2020-04-05",
          "2020-04-06",
          "2020-04-07",
          "2020-04-08",
          "2020-04-09",
          "2020-04-10",
          "2020-04-11",
          "2020-04-12",
          "2020-04-13",
          "2020-04-14",
          "2020-04-15",
          "2020-04-16",
          "2020-04-17",
          "2020-04-18",
          "2020-04-19",
          "2020-04-20",
          "2020-04-21",
          "2020-04-22",
          "2020-04-23",
          "2020-04-24",
          "2020-04-25",
          "2020-04-26",
          "2020-04-27",
          "2020-04-28",
          "2020-04-29",
          "2020-04-30",
          "2020-05-01",
          "2020-05-02",
          "2020-05-03",
          "2020-05-04",
          "2020-05-05",
          "2020-05-06",
          "2020-05-07",
          "2020-05-08",
          "2020-05-09",
          "2020-05-10",
          "2020-05-11",
          "2020-05-12",
          "2020-05-13",
          "2020-05-14",
          "2020-05-15",
          "2020-05-16",
          "2020-05-17",
          "2020-05-18",
          "2020-05-19",
          "2020-05-20",
          "2020-05-21",
          "2020-05-22",
          "2020-05-23",
          "2020-05-24",
          "2020-05-25",
          "2020-05-26",
          "2020-05-27",
          "2020-05-28",
          "2020-05-29",
          "2020-05-30",
          "2020-05-31",
          "2020-06-01",
          "2020-06-02",
          "2020-06-03",
          "2020-06-04",
          "2020-06-05",
          "2020-06-06",
          "2020-06-07",
          "2020-06-08",
          "2020-06-09",
          "2020-06-10",
          "2020-06-11",
          "2020-06-12",
          "2020-06-13",
          "2020-06-14",
          "2020-06-15",
          "2020-06-16",
          "2020-06-17",
          "2020-06-18",
          "2020-06-19",
          "2020-06-20",
          "2020-06-21",
          "2020-06-22",
          "2020-06-23",
          "2020-06-24",
          "2020-06-25",
          "2020-06-26",
          "2020-06-27",
          "2020-06-28",
          "2020-06-29",
          "2020-06-30",
          "2020-07-01",
          "2020-07-02",
          "2020-07-03",
          "2020-07-04",
          "2020-07-05",
          "2020-07-06",
          "2020-07-07",
          "2020-07-08",
          "2020-07-09",
          "2020-07-10",
          "2020-07-11",
          "2020-07-12",
          "2020-07-13",
          "2020-07-14",
          "2020-07-15",
          "2020-07-16",
          "2020-07-17",
          "2020-07-18",
          "2020-07-19",
          "2020-07-20",
          "2020-07-21",
          "2020-07-22",
          "2020-07-23",
          "2020-07-24",
          "2020-07-25",
          "2020-07-26",
          "2020-07-27",
          "2020-07-28",
          "2020-07-29",
          "2020-07-30",
          "2020-07-31",
          "2020-08-01",
          "2020-08-02",
          "2020-08-03",
          "2020-08-04",
          "2020-08-05",
          "2020-08-06",
          "2020-08-07",
          "2020-08-08",
          "2020-08-09",
          "2020-08-10",
          "2020-08-11",
          "2020-08-12",
          "2020-08-13",
          "2020-08-14",
          "2020-08-15",
          "2020-08-16",
          "2020-08-17",
          "2020-08-18",
          "2020-08-19",
          "2020-08-20",
          "2020-08-21",
          "2020-08-22",
          "2020-08-23",
          "2020-08-24",
          "2020-08-25",
          "2020-08-26",
          "2020-08-27",
          "2020-08-28",
          "2020-08-29",
          "2020-08-30",
          "2020-08-31",
          "2020-09-01",
          "2020-09-02",
          "2020-09-03",
          "2020-09-04",
          "2020-09-05",
          "2020-09-06",
          "2020-09-07",
          "2020-09-08",
          "2020-09-09",
          "2020-09-10",
          "2020-09-11",
          "2020-09-12",
          "2020-09-13",
          "2020-09-14",
          "2020-09-15",
          "2020-09-16",
          "2020-09-17",
          "2020-09-18",
          "2020-09-19",
          "2020-09-20",
          "2020-09-21",
          "2020-09-22",
          "2020-09-23",
          "2020-09-24",
          "2020-09-25",
          "2020-09-26",
          "2020-09-27",
          "2020-09-28",
          "2020-09-29",
          "2020-09-30",
          "2020-10-01",
          "2020-10-02",
          "2020-10-03",
          "2020-10-04",
          "2020-10-05",
          "2020-10-06",
          "2020-10-07",
          "2020-10-08",
          "2020-10-09",
          "2020-10-10",
          "2020-10-11",
          "2020-10-12",
          "2020-10-13",
          "2020-10-14",
          "2020-10-15",
          "2020-10-16",
          "2020-10-17",
          "2020-10-18",
          "2020-10-19",
          "2020-10-20",
          "2020-10-21",
          "2020-10-22",
          "2020-10-23",
          "2020-10-24",
          "2020-10-25",
          "2020-10-26",
          "2020-10-27",
          "2020-10-28",
          "2020-10-29",
          "2020-10-30",
          "2020-10-31",
          "2020-11-01",
          "2020-11-02",
          "2020-11-03",
          "2020-11-04",
          "2020-11-05",
          "2020-11-06",
          "2020-11-07",
          "2020-11-08",
          "2020-11-09",
          "2020-11-10",
          "2020-11-11",
          "2020-11-12",
          "2020-11-13",
          "2020-11-14",
          "2020-11-15",
          "2020-11-16",
          "2020-11-17",
          "2020-11-18",
          "2020-11-19",
          "2020-11-20",
          "2020-11-21",
          "2020-11-22",
          "2020-11-23"
         ],
         "y": [
          1.9104530171226313,
          1.5360177054163897,
          1.7628414900902352,
          2.5495470128397497,
          1.5384102725349342,
          1.8160325267568345,
          1.6490887745637002,
          1.3680313131535238,
          1.7429866210240668,
          1.9590812907013786,
          2.3885908194608936,
          2.593187336905674,
          2.9227339923663798,
          3.5695720874016423,
          3.4160823873477435,
          2.856819877783138,
          2.76231882189278,
          2.4117878642030273,
          2.29524526125118,
          2.0899475237795384,
          1.9228022478069202,
          2.250381267714987,
          2.551355986876148,
          2.404011384165655,
          2.1033218258404887,
          2.059513456577993,
          2.124503678713645,
          1.9557573233657692,
          2.1317666645641036,
          2.305215285664866,
          2.5844509630555605,
          2.91270152295093,
          2.810434245713044,
          2.9157625339032998,
          2.915728297565711,
          2.941279358826201,
          2.6395415022646156,
          2.4146433675670953,
          2.147165864872081,
          3.0311491147419005,
          2.746628135240049,
          2.7024104001727407,
          2.7486377803322948,
          2.565162691189419,
          2.570806872386405,
          2.390750651290116,
          2.2749201547544717,
          5.862192271530479,
          6.080126600385316,
          6.326194683290874,
          7.3369440426206465,
          7.652505071457706,
          8.097103382851758,
          8.90146824132568,
          2.2126897258399976,
          2.443828329741922,
          2.5833553828386018,
          1.9752685318205156,
          2.0460179020363625,
          2.1181621674935296,
          2.027056239667639,
          3.250847875114056,
          3.5272183072661676,
          3.5872961341214578,
          3.5248280415763484,
          3.211517340914801,
          2.9998233068541,
          3.00687780359298,
          2.57807380741366,
          2.553511555215565,
          2.4683688488073843,
          2.120726195045745,
          3.4987765780283917,
          3.486550301216641,
          4.6210497503867405,
          2.411679019384198,
          2.3324170173159677,
          2.353935113387003,
          2.4940658062702967,
          2.3648458028110855,
          2.519740819106422,
          2.257130755183176,
          2.2275573616569257,
          2.4784672597599746,
          2.4797654934596567,
          2.471920483179267,
          2.581116584693893,
          2.5319140049030375,
          2.6594962846316546,
          2.636835167127655,
          2.509792840226018,
          2.2695719665294845,
          2.1457496689859394,
          2.080657411559137,
          4.1318183508040995,
          4.082457774327268,
          3.3318535543270045,
          4.205369679806087,
          4.1194501495294595,
          1.9876211718683705,
          1.9321835103757192,
          1.8343746765166238,
          1.6727867975091855,
          1.6334294669085245,
          1.4629550589482652,
          1.5773081626544931,
          1.5445114278720287,
          1.6402377943107065,
          1.614372358391183,
          1.9455979443109825,
          1.977487437859572,
          2.1531752608189016,
          2.1803360735445017,
          2.162911502212705,
          2.070507795880123,
          2.141296036950686,
          1.6882968993807652,
          1.60755942035915,
          1.5752298715335733,
          1.6815542386264755,
          1.8090121770013332,
          1.896201433013832,
          1.937252009891096,
          1.7513466211951192,
          1.7528769941285278,
          1.8420368681758514,
          1.7429414159618344,
          1.8738733354376869,
          1.938554843313747,
          2.0025718309174665,
          2.0044912242243846,
          2.0389039234766355,
          1.8531805948601525,
          1.9143928422392344,
          2.3150951462428258,
          2.3021031955833617,
          2.3719544408733366,
          2.4044895328291864,
          2.4259410714417218,
          2.615914176541804,
          2.7538068739331845,
          2.2576194604178554,
          2.3790035851152616,
          2.289325780043573,
          2.2226241677440917,
          2.2264964813244283,
          2.268910929093097,
          2.314332533573556,
          2.585163220178025,
          2.5969747047197194,
          2.3990584417783607,
          2.260593610436416,
          2.1823273729631674,
          2.369044672737171,
          2.2349026830427112,
          2.143110838678603,
          2.1865792414032246,
          2.1518401817663904,
          2.38450052491925,
          2.6046780170814956,
          1.9261271193224974,
          1.9418092644949818,
          1.9456334295394857,
          1.8006986285829616,
          2.0550691944419834,
          2.0873698514564123,
          2.1268218492446955,
          2.244281500676968,
          2.245917770544469,
          2.077264637811281,
          2.3351283207117413,
          2.0184276558769647,
          1.932624026753577,
          1.908608504149657,
          2.026754960348105,
          2.264067139782854,
          1.4419003613298738,
          1.8971783041538262,
          1.8880556924957361,
          2.0139848034361583,
          1.9607209836542647,
          2.2332524261579434,
          1.97787004309331,
          2.828759758988159,
          2.679533647146947,
          3.276519149946556,
          2.992406859098962,
          3.1083092344546173,
          3.141648940309126,
          2.6462412673755717,
          2.7486780725945295,
          2.25301555014323,
          2.0097785493432205,
          2.030529145789326,
          2.0689452742367678,
          2.216301076612871,
          2.4407367594695795,
          2.1912311870582526,
          2.333098691034049,
          2.059091398850084,
          2.09155831648743,
          1.8366403278889407,
          1.9308557672216482,
          1.9264847909260947,
          1.9675358159018397,
          2.0500313029229997,
          2.0043011584453625,
          2.042564263285168,
          2.1396100745612885,
          1.9311176176334404,
          2.294697872184989,
          2.5759449099922147,
          1.8814776266197086,
          2.3365018792726664,
          2.2572362315860026,
          1.9366492373921333,
          1.639966744770087,
          2.028242454060716,
          1.9928236704408353,
          2.2414145804397654,
          2.428306438499522,
          2.038681198859995,
          2.139498906136681,
          2.563115052109544,
          2.346076786237682,
          2.4820986418878843,
          2.14901855221547,
          2.157042934780445,
          2.964054082405274,
          3.568526869095205,
          3.640661952125445,
          2.5936182396200635,
          1.9939869613092884,
          3.0514942562890033,
          2.591001897907127,
          2.575471175320163,
          2.506392036947356,
          2.517528361574238,
          2.477965990197055,
          2.4496358451989053,
          1.26780884120227,
          1.2619536358864405,
          2.3911963162916807,
          2.4176172195807286,
          2.388542715160812,
          1.2850829199681613,
          1.2858071143670458,
          1.308982179145624,
          2.988185127750787,
          2.5035869893183915,
          2.567922249981753,
          2.0101802638810438,
          1.9871522983939311,
          1.9924940095150507,
          1.9918641818001501,
          1.3046607087787634,
          1.3190316169012526,
          1.245604777583632,
          2.435430583099165,
          2.44348368507922,
          2.429150938970403,
          3.570513389476928,
          3.5456044773414575,
          2.139328587767179,
          2.000829780053666,
          1.7773716262832653,
          1.8357265927870774,
          1.7429105965664944
         ]
        },
        {
         "marker": {
          "color": "red"
         },
         "mode": "lines",
         "name": "Europe",
         "type": "scatter",
         "x": [
          "2020-03-01",
          "2020-03-02",
          "2020-03-03",
          "2020-03-04",
          "2020-03-05",
          "2020-03-06",
          "2020-03-07",
          "2020-03-08",
          "2020-03-09",
          "2020-03-10",
          "2020-03-11",
          "2020-03-12",
          "2020-03-13",
          "2020-03-14",
          "2020-03-15",
          "2020-03-16",
          "2020-03-17",
          "2020-03-18",
          "2020-03-19",
          "2020-03-20",
          "2020-03-21",
          "2020-03-22",
          "2020-03-23",
          "2020-03-24",
          "2020-03-25",
          "2020-03-26",
          "2020-03-27",
          "2020-03-28",
          "2020-03-29",
          "2020-03-30",
          "2020-03-31",
          "2020-04-01",
          "2020-04-02",
          "2020-04-03",
          "2020-04-04",
          "2020-04-05",
          "2020-04-06",
          "2020-04-07",
          "2020-04-08",
          "2020-04-09",
          "2020-04-10",
          "2020-04-11",
          "2020-04-12",
          "2020-04-13",
          "2020-04-14",
          "2020-04-15",
          "2020-04-16",
          "2020-04-17",
          "2020-04-18",
          "2020-04-19",
          "2020-04-20",
          "2020-04-21",
          "2020-04-22",
          "2020-04-23",
          "2020-04-24",
          "2020-04-25",
          "2020-04-26",
          "2020-04-27",
          "2020-04-28",
          "2020-04-29",
          "2020-04-30",
          "2020-05-01",
          "2020-05-02",
          "2020-05-03",
          "2020-05-04",
          "2020-05-05",
          "2020-05-06",
          "2020-05-07",
          "2020-05-08",
          "2020-05-09",
          "2020-05-10",
          "2020-05-11",
          "2020-05-12",
          "2020-05-13",
          "2020-05-14",
          "2020-05-15",
          "2020-05-16",
          "2020-05-17",
          "2020-05-18",
          "2020-05-19",
          "2020-05-20",
          "2020-05-21",
          "2020-05-22",
          "2020-05-23",
          "2020-05-24",
          "2020-05-25",
          "2020-05-26",
          "2020-05-27",
          "2020-05-28",
          "2020-05-29",
          "2020-05-30",
          "2020-05-31",
          "2020-06-01",
          "2020-06-02",
          "2020-06-03",
          "2020-06-04",
          "2020-06-05",
          "2020-06-06",
          "2020-06-07",
          "2020-06-08",
          "2020-06-09",
          "2020-06-10",
          "2020-06-11",
          "2020-06-12",
          "2020-06-13",
          "2020-06-14",
          "2020-06-15",
          "2020-06-16",
          "2020-06-17",
          "2020-06-18",
          "2020-06-19",
          "2020-06-20",
          "2020-06-21",
          "2020-06-22",
          "2020-06-23",
          "2020-06-24",
          "2020-06-25",
          "2020-06-26",
          "2020-06-27",
          "2020-06-28",
          "2020-06-29",
          "2020-06-30",
          "2020-07-01",
          "2020-07-02",
          "2020-07-03",
          "2020-07-04",
          "2020-07-05",
          "2020-07-06",
          "2020-07-07",
          "2020-07-08",
          "2020-07-09",
          "2020-07-10",
          "2020-07-11",
          "2020-07-12",
          "2020-07-13",
          "2020-07-14",
          "2020-07-15",
          "2020-07-16",
          "2020-07-17",
          "2020-07-18",
          "2020-07-19",
          "2020-07-20",
          "2020-07-21",
          "2020-07-22",
          "2020-07-23",
          "2020-07-24",
          "2020-07-25",
          "2020-07-26",
          "2020-07-27",
          "2020-07-28",
          "2020-07-29",
          "2020-07-30",
          "2020-07-31",
          "2020-08-01",
          "2020-08-02",
          "2020-08-03",
          "2020-08-04",
          "2020-08-05",
          "2020-08-06",
          "2020-08-07",
          "2020-08-08",
          "2020-08-09",
          "2020-08-10",
          "2020-08-11",
          "2020-08-12",
          "2020-08-13",
          "2020-08-14",
          "2020-08-15",
          "2020-08-16",
          "2020-08-17",
          "2020-08-18",
          "2020-08-19",
          "2020-08-20",
          "2020-08-21",
          "2020-08-22",
          "2020-08-23",
          "2020-08-24",
          "2020-08-25",
          "2020-08-26",
          "2020-08-27",
          "2020-08-28",
          "2020-08-29",
          "2020-08-30",
          "2020-08-31",
          "2020-09-01",
          "2020-09-02",
          "2020-09-03",
          "2020-09-04",
          "2020-09-05",
          "2020-09-06",
          "2020-09-07",
          "2020-09-08",
          "2020-09-09",
          "2020-09-10",
          "2020-09-11",
          "2020-09-12",
          "2020-09-13",
          "2020-09-14",
          "2020-09-15",
          "2020-09-16",
          "2020-09-17",
          "2020-09-18",
          "2020-09-19",
          "2020-09-20",
          "2020-09-21",
          "2020-09-22",
          "2020-09-23",
          "2020-09-24",
          "2020-09-25",
          "2020-09-26",
          "2020-09-27",
          "2020-09-28",
          "2020-09-29",
          "2020-09-30",
          "2020-10-01",
          "2020-10-02",
          "2020-10-03",
          "2020-10-04",
          "2020-10-05",
          "2020-10-06",
          "2020-10-07",
          "2020-10-08",
          "2020-10-09",
          "2020-10-10",
          "2020-10-11",
          "2020-10-12",
          "2020-10-13",
          "2020-10-14",
          "2020-10-15",
          "2020-10-16",
          "2020-10-17",
          "2020-10-18",
          "2020-10-19",
          "2020-10-20",
          "2020-10-21",
          "2020-10-22",
          "2020-10-23",
          "2020-10-24",
          "2020-10-25",
          "2020-10-26",
          "2020-10-27",
          "2020-10-28",
          "2020-10-29",
          "2020-10-30",
          "2020-10-31",
          "2020-11-01",
          "2020-11-02",
          "2020-11-03",
          "2020-11-04",
          "2020-11-05",
          "2020-11-06",
          "2020-11-07",
          "2020-11-08",
          "2020-11-09",
          "2020-11-10",
          "2020-11-11",
          "2020-11-12",
          "2020-11-13",
          "2020-11-14",
          "2020-11-15",
          "2020-11-16",
          "2020-11-17",
          "2020-11-18",
          "2020-11-19",
          "2020-11-20",
          "2020-11-21",
          "2020-11-22",
          "2020-11-23"
         ],
         "y": [
          0.14471822375310117,
          0.5920854444407575,
          0.5982780739755725,
          0.5474115559923891,
          0.4296230357011788,
          0.4821379817472482,
          0.5138272580727056,
          0.4669008998192318,
          0.36538017046730153,
          0.49664437452209403,
          0.4893576300343684,
          0.6735253411042431,
          0.8038970266134408,
          0.9050006299637833,
          1.0059785988450978,
          1.1186881114845906,
          1.1653369493642303,
          1.3948317365306095,
          1.8119188531634145,
          1.5705778071130712,
          1.807736176077423,
          2.096124788858767,
          2.2534531389458152,
          2.084450203722334,
          2.294262288954158,
          2.1066243168070913,
          2.2701594283525153,
          2.4912185199727768,
          2.557838974975355,
          2.8253160187853954,
          3.1581714703637456,
          3.3822093803139115,
          3.701713921760488,
          4.328179004926501,
          4.660785966272503,
          4.869138755945784,
          4.924399734885653,
          5.111568913148586,
          5.5831108465722075,
          5.820737427948724,
          5.973794848012933,
          5.934249030940552,
          5.6200492101975845,
          5.739197324228823,
          5.884766173331045,
          6.134753756899581,
          6.705402983718751,
          7.276154087727978,
          7.617868057809239,
          7.600671422938571,
          7.564781440218023,
          7.863123434782182,
          7.898319272441034,
          8.07266251760949,
          8.628992347720263,
          9.623441590251538,
          10.980439341160277,
          11.293664937570423,
          11.105051377270625,
          19.643993424787602,
          10.487161444851445,
          12.047705460206288,
          11.027082165237644,
          11.604735638133578,
          13.757273769438697,
          13.00678423369059,
          11.820827803010081,
          11.968106030896037,
          12.387294977819295,
          11.523071229802982,
          11.924058039135437,
          11.06539837555063,
          13.10264355515309,
          10.706648450244941,
          10.895402918406882,
          10.152919214063838,
          10.598793612194067,
          10.37140328775992,
          10.906836773356755,
          10.780866277034878,
          11.857529241649488,
          11.586870132278685,
          14.566352669365948,
          13.837795767700237,
          11.454740163743399,
          8.556265953901425,
          9.713541124707485,
          11.46852856696034,
          7.593739345281783,
          7.542545660421908,
          10.8406400831139,
          9.594090435581982,
          12.339460983321615,
          10.866108995537791,
          11.513396419097116,
          10.87119719684049,
          8.76629878924716,
          7.328572381043795,
          7.6030824109163095,
          7.353064884485977,
          7.4525678512152265,
          11.224383804762567,
          7.192101391908523,
          8.374662463939394,
          9.511947309197716,
          6.671745266121694,
          6.057731181269709,
          5.4710215227725945,
          5.770080113129027,
          5.627988905900653,
          6.370184029809818,
          7.300859860589609,
          6.914840027268973,
          6.995573932495931,
          7.645256928073085,
          6.288962750141386,
          7.195519397976686,
          5.688785209391522,
          3.533009258391638,
          3.315935252412076,
          3.4357497534320514,
          3.345073959379657,
          2.9627939140170922,
          2.8367877621687043,
          2.729000217360443,
          2.733835529548023,
          2.7494767097069244,
          2.515118088919439,
          2.302470040782025,
          2.2738901425654134,
          2.0310607401790186,
          1.977438651966542,
          1.8302816195557645,
          1.8674750681986003,
          1.8282453820471605,
          1.841810928602319,
          1.7257979961940826,
          1.7923062930324838,
          1.830807840320984,
          1.7793638131642036,
          1.815493930583234,
          1.7347246143008495,
          1.5859139420858106,
          1.526376369811713,
          1.5421388523095532,
          1.6497227104308791,
          1.5316244284597906,
          1.4936567808705383,
          1.5483087905149024,
          1.5025550318263943,
          1.5048814105198969,
          1.3521423834768798,
          1.2113328250107527,
          1.2725736852645435,
          1.2261420909758294,
          1.3114727295601527,
          1.288552956556954,
          1.419649057040981,
          1.416343767497405,
          1.4656307427474584,
          1.4406815928261854,
          1.4378179516335934,
          1.3950763596742777,
          1.4637583505774385,
          1.395923212686963,
          1.4749950126622142,
          1.435795979342535,
          1.3711441224786172,
          1.5064009072598887,
          1.5133582374216157,
          1.616228609278205,
          1.657823279067906,
          1.596896706698329,
          1.596729593117109,
          1.64857572827251,
          1.5838942682503303,
          1.577313468091646,
          1.374419931139703,
          1.2454879458261894,
          1.215548382860716,
          1.2487164728778226,
          1.2142493025595034,
          1.1861869886629264,
          1.2200622885215413,
          1.1461426872243137,
          1.202776671792392,
          1.224310417058711,
          1.1711265357793876,
          1.1974769652335946,
          1.1999632699110199,
          1.1837952920284496,
          1.1077550332200214,
          1.0796445503054075,
          1.0339891470735054,
          0.9992465108062688,
          0.9655464043788938,
          0.9320965946952843,
          0.9773250933169702,
          1.078618867801061,
          1.0929366518776575,
          1.0641783157631965,
          1.0932154345528928,
          1.1032841793402337,
          1.065994855168799,
          1.0369902633854844,
          1.0111890143293218,
          0.9936141744234501,
          1.0186761705338663,
          0.9788681308853847,
          0.9469370840539001,
          0.9696464236363038,
          0.9666766018541637,
          1.0085563268681734,
          1.045625759633021,
          1.0091466298281584,
          0.9900307688431719,
          0.9505925496315725,
          0.9546727878323175,
          0.9509867724227378,
          0.8766620974634166,
          0.9253639173604838,
          0.9451928969348109,
          0.9002166205799151,
          0.8823815296497155,
          0.8364095783495402,
          0.8359379664330497,
          0.8139938172271481,
          0.7697511942699331,
          0.7440084654103316,
          0.774440673727592,
          0.7506769796493186,
          0.7365239140634123,
          0.7298022634736218,
          0.7267434935549871,
          0.7436026304369439,
          0.7409086144596768,
          0.7497206730573404,
          0.7760895240835056,
          0.7849493726825462,
          0.7781396684648767,
          0.768440497386588,
          0.7577231360963148,
          0.7768136471706475,
          0.7767229805799621,
          0.7851094099758504,
          0.7968618227306481,
          0.8116542980433622,
          0.8155948471308329,
          0.8743931580125673,
          0.8934564263579957,
          0.9189688598198832,
          0.9365301350296297,
          0.9703612270792543,
          1.4809014856711789,
          2.0684861347445773,
          1.7240485249427326,
          1.642127479740617,
          1.5096290997425192,
          1.5752967679443963,
          1.6227395620193275,
          1.3043955689139035,
          1.323899082097988,
          1.4299512883324286,
          1.4356202387606383,
          1.4539464480445001,
          1.5177588441130565,
          1.4801030390078773,
          1.5377641952227932
         ]
        },
        {
         "marker": {
          "color": "blue"
         },
         "mode": "lines",
         "name": "Africa",
         "type": "scatter",
         "x": [
          "2020-03-01",
          "2020-03-02",
          "2020-03-03",
          "2020-03-04",
          "2020-03-05",
          "2020-03-06",
          "2020-03-07",
          "2020-03-08",
          "2020-03-09",
          "2020-03-10",
          "2020-03-11",
          "2020-03-12",
          "2020-03-13",
          "2020-03-14",
          "2020-03-15",
          "2020-03-16",
          "2020-03-17",
          "2020-03-18",
          "2020-03-19",
          "2020-03-20",
          "2020-03-21",
          "2020-03-22",
          "2020-03-23",
          "2020-03-24",
          "2020-03-25",
          "2020-03-26",
          "2020-03-27",
          "2020-03-28",
          "2020-03-29",
          "2020-03-30",
          "2020-03-31",
          "2020-04-01",
          "2020-04-02",
          "2020-04-03",
          "2020-04-04",
          "2020-04-05",
          "2020-04-06",
          "2020-04-07",
          "2020-04-08",
          "2020-04-09",
          "2020-04-10",
          "2020-04-11",
          "2020-04-12",
          "2020-04-13",
          "2020-04-14",
          "2020-04-15",
          "2020-04-16",
          "2020-04-17",
          "2020-04-18",
          "2020-04-19",
          "2020-04-20",
          "2020-04-21",
          "2020-04-22",
          "2020-04-23",
          "2020-04-24",
          "2020-04-25",
          "2020-04-26",
          "2020-04-27",
          "2020-04-28",
          "2020-04-29",
          "2020-04-30",
          "2020-05-01",
          "2020-05-02",
          "2020-05-03",
          "2020-05-04",
          "2020-05-05",
          "2020-05-06",
          "2020-05-07",
          "2020-05-08",
          "2020-05-09",
          "2020-05-10",
          "2020-05-11",
          "2020-05-12",
          "2020-05-13",
          "2020-05-14",
          "2020-05-15",
          "2020-05-16",
          "2020-05-17",
          "2020-05-18",
          "2020-05-19",
          "2020-05-20",
          "2020-05-21",
          "2020-05-22",
          "2020-05-23",
          "2020-05-24",
          "2020-05-25",
          "2020-05-26",
          "2020-05-27",
          "2020-05-28",
          "2020-05-29",
          "2020-05-30",
          "2020-05-31",
          "2020-06-01",
          "2020-06-02",
          "2020-06-03",
          "2020-06-04",
          "2020-06-05",
          "2020-06-06",
          "2020-06-07",
          "2020-06-08",
          "2020-06-09",
          "2020-06-10",
          "2020-06-11",
          "2020-06-12",
          "2020-06-13",
          "2020-06-14",
          "2020-06-15",
          "2020-06-16",
          "2020-06-17",
          "2020-06-18",
          "2020-06-19",
          "2020-06-20",
          "2020-06-21",
          "2020-06-22",
          "2020-06-23",
          "2020-06-24",
          "2020-06-25",
          "2020-06-26",
          "2020-06-27",
          "2020-06-28",
          "2020-06-29",
          "2020-06-30",
          "2020-07-01",
          "2020-07-02",
          "2020-07-03",
          "2020-07-04",
          "2020-07-05",
          "2020-07-06",
          "2020-07-07",
          "2020-07-08",
          "2020-07-09",
          "2020-07-10",
          "2020-07-11",
          "2020-07-12",
          "2020-07-13",
          "2020-07-14",
          "2020-07-15",
          "2020-07-16",
          "2020-07-17",
          "2020-07-18",
          "2020-07-19",
          "2020-07-20",
          "2020-07-21",
          "2020-07-22",
          "2020-07-23",
          "2020-07-24",
          "2020-07-25",
          "2020-07-26",
          "2020-07-27",
          "2020-07-28",
          "2020-07-29",
          "2020-07-30",
          "2020-07-31",
          "2020-08-01",
          "2020-08-02",
          "2020-08-03",
          "2020-08-04",
          "2020-08-05",
          "2020-08-06",
          "2020-08-07",
          "2020-08-08",
          "2020-08-09",
          "2020-08-10",
          "2020-08-11",
          "2020-08-12",
          "2020-08-13",
          "2020-08-14",
          "2020-08-15",
          "2020-08-16",
          "2020-08-17",
          "2020-08-18",
          "2020-08-19",
          "2020-08-20",
          "2020-08-21",
          "2020-08-22",
          "2020-08-23",
          "2020-08-24",
          "2020-08-25",
          "2020-08-26",
          "2020-08-27",
          "2020-08-28",
          "2020-08-29",
          "2020-08-30",
          "2020-08-31",
          "2020-09-01",
          "2020-09-02",
          "2020-09-03",
          "2020-09-04",
          "2020-09-05",
          "2020-09-06",
          "2020-09-07",
          "2020-09-08",
          "2020-09-09",
          "2020-09-10",
          "2020-09-11",
          "2020-09-12",
          "2020-09-13",
          "2020-09-14",
          "2020-09-15",
          "2020-09-16",
          "2020-09-17",
          "2020-09-18",
          "2020-09-19",
          "2020-09-20",
          "2020-09-21",
          "2020-09-22",
          "2020-09-23",
          "2020-09-24",
          "2020-09-25",
          "2020-09-26",
          "2020-09-27",
          "2020-09-28",
          "2020-09-29",
          "2020-09-30",
          "2020-10-01",
          "2020-10-02",
          "2020-10-03",
          "2020-10-04",
          "2020-10-05",
          "2020-10-06",
          "2020-10-07",
          "2020-10-08",
          "2020-10-09",
          "2020-10-10",
          "2020-10-11",
          "2020-10-12",
          "2020-10-13",
          "2020-10-14",
          "2020-10-15",
          "2020-10-16",
          "2020-10-17",
          "2020-10-18",
          "2020-10-19",
          "2020-10-20",
          "2020-10-21",
          "2020-10-22",
          "2020-10-23",
          "2020-10-24",
          "2020-10-25",
          "2020-10-26",
          "2020-10-27",
          "2020-10-28",
          "2020-10-29",
          "2020-10-30",
          "2020-10-31",
          "2020-11-01",
          "2020-11-02",
          "2020-11-03",
          "2020-11-04",
          "2020-11-05",
          "2020-11-06",
          "2020-11-07",
          "2020-11-08",
          "2020-11-09",
          "2020-11-10",
          "2020-11-11",
          "2020-11-12",
          "2020-11-13",
          "2020-11-14",
          "2020-11-15",
          "2020-11-16",
          "2020-11-17",
          "2020-11-18",
          "2020-11-19",
          "2020-11-20",
          "2020-11-21",
          "2020-11-22",
          "2020-11-23"
         ],
         "y": [
          0,
          0,
          0,
          0,
          0,
          0,
          0,
          0,
          0.30303030303030304,
          0.22522522522522523,
          0.20833333333333334,
          3.985890652557319,
          4.556540724765023,
          5.992857023926472,
          2.4966421563047785,
          2.4278226141941928,
          1.6063261045339898,
          1.8091119569276608,
          1.6840066072126598,
          3.5716390465852754,
          7.144796344524197,
          3.4953610590869757,
          1.977286099217597,
          3.927392746113377,
          3.4605120707059163,
          3.766882459107991,
          4.735468435864289,
          4.245005243604496,
          5.070906244699464,
          6.491809835717474,
          4.624878393837395,
          3.797297903530027,
          3.536425818484042,
          4.8545582208055205,
          5.2771433711607845,
          6.6477968394438935,
          6.608706159255831,
          6.7135249124705325,
          6.794486096651607,
          6.915734472623951,
          5.168422176896685,
          7.777749971558618,
          6.067100874089862,
          4.497199945687027,
          3.9095314989865333,
          4.590162348565694,
          4.256544782317903,
          4.942192084246585,
          4.275470596351445,
          5.376164127710266,
          5.473155108338305,
          5.587763338707444,
          3.0384771439433877,
          3.388818446012836,
          2.927281060541312,
          2.999604839024269,
          3.0128109594682013,
          3.7991205166674438,
          3.743965948970008,
          4.298496151517513,
          5.14718920689824,
          7.66901894946455,
          6.515562589172664,
          6.291537980660462,
          4.141056057206013,
          3.80527543819598,
          4.108995599148137,
          3.740555608881558,
          3.429740210027168,
          3.5891167104823514,
          3.4429857793082883,
          3.3239511155799586,
          2.7844876857255008,
          2.7217234556825085,
          5.004749936687687,
          2.8006978046505893,
          2.398934659674328,
          2.412776385890692,
          2.2853923902566233,
          2.555860601718683,
          2.730225530121476,
          2.749664833806923,
          2.677070025247707,
          2.524964811336683,
          2.633082893634428,
          2.458754563928137,
          2.6418511326858702,
          2.532932274012266,
          2.7372344723164517,
          2.426782060921848,
          2.7840864416681605,
          2.4788704947282385,
          2.4042233403614772,
          2.725763443347064,
          2.135741757122644,
          1.8140993862917756,
          1.7250212601751116,
          1.704175718918509,
          1.7724525671901543,
          1.865480220622278,
          2.2137660021804373,
          3.6222192270820193,
          1.9066084482195704,
          2.217883129834958,
          2.2604414991617143,
          2.4148709228732077,
          2.6434765619485496,
          2.7012919031477973,
          2.5857098797439844,
          2.597784565732625,
          2.750881989821044,
          2.4884067510940784,
          2.444217560375836,
          2.326034232262179,
          2.2933472684542173,
          2.559215376007132,
          2.640578008384971,
          2.6176891120894665,
          2.5157168616793104,
          2.0284727763230226,
          2.0559195972974167,
          2.0662165397384182,
          1.947426284319089,
          1.6524464916310215,
          1.8688152919029242,
          1.8604065586778105,
          2.068617732994092,
          2.0795232344108068,
          2.253383539173082,
          1.7244371947945654,
          1.6525027546321573,
          1.937184562261153,
          2.074840476878477,
          2.0539555345301554,
          2.388056818758857,
          1.9430549740080443,
          2.0972125164564237,
          2.6896100083485583,
          2.267785479667308,
          2.355451630687223,
          2.319080499483334,
          2.112671508117679,
          2.0460492315161676,
          1.8663306409427503,
          1.675536687596781,
          1.6725702052653262,
          1.7050025835702989,
          1.6620119249846992,
          1.763128381188793,
          1.8563675345015838,
          1.8863053067636686,
          1.7365405528410274,
          1.6922440695123595,
          1.9467051587369992,
          2.051636734466457,
          2.042306962415411,
          2.1860746431404876,
          2.3327830472567204,
          2.1386448265680396,
          2.5170919203374593,
          2.4828835055605047,
          2.988281085409127,
          2.89273380238529,
          2.6074987968300958,
          2.780661882082897,
          2.782632092361861,
          2.556149105488763,
          2.8592296827793033,
          2.559441667718128,
          2.687599374772196,
          2.415945793894957,
          2.2790711258790903,
          2.058168968689718,
          1.9339857215532572,
          1.9544679280618797,
          1.969903932338938,
          1.6848503788240259,
          1.670254082272564,
          1.8819707667224947,
          2.1597754196731467,
          2.18004226505455,
          2.0221390853090773,
          1.802277330527938,
          1.8329719124062296,
          1.882388393583632,
          1.8452612108861561,
          1.6384972424529434,
          1.4778041664820258,
          1.4498591824339209,
          1.6655913629339258,
          2.4393234879047028,
          3.7365722416338323,
          3.755938268608584,
          2.3001217543944303,
          2.0594389320881294,
          2.021405051737193,
          2.092577101240382,
          1.670108936910138,
          2.0470251877449175,
          2.0421966836082683,
          2.0890849820261974,
          1.9038638256157754,
          1.6390850421985588,
          1.5791806944894502,
          1.5468215352882744,
          1.39903974479267,
          1.3795544934981168,
          1.4560012144489294,
          1.4358000653892062,
          1.4900964533508094,
          1.6129200815231541,
          1.6869072389963677,
          1.7211378087298446,
          1.6581320552188736,
          1.618198909553788,
          1.6704390459901342,
          1.748562734660703,
          1.5653652852505293,
          1.619568203823171,
          1.7054729864258988,
          1.7897760308375434,
          1.6848217087265485,
          1.526255050813597,
          1.6771426312746276,
          1.823972837505581,
          1.9421784829963689,
          1.9219958294233785,
          1.8732829043112127,
          1.9632884376417852,
          1.9199080485760887,
          1.972476257626379,
          1.8747014088227991,
          2.100651610195164,
          2.0512762917506793,
          1.5738088120729767,
          1.7450327669106787,
          1.8605322292714548,
          1.56271708058099,
          1.6415739905589484,
          1.6438686713779367,
          1.7680852106102418,
          1.8116830886007291,
          1.7734953036650483,
          1.8853123498478124,
          1.9121763052363978,
          1.9299262322887443,
          1.6881833898871508,
          1.7331040583683244,
          1.6599835793446662,
          1.6323275539130953,
          1.8579779052049727,
          2.3836530077606586,
          2.4803845834049247,
          4.733560649805352,
          4.475237872871837,
          3.7289001126576244,
          4.918371104177851,
          4.517869149609091,
          3.2584284150537144,
          3.459438616979746,
          2.247197597046657,
          1.9520791043460903,
          1.9609909292396712,
          1.7028823136899665,
          1.7303155948328768,
          1.487048702769362,
          1.3826444719144186,
          1.4113960407507695
         ]
        },
        {
         "marker": {
          "color": "black"
         },
         "mode": "lines",
         "name": "North America",
         "type": "scatter",
         "x": [
          "2020-03-01",
          "2020-03-02",
          "2020-03-03",
          "2020-03-04",
          "2020-03-05",
          "2020-03-06",
          "2020-03-07",
          "2020-03-08",
          "2020-03-09",
          "2020-03-10",
          "2020-03-11",
          "2020-03-12",
          "2020-03-13",
          "2020-03-14",
          "2020-03-15",
          "2020-03-16",
          "2020-03-17",
          "2020-03-18",
          "2020-03-19",
          "2020-03-20",
          "2020-03-21",
          "2020-03-22",
          "2020-03-23",
          "2020-03-24",
          "2020-03-25",
          "2020-03-26",
          "2020-03-27",
          "2020-03-28",
          "2020-03-29",
          "2020-03-30",
          "2020-03-31",
          "2020-04-01",
          "2020-04-02",
          "2020-04-03",
          "2020-04-04",
          "2020-04-05",
          "2020-04-06",
          "2020-04-07",
          "2020-04-08",
          "2020-04-09",
          "2020-04-10",
          "2020-04-11",
          "2020-04-12",
          "2020-04-13",
          "2020-04-14",
          "2020-04-15",
          "2020-04-16",
          "2020-04-17",
          "2020-04-18",
          "2020-04-19",
          "2020-04-20",
          "2020-04-21",
          "2020-04-22",
          "2020-04-23",
          "2020-04-24",
          "2020-04-25",
          "2020-04-26",
          "2020-04-27",
          "2020-04-28",
          "2020-04-29",
          "2020-04-30",
          "2020-05-01",
          "2020-05-02",
          "2020-05-03",
          "2020-05-04",
          "2020-05-05",
          "2020-05-06",
          "2020-05-07",
          "2020-05-08",
          "2020-05-09",
          "2020-05-10",
          "2020-05-11",
          "2020-05-12",
          "2020-05-13",
          "2020-05-14",
          "2020-05-15",
          "2020-05-16",
          "2020-05-17",
          "2020-05-18",
          "2020-05-19",
          "2020-05-20",
          "2020-05-21",
          "2020-05-22",
          "2020-05-23",
          "2020-05-24",
          "2020-05-25",
          "2020-05-26",
          "2020-05-27",
          "2020-05-28",
          "2020-05-29",
          "2020-05-30",
          "2020-05-31",
          "2020-06-01",
          "2020-06-02",
          "2020-06-03",
          "2020-06-04",
          "2020-06-05",
          "2020-06-06",
          "2020-06-07",
          "2020-06-08",
          "2020-06-09",
          "2020-06-10",
          "2020-06-11",
          "2020-06-12",
          "2020-06-13",
          "2020-06-14",
          "2020-06-15",
          "2020-06-16",
          "2020-06-17",
          "2020-06-18",
          "2020-06-19",
          "2020-06-20",
          "2020-06-21",
          "2020-06-22",
          "2020-06-23",
          "2020-06-24",
          "2020-06-25",
          "2020-06-26",
          "2020-06-27",
          "2020-06-28",
          "2020-06-29",
          "2020-06-30",
          "2020-07-01",
          "2020-07-02",
          "2020-07-03",
          "2020-07-04",
          "2020-07-05",
          "2020-07-06",
          "2020-07-07",
          "2020-07-08",
          "2020-07-09",
          "2020-07-10",
          "2020-07-11",
          "2020-07-12",
          "2020-07-13",
          "2020-07-14",
          "2020-07-15",
          "2020-07-16",
          "2020-07-17",
          "2020-07-18",
          "2020-07-19",
          "2020-07-20",
          "2020-07-21",
          "2020-07-22",
          "2020-07-23",
          "2020-07-24",
          "2020-07-25",
          "2020-07-26",
          "2020-07-27",
          "2020-07-28",
          "2020-07-29",
          "2020-07-30",
          "2020-07-31",
          "2020-08-01",
          "2020-08-02",
          "2020-08-03",
          "2020-08-04",
          "2020-08-05",
          "2020-08-06",
          "2020-08-07",
          "2020-08-08",
          "2020-08-09",
          "2020-08-10",
          "2020-08-11",
          "2020-08-12",
          "2020-08-13",
          "2020-08-14",
          "2020-08-15",
          "2020-08-16",
          "2020-08-17",
          "2020-08-18",
          "2020-08-19",
          "2020-08-20",
          "2020-08-21",
          "2020-08-22",
          "2020-08-23",
          "2020-08-24",
          "2020-08-25",
          "2020-08-26",
          "2020-08-27",
          "2020-08-28",
          "2020-08-29",
          "2020-08-30",
          "2020-08-31",
          "2020-09-01",
          "2020-09-02",
          "2020-09-03",
          "2020-09-04",
          "2020-09-05",
          "2020-09-06",
          "2020-09-07",
          "2020-09-08",
          "2020-09-09",
          "2020-09-10",
          "2020-09-11",
          "2020-09-12",
          "2020-09-13",
          "2020-09-14",
          "2020-09-15",
          "2020-09-16",
          "2020-09-17",
          "2020-09-18",
          "2020-09-19",
          "2020-09-20",
          "2020-09-21",
          "2020-09-22",
          "2020-09-23",
          "2020-09-24",
          "2020-09-25",
          "2020-09-26",
          "2020-09-27",
          "2020-09-28",
          "2020-09-29",
          "2020-09-30",
          "2020-10-01",
          "2020-10-02",
          "2020-10-03",
          "2020-10-04",
          "2020-10-05",
          "2020-10-06",
          "2020-10-07",
          "2020-10-08",
          "2020-10-09",
          "2020-10-10",
          "2020-10-11",
          "2020-10-12",
          "2020-10-13",
          "2020-10-14",
          "2020-10-15",
          "2020-10-16",
          "2020-10-17",
          "2020-10-18",
          "2020-10-19",
          "2020-10-20",
          "2020-10-21",
          "2020-10-22",
          "2020-10-23",
          "2020-10-24",
          "2020-10-25",
          "2020-10-26",
          "2020-10-27",
          "2020-10-28",
          "2020-10-29",
          "2020-10-30",
          "2020-10-31",
          "2020-11-01",
          "2020-11-02",
          "2020-11-03",
          "2020-11-04",
          "2020-11-05",
          "2020-11-06",
          "2020-11-07",
          "2020-11-08",
          "2020-11-09",
          "2020-11-10",
          "2020-11-11",
          "2020-11-12",
          "2020-11-13",
          "2020-11-14",
          "2020-11-15",
          "2020-11-16",
          "2020-11-17",
          "2020-11-18",
          "2020-11-19",
          "2020-11-20",
          "2020-11-21",
          "2020-11-22",
          "2020-11-23"
         ],
         "y": [
          0,
          1.0869565217391304,
          3.4090909090909096,
          3.225806451612903,
          2.906976744186047,
          1.6666666666666667,
          1.282051282051282,
          1.1146496815286624,
          0.7960199004975124,
          1.329812272872771,
          0.9356319847526641,
          0.778964916268849,
          0.6162516575806689,
          0.5226685459243599,
          0.42578183878294584,
          0.7108147199918295,
          0.6310984525338392,
          0.3271491987733201,
          1.3717570727532147,
          0.9683847973763369,
          1.836686603356267,
          1.4597385993447498,
          0.779382204461794,
          0.7358759766828573,
          1.2985970206310329,
          3.035982648322435,
          2.750834997511047,
          2.0882661750186724,
          3.769564946201398,
          3.536046638036279,
          4.030234699431463,
          3.563489040904581,
          3.0850180648456194,
          3.2995077192428104,
          2.537607161246762,
          3.1151890432346194,
          5.035447235289083,
          6.76037005802887,
          7.0294902563432,
          7.546093454584571,
          8.143813179831067,
          9.019559036419151,
          8.518281079309814,
          6.392173912073101,
          4.966111642174171,
          4.929754571700762,
          4.741508056885404,
          5.0237948141137245,
          8.335305933953641,
          9.333103548376334,
          13.114177312574865,
          11.151314157788036,
          16.380783163254424,
          18.682205696580283,
          19.01736711435616,
          15.849774181543893,
          11.877761469901055,
          11.02452949624449,
          7.058182901989435,
          7.951513357175813,
          8.137585870154389,
          7.77690877917398,
          6.904679703427943,
          8.402158632894649,
          13.280885418642969,
          9.497851439831374,
          12.315783448457603,
          5.534973910033945,
          9.720238102063963,
          9.653009471473952,
          9.075904114662613,
          7.6403438884581245,
          10.82084793642459,
          16.30176876827623,
          14.629731651646145,
          14.670023404157428,
          14.952721813672582,
          6.210129351047117,
          6.010609736491176,
          4.699053581182028,
          3.5909687353767197,
          3.379152127043407,
          2.1656253827046257,
          2.4104675798170128,
          2.2225804069036683,
          2.004864266859963,
          1.8625104709822637,
          1.8637713711049948,
          1.946186907510912,
          1.8145269949613403,
          1.7602358212653384,
          1.8630669197256675,
          2.082697358519837,
          1.958001848650155,
          1.994370104332868,
          2.0519856824218516,
          2.3033974269045134,
          2.6674002228364047,
          2.5965474027845774,
          2.5108483002665247,
          2.570953368464309,
          2.3468746702187024,
          2.3994869359042403,
          2.1146032146168743,
          1.9021206765444603,
          2.064709030721643,
          2.0323405491788327,
          2.0783180225143765,
          1.993055579329214,
          1.8261215560886426,
          1.7889322360996285,
          1.8329134686259236,
          1.8497881992150484,
          1.938889729696732,
          2.1122821551684474,
          2.2027623223200123,
          2.358717950242337,
          2.260466997074359,
          2.2756744304912773,
          2.4309203447955476,
          2.3474353773833085,
          2.1554422010246843,
          2.1634551862493363,
          2.023838938499106,
          1.9236538586010912,
          1.85560577869739,
          1.594705791783389,
          1.5482414283262962,
          1.820843663979729,
          1.380598141581592,
          1.436874191685333,
          1.4156639434317184,
          1.4638022834528566,
          1.7230329564176337,
          1.7470825368483398,
          1.7185459000696794,
          1.4869643325001096,
          1.3865869876179115,
          1.281481324562447,
          1.2867587302102677,
          1.0416799616395307,
          1.0428417623110422,
          1.015751154457484,
          1.1837044296595585,
          1.1710838686170444,
          1.1807124149024244,
          1.199925365442902,
          1.283730150261632,
          1.2466018167255428,
          1.2828950901480924,
          1.2089740115337688,
          1.209174412141214,
          1.4133298409251358,
          1.4140295651332273,
          1.5448174938444008,
          1.6781968982083044,
          1.6124708673125616,
          1.6797093944626857,
          1.696990743586859,
          1.6337478996597927,
          1.8454904341283334,
          1.8909054213991023,
          1.9160991029435235,
          2.144277891401167,
          1.9589606395901806,
          1.819212049431838,
          1.7647094106121843,
          1.6608329691993093,
          1.6542200859241796,
          1.5842197788332326,
          1.5043618765417206,
          1.426985690374683,
          1.3943899855574393,
          1.3679250028242433,
          1.2619148666082067,
          1.2936483496349191,
          1.3328592052749404,
          1.5398219369114623,
          1.6354652022675547,
          1.9419795494451955,
          1.8068419540355114,
          1.8272877917206585,
          1.7904537339100042,
          1.7910665811503395,
          1.7962019328075258,
          2.0898735581600403,
          2.118056885207746,
          2.137402462077415,
          2.2341043906297844,
          2.397619608194292,
          2.497870382885611,
          2.43526186976688,
          2.1993927547311865,
          1.9227987047694899,
          1.837656356442453,
          1.721992307805802,
          1.743976623124762,
          1.667512408567114,
          2.1147740620214175,
          2.241795433165277,
          2.213829724988985,
          2.011558771684687,
          2.1519293886024,
          1.9196700953306465,
          2.0061779162551243,
          1.5391183670329414,
          1.5251928600353422,
          1.6370761303781778,
          1.7658506726269045,
          1.6548632781546229,
          1.6996570914920572,
          1.6138124385360906,
          1.7366742073223516,
          2.0602283695389967,
          2.005921664374475,
          2.006983268841822,
          2.3137599370895603,
          2.7161891835589533,
          2.77510701816773,
          1.9146965218958658,
          1.6417759418790812,
          1.5301723234102769,
          1.8259152298327535,
          1.8848063079002801,
          1.817839096235151,
          1.7417463603021286,
          1.6340498234240708,
          1.4600879806153855,
          1.5037619434660883,
          1.8560393038658622,
          2.109608360635671,
          1.7417404831955388,
          1.84979179549051,
          1.809467789300753,
          1.8071677709888896,
          1.621690032220434,
          1.3567011348452263,
          1.1805122420116125,
          1.1233595769397733,
          1.1786234753110987,
          1.2037080041148167,
          1.2972479787294653,
          1.2256440324844002,
          1.2670432553719035,
          1.3279641781129639,
          1.350084416402649,
          1.218088101991294,
          1.2063971980842694,
          1.3296425939598338,
          1.5488103037112189,
          1.477592196249616,
          1.5482049958343533,
          1.55520947282355,
          1.5822596437449592,
          1.6498012610632637,
          1.6415472818529397,
          1.4879389088928658,
          1.2817741650496242,
          2.496375665525449,
          2.5907205211460687,
          2.6881499332961747,
          3.1091269416235723,
          3.1424048769059727,
          2.4192926819505534,
          2.4409570251728367,
          1.9427721321580322,
          1.8683813833945833,
          1.6829085153922791
         ]
        },
        {
         "marker": {
          "color": "brown"
         },
         "mode": "lines",
         "name": "South America",
         "type": "scatter",
         "x": [
          "2020-03-01",
          "2020-03-02",
          "2020-03-03",
          "2020-03-04",
          "2020-03-05",
          "2020-03-06",
          "2020-03-07",
          "2020-03-08",
          "2020-03-09",
          "2020-03-10",
          "2020-03-11",
          "2020-03-12",
          "2020-03-13",
          "2020-03-14",
          "2020-03-15",
          "2020-03-16",
          "2020-03-17",
          "2020-03-18",
          "2020-03-19",
          "2020-03-20",
          "2020-03-21",
          "2020-03-22",
          "2020-03-23",
          "2020-03-24",
          "2020-03-25",
          "2020-03-26",
          "2020-03-27",
          "2020-03-28",
          "2020-03-29",
          "2020-03-30",
          "2020-03-31",
          "2020-04-01",
          "2020-04-02",
          "2020-04-03",
          "2020-04-04",
          "2020-04-05",
          "2020-04-06",
          "2020-04-07",
          "2020-04-08",
          "2020-04-09",
          "2020-04-10",
          "2020-04-11",
          "2020-04-12",
          "2020-04-13",
          "2020-04-14",
          "2020-04-15",
          "2020-04-16",
          "2020-04-17",
          "2020-04-18",
          "2020-04-19",
          "2020-04-20",
          "2020-04-21",
          "2020-04-22",
          "2020-04-23",
          "2020-04-24",
          "2020-04-25",
          "2020-04-26",
          "2020-04-27",
          "2020-04-28",
          "2020-04-29",
          "2020-04-30",
          "2020-05-01",
          "2020-05-02",
          "2020-05-03",
          "2020-05-04",
          "2020-05-05",
          "2020-05-06",
          "2020-05-07",
          "2020-05-08",
          "2020-05-09",
          "2020-05-10",
          "2020-05-11",
          "2020-05-12",
          "2020-05-13",
          "2020-05-14",
          "2020-05-15",
          "2020-05-16",
          "2020-05-17",
          "2020-05-18",
          "2020-05-19",
          "2020-05-20",
          "2020-05-21",
          "2020-05-22",
          "2020-05-23",
          "2020-05-24",
          "2020-05-25",
          "2020-05-26",
          "2020-05-27",
          "2020-05-28",
          "2020-05-29",
          "2020-05-30",
          "2020-05-31",
          "2020-06-01",
          "2020-06-02",
          "2020-06-03",
          "2020-06-04",
          "2020-06-05",
          "2020-06-06",
          "2020-06-07",
          "2020-06-08",
          "2020-06-09",
          "2020-06-10",
          "2020-06-11",
          "2020-06-12",
          "2020-06-13",
          "2020-06-14",
          "2020-06-15",
          "2020-06-16",
          "2020-06-17",
          "2020-06-18",
          "2020-06-19",
          "2020-06-20",
          "2020-06-21",
          "2020-06-22",
          "2020-06-23",
          "2020-06-24",
          "2020-06-25",
          "2020-06-26",
          "2020-06-27",
          "2020-06-28",
          "2020-06-29",
          "2020-06-30",
          "2020-07-01",
          "2020-07-02",
          "2020-07-03",
          "2020-07-04",
          "2020-07-05",
          "2020-07-06",
          "2020-07-07",
          "2020-07-08",
          "2020-07-09",
          "2020-07-10",
          "2020-07-11",
          "2020-07-12",
          "2020-07-13",
          "2020-07-14",
          "2020-07-15",
          "2020-07-16",
          "2020-07-17",
          "2020-07-18",
          "2020-07-19",
          "2020-07-20",
          "2020-07-21",
          "2020-07-22",
          "2020-07-23",
          "2020-07-24",
          "2020-07-25",
          "2020-07-26",
          "2020-07-27",
          "2020-07-28",
          "2020-07-29",
          "2020-07-30",
          "2020-07-31",
          "2020-08-01",
          "2020-08-02",
          "2020-08-03",
          "2020-08-04",
          "2020-08-05",
          "2020-08-06",
          "2020-08-07",
          "2020-08-08",
          "2020-08-09",
          "2020-08-10",
          "2020-08-11",
          "2020-08-12",
          "2020-08-13",
          "2020-08-14",
          "2020-08-15",
          "2020-08-16",
          "2020-08-17",
          "2020-08-18",
          "2020-08-19",
          "2020-08-20",
          "2020-08-21",
          "2020-08-22",
          "2020-08-23",
          "2020-08-24",
          "2020-08-25",
          "2020-08-26",
          "2020-08-27",
          "2020-08-28",
          "2020-08-29",
          "2020-08-30",
          "2020-08-31",
          "2020-09-01",
          "2020-09-02",
          "2020-09-03",
          "2020-09-04",
          "2020-09-05",
          "2020-09-06",
          "2020-09-07",
          "2020-09-08",
          "2020-09-09",
          "2020-09-10",
          "2020-09-11",
          "2020-09-12",
          "2020-09-13",
          "2020-09-14",
          "2020-09-15",
          "2020-09-16",
          "2020-09-17",
          "2020-09-18",
          "2020-09-19",
          "2020-09-20",
          "2020-09-21",
          "2020-09-22",
          "2020-09-23",
          "2020-09-24",
          "2020-09-25",
          "2020-09-26",
          "2020-09-27",
          "2020-09-28",
          "2020-09-29",
          "2020-09-30",
          "2020-10-01",
          "2020-10-02",
          "2020-10-03",
          "2020-10-04",
          "2020-10-05",
          "2020-10-06",
          "2020-10-07",
          "2020-10-08",
          "2020-10-09",
          "2020-10-10",
          "2020-10-11",
          "2020-10-12",
          "2020-10-13",
          "2020-10-14",
          "2020-10-15",
          "2020-10-16",
          "2020-10-17",
          "2020-10-18",
          "2020-10-19",
          "2020-10-20",
          "2020-10-21",
          "2020-10-22",
          "2020-10-23",
          "2020-10-24",
          "2020-10-25",
          "2020-10-26",
          "2020-10-27",
          "2020-10-28",
          "2020-10-29",
          "2020-10-30",
          "2020-10-31",
          "2020-11-01",
          "2020-11-02",
          "2020-11-03",
          "2020-11-04",
          "2020-11-05",
          "2020-11-06",
          "2020-11-07",
          "2020-11-08",
          "2020-11-09",
          "2020-11-10",
          "2020-11-11",
          "2020-11-12",
          "2020-11-13",
          "2020-11-14",
          "2020-11-15",
          "2020-11-16",
          "2020-11-17",
          "2020-11-18",
          "2020-11-19",
          "2020-11-20",
          "2020-11-21",
          "2020-11-22",
          "2020-11-23"
         ],
         "y": [
          0,
          0,
          0,
          0,
          0,
          0,
          0,
          0,
          0,
          0.01973684210526316,
          0.013157894736842105,
          0.013157894736842105,
          0.005434782608695652,
          0.024562309115154644,
          0.022649599204623127,
          0.015372034169899101,
          0.009119164907342247,
          0.005324348456688576,
          0.02711865120528341,
          0.006283157162655972,
          0.01165228918937595,
          0.010773583894276012,
          0.012125786027088444,
          0.01106347778376864,
          0.01771825859581583,
          0.018167068519569687,
          0.01883803340183962,
          0.01752469740731843,
          0.01743158203212928,
          0.022343199595653628,
          0.031164321453920785,
          0.04049522599821624,
          0.05192642976646153,
          0.05355453326952917,
          0.09653830616963682,
          0.10597866391916282,
          0.10025947573353929,
          0.10112082612557911,
          0.06818994184768136,
          0.0676501080416576,
          0.06621440445548546,
          0.06322999092733428,
          0.059451023187923,
          0.057969235859053225,
          0.05237819670465129,
          0.046951215112625254,
          0.04002038891501355,
          0.03474996137645887,
          0.03792571327178943,
          0.04042121501281915,
          0.03777391467267467,
          0.036277338252365954,
          0.041342054701657,
          0.04289284486618244,
          0.04231930446799732,
          0.05487654354912492,
          0.04382188537973986,
          0.04243504491053737,
          0.04318164992685575,
          0.037402540994879725,
          0.03444240424704185,
          0.043490094833765286,
          0.03883019706956691,
          0.04441917463099236,
          0.05206826215892458,
          0.04424241685762806,
          0.045848489551434744,
          0.05359405183598112,
          0.04369364308271225,
          0.054834568823207835,
          0.04916975439917674,
          2.466872143953358,
          0.005816487537579284,
          -0.024184814000324295,
          0.08438137731345866,
          0.3290196662886436,
          0.052581803023633605,
          0.045781737289234695,
          0.03752751560602368,
          0.03421688027970471,
          0.032889802984787324,
          0.029085699058670325,
          0.029012924717120792,
          0.027956627887861935,
          0.033090409714256426,
          0.028264740487947183,
          0.036595849695355405,
          0.036360788866281885,
          0.033401188729294956,
          0.029612376805173642,
          0.028145099601507753,
          0.027562168848164547,
          0.030616968382755877,
          0.026407020435745138,
          0.027542532367445,
          0.02882399022162221,
          0.05144550939594503,
          0.05199128683315516,
          0.024232699327001683,
          0.026512721483059522,
          0.0242044335739235,
          0.023578718676227947,
          0.023661887164053635,
          0.023530623324776706,
          0.024484956681637287,
          0.024710025713578807,
          0.024376346056286368,
          0.025197346292849792,
          0.054545299530031406,
          0.06739661809501718,
          0.055743700648285106,
          0.04240242775591699,
          0.042150756804428514,
          0.034403626356845636,
          0.03173965633823456,
          0.028153837033957158,
          0.02994820819866717,
          0.027519762029262995,
          0.026209992066888513,
          0.024512087393248522,
          0.025733234936922228,
          0.028516101782175795,
          0.02828906538024555,
          0.031118462903373122,
          0.034568360111645685,
          0.03702035473661537,
          0.036474878241565346,
          0.03659961717999526,
          0.03896001470964817,
          0.039275731302709914,
          0.03605782065505149,
          0.033279444600103084,
          0.0333637090056006,
          0.042751484205636375,
          0.0397564135039414,
          0.03424983206108738,
          0.03265155827287818,
          0.03338029972896394,
          0.03636443451944566,
          0.04138021010523286,
          0.03566613972232586,
          0.034127333153054294,
          0.034384257908791446,
          0.03463917608833593,
          0.031436267909626045,
          0.039965194515134084,
          0.03574752017202892,
          0.035735695087294524,
          0.034651740606873815,
          0.033568529397833814,
          0.033967082757087756,
          0.034008145083066585,
          0.02402663463426601,
          0.022549793411185282,
          0.021999050370843307,
          0.024191194544897692,
          0.024003091890740385,
          0.025737358717277916,
          0.025087992464050357,
          0.025190459080205535,
          0.024875529691716136,
          0.024666194088024913,
          0.022287797422884646,
          0.02195999874247011,
          0.020099063341694815,
          0.01993329811095091,
          0.02517363629130999,
          0.026266534636248517,
          0.026703551633798728,
          0.027444618452409548,
          0.02967210604693653,
          0.02971924817593011,
          0.03076696288719051,
          0.027388972011392145,
          0.028293613202939504,
          0.02920685956250506,
          0.029588980157135843,
          0.02813296424980169,
          0.03062548031155829,
          0.031513771927917926,
          0.03105719862484208,
          0.02960886548833518,
          0.030668944275964838,
          0.029402827207175793,
          0.029712305409571232,
          0.028732299258527782,
          0.02960077377267178,
          0.02921613428962547,
          0.030884447970791,
          0.030533385792522152,
          -0.02839183800798985,
          -0.03541521989465377,
          -0.040945921722463925,
          -0.052269155659573546,
          -0.060579078749634696,
          -0.0933433802000976,
          -0.1688793156602657,
          0.0259021858048894,
          0.024175727791274877,
          0.024519877956839287,
          0.024434750086431742,
          0.024986702248840382,
          0.02426408361400897,
          0.025538774319214863,
          0.02520301439785595,
          0.0244046147844683,
          0.026771196276564584,
          0.029711224643670455,
          0.030182034652369613,
          0.029195139639254953,
          0.028679689018494808,
          0.029517797326197328,
          0.030941000889367767,
          0.029707227628066074,
          0.02789306021033823,
          0.03121187501338868,
          0.03385432913005596,
          0.03474422585848611,
          0.03451183999888504,
          0.03453055635023712,
          0.03358458005188186,
          0.03435141785748675,
          0.03587721108490997,
          0.03631215582494355,
          0.03669613197320718,
          0.03690980477821107,
          0.03733733392290877,
          0.03699251152843314,
          0.03827006299109537,
          0.03312548599471569,
          0.03242532673914444,
          0.03187556241888733,
          0.032349325722679255,
          0.0324654736892425,
          0.03432375297830244,
          0.03439936629762518,
          0.0329357134969964,
          0.03179419424578004,
          0.030161543807826402,
          0.030553039180714645,
          0.03196365707594038,
          0.03173341667074627,
          0.0322791183908475,
          0.03080037301471314,
          0.030912370644413673,
          0.03215836036725246,
          0.030878707081492113,
          0.03011153822903497,
          0.028995359824104963,
          0.028717674485209312,
          0.028562410935632793,
          0.029338779487060696,
          0.03204518858056273,
          0.03196012483068067,
          0.030719137959853742,
          0.027707222093529566,
          0.025600832878801234,
          0.027713637803097782,
          0.025598361811325118,
          0.022594050660507205,
          0.023672512775750394,
          0.02564432861674707,
          0.028552462152451604,
          0.029444951876620464,
          0.02785542708550001,
          0.029101884689022306,
          0.029325881589275737,
          0.028896033188838408
         ]
        }
       ],
       "layout": {
        "template": {
         "data": {
          "bar": [
           {
            "error_x": {
             "color": "#2a3f5f"
            },
            "error_y": {
             "color": "#2a3f5f"
            },
            "marker": {
             "line": {
              "color": "#E5ECF6",
              "width": 0.5
             }
            },
            "type": "bar"
           }
          ],
          "barpolar": [
           {
            "marker": {
             "line": {
              "color": "#E5ECF6",
              "width": 0.5
             }
            },
            "type": "barpolar"
           }
          ],
          "carpet": [
           {
            "aaxis": {
             "endlinecolor": "#2a3f5f",
             "gridcolor": "white",
             "linecolor": "white",
             "minorgridcolor": "white",
             "startlinecolor": "#2a3f5f"
            },
            "baxis": {
             "endlinecolor": "#2a3f5f",
             "gridcolor": "white",
             "linecolor": "white",
             "minorgridcolor": "white",
             "startlinecolor": "#2a3f5f"
            },
            "type": "carpet"
           }
          ],
          "choropleth": [
           {
            "colorbar": {
             "outlinewidth": 0,
             "ticks": ""
            },
            "type": "choropleth"
           }
          ],
          "contour": [
           {
            "colorbar": {
             "outlinewidth": 0,
             "ticks": ""
            },
            "colorscale": [
             [
              0,
              "#0d0887"
             ],
             [
              0.1111111111111111,
              "#46039f"
             ],
             [
              0.2222222222222222,
              "#7201a8"
             ],
             [
              0.3333333333333333,
              "#9c179e"
             ],
             [
              0.4444444444444444,
              "#bd3786"
             ],
             [
              0.5555555555555556,
              "#d8576b"
             ],
             [
              0.6666666666666666,
              "#ed7953"
             ],
             [
              0.7777777777777778,
              "#fb9f3a"
             ],
             [
              0.8888888888888888,
              "#fdca26"
             ],
             [
              1,
              "#f0f921"
             ]
            ],
            "type": "contour"
           }
          ],
          "contourcarpet": [
           {
            "colorbar": {
             "outlinewidth": 0,
             "ticks": ""
            },
            "type": "contourcarpet"
           }
          ],
          "heatmap": [
           {
            "colorbar": {
             "outlinewidth": 0,
             "ticks": ""
            },
            "colorscale": [
             [
              0,
              "#0d0887"
             ],
             [
              0.1111111111111111,
              "#46039f"
             ],
             [
              0.2222222222222222,
              "#7201a8"
             ],
             [
              0.3333333333333333,
              "#9c179e"
             ],
             [
              0.4444444444444444,
              "#bd3786"
             ],
             [
              0.5555555555555556,
              "#d8576b"
             ],
             [
              0.6666666666666666,
              "#ed7953"
             ],
             [
              0.7777777777777778,
              "#fb9f3a"
             ],
             [
              0.8888888888888888,
              "#fdca26"
             ],
             [
              1,
              "#f0f921"
             ]
            ],
            "type": "heatmap"
           }
          ],
          "heatmapgl": [
           {
            "colorbar": {
             "outlinewidth": 0,
             "ticks": ""
            },
            "colorscale": [
             [
              0,
              "#0d0887"
             ],
             [
              0.1111111111111111,
              "#46039f"
             ],
             [
              0.2222222222222222,
              "#7201a8"
             ],
             [
              0.3333333333333333,
              "#9c179e"
             ],
             [
              0.4444444444444444,
              "#bd3786"
             ],
             [
              0.5555555555555556,
              "#d8576b"
             ],
             [
              0.6666666666666666,
              "#ed7953"
             ],
             [
              0.7777777777777778,
              "#fb9f3a"
             ],
             [
              0.8888888888888888,
              "#fdca26"
             ],
             [
              1,
              "#f0f921"
             ]
            ],
            "type": "heatmapgl"
           }
          ],
          "histogram": [
           {
            "marker": {
             "colorbar": {
              "outlinewidth": 0,
              "ticks": ""
             }
            },
            "type": "histogram"
           }
          ],
          "histogram2d": [
           {
            "colorbar": {
             "outlinewidth": 0,
             "ticks": ""
            },
            "colorscale": [
             [
              0,
              "#0d0887"
             ],
             [
              0.1111111111111111,
              "#46039f"
             ],
             [
              0.2222222222222222,
              "#7201a8"
             ],
             [
              0.3333333333333333,
              "#9c179e"
             ],
             [
              0.4444444444444444,
              "#bd3786"
             ],
             [
              0.5555555555555556,
              "#d8576b"
             ],
             [
              0.6666666666666666,
              "#ed7953"
             ],
             [
              0.7777777777777778,
              "#fb9f3a"
             ],
             [
              0.8888888888888888,
              "#fdca26"
             ],
             [
              1,
              "#f0f921"
             ]
            ],
            "type": "histogram2d"
           }
          ],
          "histogram2dcontour": [
           {
            "colorbar": {
             "outlinewidth": 0,
             "ticks": ""
            },
            "colorscale": [
             [
              0,
              "#0d0887"
             ],
             [
              0.1111111111111111,
              "#46039f"
             ],
             [
              0.2222222222222222,
              "#7201a8"
             ],
             [
              0.3333333333333333,
              "#9c179e"
             ],
             [
              0.4444444444444444,
              "#bd3786"
             ],
             [
              0.5555555555555556,
              "#d8576b"
             ],
             [
              0.6666666666666666,
              "#ed7953"
             ],
             [
              0.7777777777777778,
              "#fb9f3a"
             ],
             [
              0.8888888888888888,
              "#fdca26"
             ],
             [
              1,
              "#f0f921"
             ]
            ],
            "type": "histogram2dcontour"
           }
          ],
          "mesh3d": [
           {
            "colorbar": {
             "outlinewidth": 0,
             "ticks": ""
            },
            "type": "mesh3d"
           }
          ],
          "parcoords": [
           {
            "line": {
             "colorbar": {
              "outlinewidth": 0,
              "ticks": ""
             }
            },
            "type": "parcoords"
           }
          ],
          "pie": [
           {
            "automargin": true,
            "type": "pie"
           }
          ],
          "scatter": [
           {
            "marker": {
             "colorbar": {
              "outlinewidth": 0,
              "ticks": ""
             }
            },
            "type": "scatter"
           }
          ],
          "scatter3d": [
           {
            "line": {
             "colorbar": {
              "outlinewidth": 0,
              "ticks": ""
             }
            },
            "marker": {
             "colorbar": {
              "outlinewidth": 0,
              "ticks": ""
             }
            },
            "type": "scatter3d"
           }
          ],
          "scattercarpet": [
           {
            "marker": {
             "colorbar": {
              "outlinewidth": 0,
              "ticks": ""
             }
            },
            "type": "scattercarpet"
           }
          ],
          "scattergeo": [
           {
            "marker": {
             "colorbar": {
              "outlinewidth": 0,
              "ticks": ""
             }
            },
            "type": "scattergeo"
           }
          ],
          "scattergl": [
           {
            "marker": {
             "colorbar": {
              "outlinewidth": 0,
              "ticks": ""
             }
            },
            "type": "scattergl"
           }
          ],
          "scattermapbox": [
           {
            "marker": {
             "colorbar": {
              "outlinewidth": 0,
              "ticks": ""
             }
            },
            "type": "scattermapbox"
           }
          ],
          "scatterpolar": [
           {
            "marker": {
             "colorbar": {
              "outlinewidth": 0,
              "ticks": ""
             }
            },
            "type": "scatterpolar"
           }
          ],
          "scatterpolargl": [
           {
            "marker": {
             "colorbar": {
              "outlinewidth": 0,
              "ticks": ""
             }
            },
            "type": "scatterpolargl"
           }
          ],
          "scatterternary": [
           {
            "marker": {
             "colorbar": {
              "outlinewidth": 0,
              "ticks": ""
             }
            },
            "type": "scatterternary"
           }
          ],
          "surface": [
           {
            "colorbar": {
             "outlinewidth": 0,
             "ticks": ""
            },
            "colorscale": [
             [
              0,
              "#0d0887"
             ],
             [
              0.1111111111111111,
              "#46039f"
             ],
             [
              0.2222222222222222,
              "#7201a8"
             ],
             [
              0.3333333333333333,
              "#9c179e"
             ],
             [
              0.4444444444444444,
              "#bd3786"
             ],
             [
              0.5555555555555556,
              "#d8576b"
             ],
             [
              0.6666666666666666,
              "#ed7953"
             ],
             [
              0.7777777777777778,
              "#fb9f3a"
             ],
             [
              0.8888888888888888,
              "#fdca26"
             ],
             [
              1,
              "#f0f921"
             ]
            ],
            "type": "surface"
           }
          ],
          "table": [
           {
            "cells": {
             "fill": {
              "color": "#EBF0F8"
             },
             "line": {
              "color": "white"
             }
            },
            "header": {
             "fill": {
              "color": "#C8D4E3"
             },
             "line": {
              "color": "white"
             }
            },
            "type": "table"
           }
          ]
         },
         "layout": {
          "annotationdefaults": {
           "arrowcolor": "#2a3f5f",
           "arrowhead": 0,
           "arrowwidth": 1
          },
          "coloraxis": {
           "colorbar": {
            "outlinewidth": 0,
            "ticks": ""
           }
          },
          "colorscale": {
           "diverging": [
            [
             0,
             "#8e0152"
            ],
            [
             0.1,
             "#c51b7d"
            ],
            [
             0.2,
             "#de77ae"
            ],
            [
             0.3,
             "#f1b6da"
            ],
            [
             0.4,
             "#fde0ef"
            ],
            [
             0.5,
             "#f7f7f7"
            ],
            [
             0.6,
             "#e6f5d0"
            ],
            [
             0.7,
             "#b8e186"
            ],
            [
             0.8,
             "#7fbc41"
            ],
            [
             0.9,
             "#4d9221"
            ],
            [
             1,
             "#276419"
            ]
           ],
           "sequential": [
            [
             0,
             "#0d0887"
            ],
            [
             0.1111111111111111,
             "#46039f"
            ],
            [
             0.2222222222222222,
             "#7201a8"
            ],
            [
             0.3333333333333333,
             "#9c179e"
            ],
            [
             0.4444444444444444,
             "#bd3786"
            ],
            [
             0.5555555555555556,
             "#d8576b"
            ],
            [
             0.6666666666666666,
             "#ed7953"
            ],
            [
             0.7777777777777778,
             "#fb9f3a"
            ],
            [
             0.8888888888888888,
             "#fdca26"
            ],
            [
             1,
             "#f0f921"
            ]
           ],
           "sequentialminus": [
            [
             0,
             "#0d0887"
            ],
            [
             0.1111111111111111,
             "#46039f"
            ],
            [
             0.2222222222222222,
             "#7201a8"
            ],
            [
             0.3333333333333333,
             "#9c179e"
            ],
            [
             0.4444444444444444,
             "#bd3786"
            ],
            [
             0.5555555555555556,
             "#d8576b"
            ],
            [
             0.6666666666666666,
             "#ed7953"
            ],
            [
             0.7777777777777778,
             "#fb9f3a"
            ],
            [
             0.8888888888888888,
             "#fdca26"
            ],
            [
             1,
             "#f0f921"
            ]
           ]
          },
          "colorway": [
           "#636efa",
           "#EF553B",
           "#00cc96",
           "#ab63fa",
           "#FFA15A",
           "#19d3f3",
           "#FF6692",
           "#B6E880",
           "#FF97FF",
           "#FECB52"
          ],
          "font": {
           "color": "#2a3f5f"
          },
          "geo": {
           "bgcolor": "white",
           "lakecolor": "white",
           "landcolor": "#E5ECF6",
           "showlakes": true,
           "showland": true,
           "subunitcolor": "white"
          },
          "hoverlabel": {
           "align": "left"
          },
          "hovermode": "closest",
          "mapbox": {
           "style": "light"
          },
          "paper_bgcolor": "white",
          "plot_bgcolor": "#E5ECF6",
          "polar": {
           "angularaxis": {
            "gridcolor": "white",
            "linecolor": "white",
            "ticks": ""
           },
           "bgcolor": "#E5ECF6",
           "radialaxis": {
            "gridcolor": "white",
            "linecolor": "white",
            "ticks": ""
           }
          },
          "scene": {
           "xaxis": {
            "backgroundcolor": "#E5ECF6",
            "gridcolor": "white",
            "gridwidth": 2,
            "linecolor": "white",
            "showbackground": true,
            "ticks": "",
            "zerolinecolor": "white"
           },
           "yaxis": {
            "backgroundcolor": "#E5ECF6",
            "gridcolor": "white",
            "gridwidth": 2,
            "linecolor": "white",
            "showbackground": true,
            "ticks": "",
            "zerolinecolor": "white"
           },
           "zaxis": {
            "backgroundcolor": "#E5ECF6",
            "gridcolor": "white",
            "gridwidth": 2,
            "linecolor": "white",
            "showbackground": true,
            "ticks": "",
            "zerolinecolor": "white"
           }
          },
          "shapedefaults": {
           "line": {
            "color": "#2a3f5f"
           }
          },
          "ternary": {
           "aaxis": {
            "gridcolor": "white",
            "linecolor": "white",
            "ticks": ""
           },
           "baxis": {
            "gridcolor": "white",
            "linecolor": "white",
            "ticks": ""
           },
           "bgcolor": "#E5ECF6",
           "caxis": {
            "gridcolor": "white",
            "linecolor": "white",
            "ticks": ""
           }
          },
          "title": {
           "x": 0.05
          },
          "xaxis": {
           "automargin": true,
           "gridcolor": "white",
           "linecolor": "white",
           "ticks": "",
           "title": {
            "standoff": 15
           },
           "zerolinecolor": "white",
           "zerolinewidth": 2
          },
          "yaxis": {
           "automargin": true,
           "gridcolor": "white",
           "linecolor": "white",
           "ticks": "",
           "title": {
            "standoff": 15
           },
           "zerolinecolor": "white",
           "zerolinewidth": 2
          }
         }
        },
        "title": {
         "text": "Mean death rate over continents"
        },
        "xaxis": {
         "ticklen": 5,
         "title": {
          "text": "mean deaths/cases %"
         },
         "zeroline": false
        }
       }
      },
      "text/html": [
       "<div>\n",
       "        \n",
       "        \n",
       "            <div id=\"5a351821-c6c9-49e7-b648-4862e286d1b4\" class=\"plotly-graph-div\" style=\"height:525px; width:100%;\"></div>\n",
       "            <script type=\"text/javascript\">\n",
       "                require([\"plotly\"], function(Plotly) {\n",
       "                    window.PLOTLYENV=window.PLOTLYENV || {};\n",
       "                    \n",
       "                if (document.getElementById(\"5a351821-c6c9-49e7-b648-4862e286d1b4\")) {\n",
       "                    Plotly.newPlot(\n",
       "                        '5a351821-c6c9-49e7-b648-4862e286d1b4',\n",
       "                        [{\"marker\": {\"color\": \"green\"}, \"mode\": \"lines\", \"name\": \"Asia\", \"type\": \"scatter\", \"x\": [\"2020-03-01\", \"2020-03-02\", \"2020-03-03\", \"2020-03-04\", \"2020-03-05\", \"2020-03-06\", \"2020-03-07\", \"2020-03-08\", \"2020-03-09\", \"2020-03-10\", \"2020-03-11\", \"2020-03-12\", \"2020-03-13\", \"2020-03-14\", \"2020-03-15\", \"2020-03-16\", \"2020-03-17\", \"2020-03-18\", \"2020-03-19\", \"2020-03-20\", \"2020-03-21\", \"2020-03-22\", \"2020-03-23\", \"2020-03-24\", \"2020-03-25\", \"2020-03-26\", \"2020-03-27\", \"2020-03-28\", \"2020-03-29\", \"2020-03-30\", \"2020-03-31\", \"2020-04-01\", \"2020-04-02\", \"2020-04-03\", \"2020-04-04\", \"2020-04-05\", \"2020-04-06\", \"2020-04-07\", \"2020-04-08\", \"2020-04-09\", \"2020-04-10\", \"2020-04-11\", \"2020-04-12\", \"2020-04-13\", \"2020-04-14\", \"2020-04-15\", \"2020-04-16\", \"2020-04-17\", \"2020-04-18\", \"2020-04-19\", \"2020-04-20\", \"2020-04-21\", \"2020-04-22\", \"2020-04-23\", \"2020-04-24\", \"2020-04-25\", \"2020-04-26\", \"2020-04-27\", \"2020-04-28\", \"2020-04-29\", \"2020-04-30\", \"2020-05-01\", \"2020-05-02\", \"2020-05-03\", \"2020-05-04\", \"2020-05-05\", \"2020-05-06\", \"2020-05-07\", \"2020-05-08\", \"2020-05-09\", \"2020-05-10\", \"2020-05-11\", \"2020-05-12\", \"2020-05-13\", \"2020-05-14\", \"2020-05-15\", \"2020-05-16\", \"2020-05-17\", \"2020-05-18\", \"2020-05-19\", \"2020-05-20\", \"2020-05-21\", \"2020-05-22\", \"2020-05-23\", \"2020-05-24\", \"2020-05-25\", \"2020-05-26\", \"2020-05-27\", \"2020-05-28\", \"2020-05-29\", \"2020-05-30\", \"2020-05-31\", \"2020-06-01\", \"2020-06-02\", \"2020-06-03\", \"2020-06-04\", \"2020-06-05\", \"2020-06-06\", \"2020-06-07\", \"2020-06-08\", \"2020-06-09\", \"2020-06-10\", \"2020-06-11\", \"2020-06-12\", \"2020-06-13\", \"2020-06-14\", \"2020-06-15\", \"2020-06-16\", \"2020-06-17\", \"2020-06-18\", \"2020-06-19\", \"2020-06-20\", \"2020-06-21\", \"2020-06-22\", \"2020-06-23\", \"2020-06-24\", \"2020-06-25\", \"2020-06-26\", \"2020-06-27\", \"2020-06-28\", \"2020-06-29\", \"2020-06-30\", \"2020-07-01\", \"2020-07-02\", \"2020-07-03\", \"2020-07-04\", \"2020-07-05\", \"2020-07-06\", \"2020-07-07\", \"2020-07-08\", \"2020-07-09\", \"2020-07-10\", \"2020-07-11\", \"2020-07-12\", \"2020-07-13\", \"2020-07-14\", \"2020-07-15\", \"2020-07-16\", \"2020-07-17\", \"2020-07-18\", \"2020-07-19\", \"2020-07-20\", \"2020-07-21\", \"2020-07-22\", \"2020-07-23\", \"2020-07-24\", \"2020-07-25\", \"2020-07-26\", \"2020-07-27\", \"2020-07-28\", \"2020-07-29\", \"2020-07-30\", \"2020-07-31\", \"2020-08-01\", \"2020-08-02\", \"2020-08-03\", \"2020-08-04\", \"2020-08-05\", \"2020-08-06\", \"2020-08-07\", \"2020-08-08\", \"2020-08-09\", \"2020-08-10\", \"2020-08-11\", \"2020-08-12\", \"2020-08-13\", \"2020-08-14\", \"2020-08-15\", \"2020-08-16\", \"2020-08-17\", \"2020-08-18\", \"2020-08-19\", \"2020-08-20\", \"2020-08-21\", \"2020-08-22\", \"2020-08-23\", \"2020-08-24\", \"2020-08-25\", \"2020-08-26\", \"2020-08-27\", \"2020-08-28\", \"2020-08-29\", \"2020-08-30\", \"2020-08-31\", \"2020-09-01\", \"2020-09-02\", \"2020-09-03\", \"2020-09-04\", \"2020-09-05\", \"2020-09-06\", \"2020-09-07\", \"2020-09-08\", \"2020-09-09\", \"2020-09-10\", \"2020-09-11\", \"2020-09-12\", \"2020-09-13\", \"2020-09-14\", \"2020-09-15\", \"2020-09-16\", \"2020-09-17\", \"2020-09-18\", \"2020-09-19\", \"2020-09-20\", \"2020-09-21\", \"2020-09-22\", \"2020-09-23\", \"2020-09-24\", \"2020-09-25\", \"2020-09-26\", \"2020-09-27\", \"2020-09-28\", \"2020-09-29\", \"2020-09-30\", \"2020-10-01\", \"2020-10-02\", \"2020-10-03\", \"2020-10-04\", \"2020-10-05\", \"2020-10-06\", \"2020-10-07\", \"2020-10-08\", \"2020-10-09\", \"2020-10-10\", \"2020-10-11\", \"2020-10-12\", \"2020-10-13\", \"2020-10-14\", \"2020-10-15\", \"2020-10-16\", \"2020-10-17\", \"2020-10-18\", \"2020-10-19\", \"2020-10-20\", \"2020-10-21\", \"2020-10-22\", \"2020-10-23\", \"2020-10-24\", \"2020-10-25\", \"2020-10-26\", \"2020-10-27\", \"2020-10-28\", \"2020-10-29\", \"2020-10-30\", \"2020-10-31\", \"2020-11-01\", \"2020-11-02\", \"2020-11-03\", \"2020-11-04\", \"2020-11-05\", \"2020-11-06\", \"2020-11-07\", \"2020-11-08\", \"2020-11-09\", \"2020-11-10\", \"2020-11-11\", \"2020-11-12\", \"2020-11-13\", \"2020-11-14\", \"2020-11-15\", \"2020-11-16\", \"2020-11-17\", \"2020-11-18\", \"2020-11-19\", \"2020-11-20\", \"2020-11-21\", \"2020-11-22\", \"2020-11-23\"], \"y\": [1.9104530171226313, 1.5360177054163897, 1.7628414900902352, 2.5495470128397497, 1.5384102725349342, 1.8160325267568345, 1.6490887745637002, 1.3680313131535238, 1.7429866210240668, 1.9590812907013786, 2.3885908194608936, 2.593187336905674, 2.9227339923663798, 3.5695720874016423, 3.4160823873477435, 2.856819877783138, 2.76231882189278, 2.4117878642030273, 2.29524526125118, 2.0899475237795384, 1.9228022478069202, 2.250381267714987, 2.551355986876148, 2.404011384165655, 2.1033218258404887, 2.059513456577993, 2.124503678713645, 1.9557573233657692, 2.1317666645641036, 2.305215285664866, 2.5844509630555605, 2.91270152295093, 2.810434245713044, 2.9157625339032998, 2.915728297565711, 2.941279358826201, 2.6395415022646156, 2.4146433675670953, 2.147165864872081, 3.0311491147419005, 2.746628135240049, 2.7024104001727407, 2.7486377803322948, 2.565162691189419, 2.570806872386405, 2.390750651290116, 2.2749201547544717, 5.862192271530479, 6.080126600385316, 6.326194683290874, 7.3369440426206465, 7.652505071457706, 8.097103382851758, 8.90146824132568, 2.2126897258399976, 2.443828329741922, 2.5833553828386018, 1.9752685318205156, 2.0460179020363625, 2.1181621674935296, 2.027056239667639, 3.250847875114056, 3.5272183072661676, 3.5872961341214578, 3.5248280415763484, 3.211517340914801, 2.9998233068541, 3.00687780359298, 2.57807380741366, 2.553511555215565, 2.4683688488073843, 2.120726195045745, 3.4987765780283917, 3.486550301216641, 4.6210497503867405, 2.411679019384198, 2.3324170173159677, 2.353935113387003, 2.4940658062702967, 2.3648458028110855, 2.519740819106422, 2.257130755183176, 2.2275573616569257, 2.4784672597599746, 2.4797654934596567, 2.471920483179267, 2.581116584693893, 2.5319140049030375, 2.6594962846316546, 2.636835167127655, 2.509792840226018, 2.2695719665294845, 2.1457496689859394, 2.080657411559137, 4.1318183508040995, 4.082457774327268, 3.3318535543270045, 4.205369679806087, 4.1194501495294595, 1.9876211718683705, 1.9321835103757192, 1.8343746765166238, 1.6727867975091855, 1.6334294669085245, 1.4629550589482652, 1.5773081626544931, 1.5445114278720287, 1.6402377943107065, 1.614372358391183, 1.9455979443109825, 1.977487437859572, 2.1531752608189016, 2.1803360735445017, 2.162911502212705, 2.070507795880123, 2.141296036950686, 1.6882968993807652, 1.60755942035915, 1.5752298715335733, 1.6815542386264755, 1.8090121770013332, 1.896201433013832, 1.937252009891096, 1.7513466211951192, 1.7528769941285278, 1.8420368681758514, 1.7429414159618344, 1.8738733354376869, 1.938554843313747, 2.0025718309174665, 2.0044912242243846, 2.0389039234766355, 1.8531805948601525, 1.9143928422392344, 2.3150951462428258, 2.3021031955833617, 2.3719544408733366, 2.4044895328291864, 2.4259410714417218, 2.615914176541804, 2.7538068739331845, 2.2576194604178554, 2.3790035851152616, 2.289325780043573, 2.2226241677440917, 2.2264964813244283, 2.268910929093097, 2.314332533573556, 2.585163220178025, 2.5969747047197194, 2.3990584417783607, 2.260593610436416, 2.1823273729631674, 2.369044672737171, 2.2349026830427112, 2.143110838678603, 2.1865792414032246, 2.1518401817663904, 2.38450052491925, 2.6046780170814956, 1.9261271193224974, 1.9418092644949818, 1.9456334295394857, 1.8006986285829616, 2.0550691944419834, 2.0873698514564123, 2.1268218492446955, 2.244281500676968, 2.245917770544469, 2.077264637811281, 2.3351283207117413, 2.0184276558769647, 1.932624026753577, 1.908608504149657, 2.026754960348105, 2.264067139782854, 1.4419003613298738, 1.8971783041538262, 1.8880556924957361, 2.0139848034361583, 1.9607209836542647, 2.2332524261579434, 1.97787004309331, 2.828759758988159, 2.679533647146947, 3.276519149946556, 2.992406859098962, 3.1083092344546173, 3.141648940309126, 2.6462412673755717, 2.7486780725945295, 2.25301555014323, 2.0097785493432205, 2.030529145789326, 2.0689452742367678, 2.216301076612871, 2.4407367594695795, 2.1912311870582526, 2.333098691034049, 2.059091398850084, 2.09155831648743, 1.8366403278889407, 1.9308557672216482, 1.9264847909260947, 1.9675358159018397, 2.0500313029229997, 2.0043011584453625, 2.042564263285168, 2.1396100745612885, 1.9311176176334404, 2.294697872184989, 2.5759449099922147, 1.8814776266197086, 2.3365018792726664, 2.2572362315860026, 1.9366492373921333, 1.639966744770087, 2.028242454060716, 1.9928236704408353, 2.2414145804397654, 2.428306438499522, 2.038681198859995, 2.139498906136681, 2.563115052109544, 2.346076786237682, 2.4820986418878843, 2.14901855221547, 2.157042934780445, 2.964054082405274, 3.568526869095205, 3.640661952125445, 2.5936182396200635, 1.9939869613092884, 3.0514942562890033, 2.591001897907127, 2.575471175320163, 2.506392036947356, 2.517528361574238, 2.477965990197055, 2.4496358451989053, 1.26780884120227, 1.2619536358864405, 2.3911963162916807, 2.4176172195807286, 2.388542715160812, 1.2850829199681613, 1.2858071143670458, 1.308982179145624, 2.988185127750787, 2.5035869893183915, 2.567922249981753, 2.0101802638810438, 1.9871522983939311, 1.9924940095150507, 1.9918641818001501, 1.3046607087787634, 1.3190316169012526, 1.245604777583632, 2.435430583099165, 2.44348368507922, 2.429150938970403, 3.570513389476928, 3.5456044773414575, 2.139328587767179, 2.000829780053666, 1.7773716262832653, 1.8357265927870774, 1.7429105965664944]}, {\"marker\": {\"color\": \"red\"}, \"mode\": \"lines\", \"name\": \"Europe\", \"type\": \"scatter\", \"x\": [\"2020-03-01\", \"2020-03-02\", \"2020-03-03\", \"2020-03-04\", \"2020-03-05\", \"2020-03-06\", \"2020-03-07\", \"2020-03-08\", \"2020-03-09\", \"2020-03-10\", \"2020-03-11\", \"2020-03-12\", \"2020-03-13\", \"2020-03-14\", \"2020-03-15\", \"2020-03-16\", \"2020-03-17\", \"2020-03-18\", \"2020-03-19\", \"2020-03-20\", \"2020-03-21\", \"2020-03-22\", \"2020-03-23\", \"2020-03-24\", \"2020-03-25\", \"2020-03-26\", \"2020-03-27\", \"2020-03-28\", \"2020-03-29\", \"2020-03-30\", \"2020-03-31\", \"2020-04-01\", \"2020-04-02\", \"2020-04-03\", \"2020-04-04\", \"2020-04-05\", \"2020-04-06\", \"2020-04-07\", \"2020-04-08\", \"2020-04-09\", \"2020-04-10\", \"2020-04-11\", \"2020-04-12\", \"2020-04-13\", \"2020-04-14\", \"2020-04-15\", \"2020-04-16\", \"2020-04-17\", \"2020-04-18\", \"2020-04-19\", \"2020-04-20\", \"2020-04-21\", \"2020-04-22\", \"2020-04-23\", \"2020-04-24\", \"2020-04-25\", \"2020-04-26\", \"2020-04-27\", \"2020-04-28\", \"2020-04-29\", \"2020-04-30\", \"2020-05-01\", \"2020-05-02\", \"2020-05-03\", \"2020-05-04\", \"2020-05-05\", \"2020-05-06\", \"2020-05-07\", \"2020-05-08\", \"2020-05-09\", \"2020-05-10\", \"2020-05-11\", \"2020-05-12\", \"2020-05-13\", \"2020-05-14\", \"2020-05-15\", \"2020-05-16\", \"2020-05-17\", \"2020-05-18\", \"2020-05-19\", \"2020-05-20\", \"2020-05-21\", \"2020-05-22\", \"2020-05-23\", \"2020-05-24\", \"2020-05-25\", \"2020-05-26\", \"2020-05-27\", \"2020-05-28\", \"2020-05-29\", \"2020-05-30\", \"2020-05-31\", \"2020-06-01\", \"2020-06-02\", \"2020-06-03\", \"2020-06-04\", \"2020-06-05\", \"2020-06-06\", \"2020-06-07\", \"2020-06-08\", \"2020-06-09\", \"2020-06-10\", \"2020-06-11\", \"2020-06-12\", \"2020-06-13\", \"2020-06-14\", \"2020-06-15\", \"2020-06-16\", \"2020-06-17\", \"2020-06-18\", \"2020-06-19\", \"2020-06-20\", \"2020-06-21\", \"2020-06-22\", \"2020-06-23\", \"2020-06-24\", \"2020-06-25\", \"2020-06-26\", \"2020-06-27\", \"2020-06-28\", \"2020-06-29\", \"2020-06-30\", \"2020-07-01\", \"2020-07-02\", \"2020-07-03\", \"2020-07-04\", \"2020-07-05\", \"2020-07-06\", \"2020-07-07\", \"2020-07-08\", \"2020-07-09\", \"2020-07-10\", \"2020-07-11\", \"2020-07-12\", \"2020-07-13\", \"2020-07-14\", \"2020-07-15\", \"2020-07-16\", \"2020-07-17\", \"2020-07-18\", \"2020-07-19\", \"2020-07-20\", \"2020-07-21\", \"2020-07-22\", \"2020-07-23\", \"2020-07-24\", \"2020-07-25\", \"2020-07-26\", \"2020-07-27\", \"2020-07-28\", \"2020-07-29\", \"2020-07-30\", \"2020-07-31\", \"2020-08-01\", \"2020-08-02\", \"2020-08-03\", \"2020-08-04\", \"2020-08-05\", \"2020-08-06\", \"2020-08-07\", \"2020-08-08\", \"2020-08-09\", \"2020-08-10\", \"2020-08-11\", \"2020-08-12\", \"2020-08-13\", \"2020-08-14\", \"2020-08-15\", \"2020-08-16\", \"2020-08-17\", \"2020-08-18\", \"2020-08-19\", \"2020-08-20\", \"2020-08-21\", \"2020-08-22\", \"2020-08-23\", \"2020-08-24\", \"2020-08-25\", \"2020-08-26\", \"2020-08-27\", \"2020-08-28\", \"2020-08-29\", \"2020-08-30\", \"2020-08-31\", \"2020-09-01\", \"2020-09-02\", \"2020-09-03\", \"2020-09-04\", \"2020-09-05\", \"2020-09-06\", \"2020-09-07\", \"2020-09-08\", \"2020-09-09\", \"2020-09-10\", \"2020-09-11\", \"2020-09-12\", \"2020-09-13\", \"2020-09-14\", \"2020-09-15\", \"2020-09-16\", \"2020-09-17\", \"2020-09-18\", \"2020-09-19\", \"2020-09-20\", \"2020-09-21\", \"2020-09-22\", \"2020-09-23\", \"2020-09-24\", \"2020-09-25\", \"2020-09-26\", \"2020-09-27\", \"2020-09-28\", \"2020-09-29\", \"2020-09-30\", \"2020-10-01\", \"2020-10-02\", \"2020-10-03\", \"2020-10-04\", \"2020-10-05\", \"2020-10-06\", \"2020-10-07\", \"2020-10-08\", \"2020-10-09\", \"2020-10-10\", \"2020-10-11\", \"2020-10-12\", \"2020-10-13\", \"2020-10-14\", \"2020-10-15\", \"2020-10-16\", \"2020-10-17\", \"2020-10-18\", \"2020-10-19\", \"2020-10-20\", \"2020-10-21\", \"2020-10-22\", \"2020-10-23\", \"2020-10-24\", \"2020-10-25\", \"2020-10-26\", \"2020-10-27\", \"2020-10-28\", \"2020-10-29\", \"2020-10-30\", \"2020-10-31\", \"2020-11-01\", \"2020-11-02\", \"2020-11-03\", \"2020-11-04\", \"2020-11-05\", \"2020-11-06\", \"2020-11-07\", \"2020-11-08\", \"2020-11-09\", \"2020-11-10\", \"2020-11-11\", \"2020-11-12\", \"2020-11-13\", \"2020-11-14\", \"2020-11-15\", \"2020-11-16\", \"2020-11-17\", \"2020-11-18\", \"2020-11-19\", \"2020-11-20\", \"2020-11-21\", \"2020-11-22\", \"2020-11-23\"], \"y\": [0.14471822375310117, 0.5920854444407575, 0.5982780739755725, 0.5474115559923891, 0.4296230357011788, 0.4821379817472482, 0.5138272580727056, 0.4669008998192318, 0.36538017046730153, 0.49664437452209403, 0.4893576300343684, 0.6735253411042431, 0.8038970266134408, 0.9050006299637833, 1.0059785988450978, 1.1186881114845906, 1.1653369493642303, 1.3948317365306095, 1.8119188531634145, 1.5705778071130712, 1.807736176077423, 2.096124788858767, 2.2534531389458152, 2.084450203722334, 2.294262288954158, 2.1066243168070913, 2.2701594283525153, 2.4912185199727768, 2.557838974975355, 2.8253160187853954, 3.1581714703637456, 3.3822093803139115, 3.701713921760488, 4.328179004926501, 4.660785966272503, 4.869138755945784, 4.924399734885653, 5.111568913148586, 5.5831108465722075, 5.820737427948724, 5.973794848012933, 5.934249030940552, 5.6200492101975845, 5.739197324228823, 5.884766173331045, 6.134753756899581, 6.705402983718751, 7.276154087727978, 7.617868057809239, 7.600671422938571, 7.564781440218023, 7.863123434782182, 7.898319272441034, 8.07266251760949, 8.628992347720263, 9.623441590251538, 10.980439341160277, 11.293664937570423, 11.105051377270625, 19.643993424787602, 10.487161444851445, 12.047705460206288, 11.027082165237644, 11.604735638133578, 13.757273769438697, 13.00678423369059, 11.820827803010081, 11.968106030896037, 12.387294977819295, 11.523071229802982, 11.924058039135437, 11.06539837555063, 13.10264355515309, 10.706648450244941, 10.895402918406882, 10.152919214063838, 10.598793612194067, 10.37140328775992, 10.906836773356755, 10.780866277034878, 11.857529241649488, 11.586870132278685, 14.566352669365948, 13.837795767700237, 11.454740163743399, 8.556265953901425, 9.713541124707485, 11.46852856696034, 7.593739345281783, 7.542545660421908, 10.8406400831139, 9.594090435581982, 12.339460983321615, 10.866108995537791, 11.513396419097116, 10.87119719684049, 8.76629878924716, 7.328572381043795, 7.6030824109163095, 7.353064884485977, 7.4525678512152265, 11.224383804762567, 7.192101391908523, 8.374662463939394, 9.511947309197716, 6.671745266121694, 6.057731181269709, 5.4710215227725945, 5.770080113129027, 5.627988905900653, 6.370184029809818, 7.300859860589609, 6.914840027268973, 6.995573932495931, 7.645256928073085, 6.288962750141386, 7.195519397976686, 5.688785209391522, 3.533009258391638, 3.315935252412076, 3.4357497534320514, 3.345073959379657, 2.9627939140170922, 2.8367877621687043, 2.729000217360443, 2.733835529548023, 2.7494767097069244, 2.515118088919439, 2.302470040782025, 2.2738901425654134, 2.0310607401790186, 1.977438651966542, 1.8302816195557645, 1.8674750681986003, 1.8282453820471605, 1.841810928602319, 1.7257979961940826, 1.7923062930324838, 1.830807840320984, 1.7793638131642036, 1.815493930583234, 1.7347246143008495, 1.5859139420858106, 1.526376369811713, 1.5421388523095532, 1.6497227104308791, 1.5316244284597906, 1.4936567808705383, 1.5483087905149024, 1.5025550318263943, 1.5048814105198969, 1.3521423834768798, 1.2113328250107527, 1.2725736852645435, 1.2261420909758294, 1.3114727295601527, 1.288552956556954, 1.419649057040981, 1.416343767497405, 1.4656307427474584, 1.4406815928261854, 1.4378179516335934, 1.3950763596742777, 1.4637583505774385, 1.395923212686963, 1.4749950126622142, 1.435795979342535, 1.3711441224786172, 1.5064009072598887, 1.5133582374216157, 1.616228609278205, 1.657823279067906, 1.596896706698329, 1.596729593117109, 1.64857572827251, 1.5838942682503303, 1.577313468091646, 1.374419931139703, 1.2454879458261894, 1.215548382860716, 1.2487164728778226, 1.2142493025595034, 1.1861869886629264, 1.2200622885215413, 1.1461426872243137, 1.202776671792392, 1.224310417058711, 1.1711265357793876, 1.1974769652335946, 1.1999632699110199, 1.1837952920284496, 1.1077550332200214, 1.0796445503054075, 1.0339891470735054, 0.9992465108062688, 0.9655464043788938, 0.9320965946952843, 0.9773250933169702, 1.078618867801061, 1.0929366518776575, 1.0641783157631965, 1.0932154345528928, 1.1032841793402337, 1.065994855168799, 1.0369902633854844, 1.0111890143293218, 0.9936141744234501, 1.0186761705338663, 0.9788681308853847, 0.9469370840539001, 0.9696464236363038, 0.9666766018541637, 1.0085563268681734, 1.045625759633021, 1.0091466298281584, 0.9900307688431719, 0.9505925496315725, 0.9546727878323175, 0.9509867724227378, 0.8766620974634166, 0.9253639173604838, 0.9451928969348109, 0.9002166205799151, 0.8823815296497155, 0.8364095783495402, 0.8359379664330497, 0.8139938172271481, 0.7697511942699331, 0.7440084654103316, 0.774440673727592, 0.7506769796493186, 0.7365239140634123, 0.7298022634736218, 0.7267434935549871, 0.7436026304369439, 0.7409086144596768, 0.7497206730573404, 0.7760895240835056, 0.7849493726825462, 0.7781396684648767, 0.768440497386588, 0.7577231360963148, 0.7768136471706475, 0.7767229805799621, 0.7851094099758504, 0.7968618227306481, 0.8116542980433622, 0.8155948471308329, 0.8743931580125673, 0.8934564263579957, 0.9189688598198832, 0.9365301350296297, 0.9703612270792543, 1.4809014856711789, 2.0684861347445773, 1.7240485249427326, 1.642127479740617, 1.5096290997425192, 1.5752967679443963, 1.6227395620193275, 1.3043955689139035, 1.323899082097988, 1.4299512883324286, 1.4356202387606383, 1.4539464480445001, 1.5177588441130565, 1.4801030390078773, 1.5377641952227932]}, {\"marker\": {\"color\": \"blue\"}, \"mode\": \"lines\", \"name\": \"Africa\", \"type\": \"scatter\", \"x\": [\"2020-03-01\", \"2020-03-02\", \"2020-03-03\", \"2020-03-04\", \"2020-03-05\", \"2020-03-06\", \"2020-03-07\", \"2020-03-08\", \"2020-03-09\", \"2020-03-10\", \"2020-03-11\", \"2020-03-12\", \"2020-03-13\", \"2020-03-14\", \"2020-03-15\", \"2020-03-16\", \"2020-03-17\", \"2020-03-18\", \"2020-03-19\", \"2020-03-20\", \"2020-03-21\", \"2020-03-22\", \"2020-03-23\", \"2020-03-24\", \"2020-03-25\", \"2020-03-26\", \"2020-03-27\", \"2020-03-28\", \"2020-03-29\", \"2020-03-30\", \"2020-03-31\", \"2020-04-01\", \"2020-04-02\", \"2020-04-03\", \"2020-04-04\", \"2020-04-05\", \"2020-04-06\", \"2020-04-07\", \"2020-04-08\", \"2020-04-09\", \"2020-04-10\", \"2020-04-11\", \"2020-04-12\", \"2020-04-13\", \"2020-04-14\", \"2020-04-15\", \"2020-04-16\", \"2020-04-17\", \"2020-04-18\", \"2020-04-19\", \"2020-04-20\", \"2020-04-21\", \"2020-04-22\", \"2020-04-23\", \"2020-04-24\", \"2020-04-25\", \"2020-04-26\", \"2020-04-27\", \"2020-04-28\", \"2020-04-29\", \"2020-04-30\", \"2020-05-01\", \"2020-05-02\", \"2020-05-03\", \"2020-05-04\", \"2020-05-05\", \"2020-05-06\", \"2020-05-07\", \"2020-05-08\", \"2020-05-09\", \"2020-05-10\", \"2020-05-11\", \"2020-05-12\", \"2020-05-13\", \"2020-05-14\", \"2020-05-15\", \"2020-05-16\", \"2020-05-17\", \"2020-05-18\", \"2020-05-19\", \"2020-05-20\", \"2020-05-21\", \"2020-05-22\", \"2020-05-23\", \"2020-05-24\", \"2020-05-25\", \"2020-05-26\", \"2020-05-27\", \"2020-05-28\", \"2020-05-29\", \"2020-05-30\", \"2020-05-31\", \"2020-06-01\", \"2020-06-02\", \"2020-06-03\", \"2020-06-04\", \"2020-06-05\", \"2020-06-06\", \"2020-06-07\", \"2020-06-08\", \"2020-06-09\", \"2020-06-10\", \"2020-06-11\", \"2020-06-12\", \"2020-06-13\", \"2020-06-14\", \"2020-06-15\", \"2020-06-16\", \"2020-06-17\", \"2020-06-18\", \"2020-06-19\", \"2020-06-20\", \"2020-06-21\", \"2020-06-22\", \"2020-06-23\", \"2020-06-24\", \"2020-06-25\", \"2020-06-26\", \"2020-06-27\", \"2020-06-28\", \"2020-06-29\", \"2020-06-30\", \"2020-07-01\", \"2020-07-02\", \"2020-07-03\", \"2020-07-04\", \"2020-07-05\", \"2020-07-06\", \"2020-07-07\", \"2020-07-08\", \"2020-07-09\", \"2020-07-10\", \"2020-07-11\", \"2020-07-12\", \"2020-07-13\", \"2020-07-14\", \"2020-07-15\", \"2020-07-16\", \"2020-07-17\", \"2020-07-18\", \"2020-07-19\", \"2020-07-20\", \"2020-07-21\", \"2020-07-22\", \"2020-07-23\", \"2020-07-24\", \"2020-07-25\", \"2020-07-26\", \"2020-07-27\", \"2020-07-28\", \"2020-07-29\", \"2020-07-30\", \"2020-07-31\", \"2020-08-01\", \"2020-08-02\", \"2020-08-03\", \"2020-08-04\", \"2020-08-05\", \"2020-08-06\", \"2020-08-07\", \"2020-08-08\", \"2020-08-09\", \"2020-08-10\", \"2020-08-11\", \"2020-08-12\", \"2020-08-13\", \"2020-08-14\", \"2020-08-15\", \"2020-08-16\", \"2020-08-17\", \"2020-08-18\", \"2020-08-19\", \"2020-08-20\", \"2020-08-21\", \"2020-08-22\", \"2020-08-23\", \"2020-08-24\", \"2020-08-25\", \"2020-08-26\", \"2020-08-27\", \"2020-08-28\", \"2020-08-29\", \"2020-08-30\", \"2020-08-31\", \"2020-09-01\", \"2020-09-02\", \"2020-09-03\", \"2020-09-04\", \"2020-09-05\", \"2020-09-06\", \"2020-09-07\", \"2020-09-08\", \"2020-09-09\", \"2020-09-10\", \"2020-09-11\", \"2020-09-12\", \"2020-09-13\", \"2020-09-14\", \"2020-09-15\", \"2020-09-16\", \"2020-09-17\", \"2020-09-18\", \"2020-09-19\", \"2020-09-20\", \"2020-09-21\", \"2020-09-22\", \"2020-09-23\", \"2020-09-24\", \"2020-09-25\", \"2020-09-26\", \"2020-09-27\", \"2020-09-28\", \"2020-09-29\", \"2020-09-30\", \"2020-10-01\", \"2020-10-02\", \"2020-10-03\", \"2020-10-04\", \"2020-10-05\", \"2020-10-06\", \"2020-10-07\", \"2020-10-08\", \"2020-10-09\", \"2020-10-10\", \"2020-10-11\", \"2020-10-12\", \"2020-10-13\", \"2020-10-14\", \"2020-10-15\", \"2020-10-16\", \"2020-10-17\", \"2020-10-18\", \"2020-10-19\", \"2020-10-20\", \"2020-10-21\", \"2020-10-22\", \"2020-10-23\", \"2020-10-24\", \"2020-10-25\", \"2020-10-26\", \"2020-10-27\", \"2020-10-28\", \"2020-10-29\", \"2020-10-30\", \"2020-10-31\", \"2020-11-01\", \"2020-11-02\", \"2020-11-03\", \"2020-11-04\", \"2020-11-05\", \"2020-11-06\", \"2020-11-07\", \"2020-11-08\", \"2020-11-09\", \"2020-11-10\", \"2020-11-11\", \"2020-11-12\", \"2020-11-13\", \"2020-11-14\", \"2020-11-15\", \"2020-11-16\", \"2020-11-17\", \"2020-11-18\", \"2020-11-19\", \"2020-11-20\", \"2020-11-21\", \"2020-11-22\", \"2020-11-23\"], \"y\": [0.0, 0.0, 0.0, 0.0, 0.0, 0.0, 0.0, 0.0, 0.30303030303030304, 0.22522522522522523, 0.20833333333333334, 3.985890652557319, 4.556540724765023, 5.992857023926472, 2.4966421563047785, 2.4278226141941928, 1.6063261045339898, 1.8091119569276608, 1.6840066072126598, 3.5716390465852754, 7.144796344524197, 3.4953610590869757, 1.977286099217597, 3.927392746113377, 3.4605120707059163, 3.766882459107991, 4.735468435864289, 4.245005243604496, 5.070906244699464, 6.491809835717474, 4.624878393837395, 3.797297903530027, 3.536425818484042, 4.8545582208055205, 5.2771433711607845, 6.6477968394438935, 6.608706159255831, 6.7135249124705325, 6.794486096651607, 6.915734472623951, 5.168422176896685, 7.777749971558618, 6.067100874089862, 4.497199945687027, 3.9095314989865333, 4.590162348565694, 4.256544782317903, 4.942192084246585, 4.275470596351445, 5.376164127710266, 5.473155108338305, 5.587763338707444, 3.0384771439433877, 3.388818446012836, 2.927281060541312, 2.999604839024269, 3.0128109594682013, 3.7991205166674438, 3.743965948970008, 4.298496151517513, 5.14718920689824, 7.66901894946455, 6.515562589172664, 6.291537980660462, 4.141056057206013, 3.80527543819598, 4.108995599148137, 3.740555608881558, 3.429740210027168, 3.5891167104823514, 3.4429857793082883, 3.3239511155799586, 2.7844876857255008, 2.7217234556825085, 5.004749936687687, 2.8006978046505893, 2.398934659674328, 2.412776385890692, 2.2853923902566233, 2.555860601718683, 2.730225530121476, 2.749664833806923, 2.677070025247707, 2.524964811336683, 2.633082893634428, 2.458754563928137, 2.6418511326858702, 2.532932274012266, 2.7372344723164517, 2.426782060921848, 2.7840864416681605, 2.4788704947282385, 2.4042233403614772, 2.725763443347064, 2.135741757122644, 1.8140993862917756, 1.7250212601751116, 1.704175718918509, 1.7724525671901543, 1.865480220622278, 2.2137660021804373, 3.6222192270820193, 1.9066084482195704, 2.217883129834958, 2.2604414991617143, 2.4148709228732077, 2.6434765619485496, 2.7012919031477973, 2.5857098797439844, 2.597784565732625, 2.750881989821044, 2.4884067510940784, 2.444217560375836, 2.326034232262179, 2.2933472684542173, 2.559215376007132, 2.640578008384971, 2.6176891120894665, 2.5157168616793104, 2.0284727763230226, 2.0559195972974167, 2.0662165397384182, 1.947426284319089, 1.6524464916310215, 1.8688152919029242, 1.8604065586778105, 2.068617732994092, 2.0795232344108068, 2.253383539173082, 1.7244371947945654, 1.6525027546321573, 1.937184562261153, 2.074840476878477, 2.0539555345301554, 2.388056818758857, 1.9430549740080443, 2.0972125164564237, 2.6896100083485583, 2.267785479667308, 2.355451630687223, 2.319080499483334, 2.112671508117679, 2.0460492315161676, 1.8663306409427503, 1.675536687596781, 1.6725702052653262, 1.7050025835702989, 1.6620119249846992, 1.763128381188793, 1.8563675345015838, 1.8863053067636686, 1.7365405528410274, 1.6922440695123595, 1.9467051587369992, 2.051636734466457, 2.042306962415411, 2.1860746431404876, 2.3327830472567204, 2.1386448265680396, 2.5170919203374593, 2.4828835055605047, 2.988281085409127, 2.89273380238529, 2.6074987968300958, 2.780661882082897, 2.782632092361861, 2.556149105488763, 2.8592296827793033, 2.559441667718128, 2.687599374772196, 2.415945793894957, 2.2790711258790903, 2.058168968689718, 1.9339857215532572, 1.9544679280618797, 1.969903932338938, 1.6848503788240259, 1.670254082272564, 1.8819707667224947, 2.1597754196731467, 2.18004226505455, 2.0221390853090773, 1.802277330527938, 1.8329719124062296, 1.882388393583632, 1.8452612108861561, 1.6384972424529434, 1.4778041664820258, 1.4498591824339209, 1.6655913629339258, 2.4393234879047028, 3.7365722416338323, 3.755938268608584, 2.3001217543944303, 2.0594389320881294, 2.021405051737193, 2.092577101240382, 1.670108936910138, 2.0470251877449175, 2.0421966836082683, 2.0890849820261974, 1.9038638256157754, 1.6390850421985588, 1.5791806944894502, 1.5468215352882744, 1.39903974479267, 1.3795544934981168, 1.4560012144489294, 1.4358000653892062, 1.4900964533508094, 1.6129200815231541, 1.6869072389963677, 1.7211378087298446, 1.6581320552188736, 1.618198909553788, 1.6704390459901342, 1.748562734660703, 1.5653652852505293, 1.619568203823171, 1.7054729864258988, 1.7897760308375434, 1.6848217087265485, 1.526255050813597, 1.6771426312746276, 1.823972837505581, 1.9421784829963689, 1.9219958294233785, 1.8732829043112127, 1.9632884376417852, 1.9199080485760887, 1.972476257626379, 1.8747014088227991, 2.100651610195164, 2.0512762917506793, 1.5738088120729767, 1.7450327669106787, 1.8605322292714548, 1.56271708058099, 1.6415739905589484, 1.6438686713779367, 1.7680852106102418, 1.8116830886007291, 1.7734953036650483, 1.8853123498478124, 1.9121763052363978, 1.9299262322887443, 1.6881833898871508, 1.7331040583683244, 1.6599835793446662, 1.6323275539130953, 1.8579779052049727, 2.3836530077606586, 2.4803845834049247, 4.733560649805352, 4.475237872871837, 3.7289001126576244, 4.918371104177851, 4.517869149609091, 3.2584284150537144, 3.459438616979746, 2.247197597046657, 1.9520791043460903, 1.9609909292396712, 1.7028823136899665, 1.7303155948328768, 1.487048702769362, 1.3826444719144186, 1.4113960407507695]}, {\"marker\": {\"color\": \"black\"}, \"mode\": \"lines\", \"name\": \"North America\", \"type\": \"scatter\", \"x\": [\"2020-03-01\", \"2020-03-02\", \"2020-03-03\", \"2020-03-04\", \"2020-03-05\", \"2020-03-06\", \"2020-03-07\", \"2020-03-08\", \"2020-03-09\", \"2020-03-10\", \"2020-03-11\", \"2020-03-12\", \"2020-03-13\", \"2020-03-14\", \"2020-03-15\", \"2020-03-16\", \"2020-03-17\", \"2020-03-18\", \"2020-03-19\", \"2020-03-20\", \"2020-03-21\", \"2020-03-22\", \"2020-03-23\", \"2020-03-24\", \"2020-03-25\", \"2020-03-26\", \"2020-03-27\", \"2020-03-28\", \"2020-03-29\", \"2020-03-30\", \"2020-03-31\", \"2020-04-01\", \"2020-04-02\", \"2020-04-03\", \"2020-04-04\", \"2020-04-05\", \"2020-04-06\", \"2020-04-07\", \"2020-04-08\", \"2020-04-09\", \"2020-04-10\", \"2020-04-11\", \"2020-04-12\", \"2020-04-13\", \"2020-04-14\", \"2020-04-15\", \"2020-04-16\", \"2020-04-17\", \"2020-04-18\", \"2020-04-19\", \"2020-04-20\", \"2020-04-21\", \"2020-04-22\", \"2020-04-23\", \"2020-04-24\", \"2020-04-25\", \"2020-04-26\", \"2020-04-27\", \"2020-04-28\", \"2020-04-29\", \"2020-04-30\", \"2020-05-01\", \"2020-05-02\", \"2020-05-03\", \"2020-05-04\", \"2020-05-05\", \"2020-05-06\", \"2020-05-07\", \"2020-05-08\", \"2020-05-09\", \"2020-05-10\", \"2020-05-11\", \"2020-05-12\", \"2020-05-13\", \"2020-05-14\", \"2020-05-15\", \"2020-05-16\", \"2020-05-17\", \"2020-05-18\", \"2020-05-19\", \"2020-05-20\", \"2020-05-21\", \"2020-05-22\", \"2020-05-23\", \"2020-05-24\", \"2020-05-25\", \"2020-05-26\", \"2020-05-27\", \"2020-05-28\", \"2020-05-29\", \"2020-05-30\", \"2020-05-31\", \"2020-06-01\", \"2020-06-02\", \"2020-06-03\", \"2020-06-04\", \"2020-06-05\", \"2020-06-06\", \"2020-06-07\", \"2020-06-08\", \"2020-06-09\", \"2020-06-10\", \"2020-06-11\", \"2020-06-12\", \"2020-06-13\", \"2020-06-14\", \"2020-06-15\", \"2020-06-16\", \"2020-06-17\", \"2020-06-18\", \"2020-06-19\", \"2020-06-20\", \"2020-06-21\", \"2020-06-22\", \"2020-06-23\", \"2020-06-24\", \"2020-06-25\", \"2020-06-26\", \"2020-06-27\", \"2020-06-28\", \"2020-06-29\", \"2020-06-30\", \"2020-07-01\", \"2020-07-02\", \"2020-07-03\", \"2020-07-04\", \"2020-07-05\", \"2020-07-06\", \"2020-07-07\", \"2020-07-08\", \"2020-07-09\", \"2020-07-10\", \"2020-07-11\", \"2020-07-12\", \"2020-07-13\", \"2020-07-14\", \"2020-07-15\", \"2020-07-16\", \"2020-07-17\", \"2020-07-18\", \"2020-07-19\", \"2020-07-20\", \"2020-07-21\", \"2020-07-22\", \"2020-07-23\", \"2020-07-24\", \"2020-07-25\", \"2020-07-26\", \"2020-07-27\", \"2020-07-28\", \"2020-07-29\", \"2020-07-30\", \"2020-07-31\", \"2020-08-01\", \"2020-08-02\", \"2020-08-03\", \"2020-08-04\", \"2020-08-05\", \"2020-08-06\", \"2020-08-07\", \"2020-08-08\", \"2020-08-09\", \"2020-08-10\", \"2020-08-11\", \"2020-08-12\", \"2020-08-13\", \"2020-08-14\", \"2020-08-15\", \"2020-08-16\", \"2020-08-17\", \"2020-08-18\", \"2020-08-19\", \"2020-08-20\", \"2020-08-21\", \"2020-08-22\", \"2020-08-23\", \"2020-08-24\", \"2020-08-25\", \"2020-08-26\", \"2020-08-27\", \"2020-08-28\", \"2020-08-29\", \"2020-08-30\", \"2020-08-31\", \"2020-09-01\", \"2020-09-02\", \"2020-09-03\", \"2020-09-04\", \"2020-09-05\", \"2020-09-06\", \"2020-09-07\", \"2020-09-08\", \"2020-09-09\", \"2020-09-10\", \"2020-09-11\", \"2020-09-12\", \"2020-09-13\", \"2020-09-14\", \"2020-09-15\", \"2020-09-16\", \"2020-09-17\", \"2020-09-18\", \"2020-09-19\", \"2020-09-20\", \"2020-09-21\", \"2020-09-22\", \"2020-09-23\", \"2020-09-24\", \"2020-09-25\", \"2020-09-26\", \"2020-09-27\", \"2020-09-28\", \"2020-09-29\", \"2020-09-30\", \"2020-10-01\", \"2020-10-02\", \"2020-10-03\", \"2020-10-04\", \"2020-10-05\", \"2020-10-06\", \"2020-10-07\", \"2020-10-08\", \"2020-10-09\", \"2020-10-10\", \"2020-10-11\", \"2020-10-12\", \"2020-10-13\", \"2020-10-14\", \"2020-10-15\", \"2020-10-16\", \"2020-10-17\", \"2020-10-18\", \"2020-10-19\", \"2020-10-20\", \"2020-10-21\", \"2020-10-22\", \"2020-10-23\", \"2020-10-24\", \"2020-10-25\", \"2020-10-26\", \"2020-10-27\", \"2020-10-28\", \"2020-10-29\", \"2020-10-30\", \"2020-10-31\", \"2020-11-01\", \"2020-11-02\", \"2020-11-03\", \"2020-11-04\", \"2020-11-05\", \"2020-11-06\", \"2020-11-07\", \"2020-11-08\", \"2020-11-09\", \"2020-11-10\", \"2020-11-11\", \"2020-11-12\", \"2020-11-13\", \"2020-11-14\", \"2020-11-15\", \"2020-11-16\", \"2020-11-17\", \"2020-11-18\", \"2020-11-19\", \"2020-11-20\", \"2020-11-21\", \"2020-11-22\", \"2020-11-23\"], \"y\": [0.0, 1.0869565217391304, 3.4090909090909096, 3.225806451612903, 2.906976744186047, 1.6666666666666667, 1.282051282051282, 1.1146496815286624, 0.7960199004975124, 1.329812272872771, 0.9356319847526641, 0.778964916268849, 0.6162516575806689, 0.5226685459243599, 0.42578183878294584, 0.7108147199918295, 0.6310984525338392, 0.3271491987733201, 1.3717570727532147, 0.9683847973763369, 1.836686603356267, 1.4597385993447498, 0.779382204461794, 0.7358759766828573, 1.2985970206310329, 3.035982648322435, 2.750834997511047, 2.0882661750186724, 3.769564946201398, 3.536046638036279, 4.030234699431463, 3.563489040904581, 3.0850180648456194, 3.2995077192428104, 2.537607161246762, 3.1151890432346194, 5.035447235289083, 6.76037005802887, 7.0294902563432, 7.546093454584571, 8.143813179831067, 9.019559036419151, 8.518281079309814, 6.392173912073101, 4.966111642174171, 4.929754571700762, 4.741508056885404, 5.0237948141137245, 8.335305933953641, 9.333103548376334, 13.114177312574865, 11.151314157788036, 16.380783163254424, 18.682205696580283, 19.01736711435616, 15.849774181543893, 11.877761469901055, 11.02452949624449, 7.058182901989435, 7.951513357175813, 8.137585870154389, 7.77690877917398, 6.904679703427943, 8.402158632894649, 13.280885418642969, 9.497851439831374, 12.315783448457603, 5.534973910033945, 9.720238102063963, 9.653009471473952, 9.075904114662613, 7.6403438884581245, 10.82084793642459, 16.30176876827623, 14.629731651646145, 14.670023404157428, 14.952721813672582, 6.210129351047117, 6.010609736491176, 4.699053581182028, 3.5909687353767197, 3.379152127043407, 2.1656253827046257, 2.4104675798170128, 2.2225804069036683, 2.004864266859963, 1.8625104709822637, 1.8637713711049948, 1.946186907510912, 1.8145269949613403, 1.7602358212653384, 1.8630669197256675, 2.082697358519837, 1.958001848650155, 1.994370104332868, 2.0519856824218516, 2.3033974269045134, 2.6674002228364047, 2.5965474027845774, 2.5108483002665247, 2.570953368464309, 2.3468746702187024, 2.3994869359042403, 2.1146032146168743, 1.9021206765444603, 2.064709030721643, 2.0323405491788327, 2.0783180225143765, 1.993055579329214, 1.8261215560886426, 1.7889322360996285, 1.8329134686259236, 1.8497881992150484, 1.938889729696732, 2.1122821551684474, 2.2027623223200123, 2.358717950242337, 2.260466997074359, 2.2756744304912773, 2.4309203447955476, 2.3474353773833085, 2.1554422010246843, 2.1634551862493363, 2.023838938499106, 1.9236538586010912, 1.85560577869739, 1.594705791783389, 1.5482414283262962, 1.820843663979729, 1.380598141581592, 1.436874191685333, 1.4156639434317184, 1.4638022834528566, 1.7230329564176337, 1.7470825368483398, 1.7185459000696794, 1.4869643325001096, 1.3865869876179115, 1.281481324562447, 1.2867587302102677, 1.0416799616395307, 1.0428417623110422, 1.015751154457484, 1.1837044296595585, 1.1710838686170444, 1.1807124149024244, 1.199925365442902, 1.283730150261632, 1.2466018167255428, 1.2828950901480924, 1.2089740115337688, 1.209174412141214, 1.4133298409251358, 1.4140295651332273, 1.5448174938444008, 1.6781968982083044, 1.6124708673125616, 1.6797093944626857, 1.696990743586859, 1.6337478996597927, 1.8454904341283334, 1.8909054213991023, 1.9160991029435235, 2.144277891401167, 1.9589606395901806, 1.819212049431838, 1.7647094106121843, 1.6608329691993093, 1.6542200859241796, 1.5842197788332326, 1.5043618765417206, 1.426985690374683, 1.3943899855574393, 1.3679250028242433, 1.2619148666082067, 1.2936483496349191, 1.3328592052749404, 1.5398219369114623, 1.6354652022675547, 1.9419795494451955, 1.8068419540355114, 1.8272877917206585, 1.7904537339100042, 1.7910665811503395, 1.7962019328075258, 2.0898735581600403, 2.118056885207746, 2.137402462077415, 2.2341043906297844, 2.397619608194292, 2.497870382885611, 2.43526186976688, 2.1993927547311865, 1.9227987047694899, 1.837656356442453, 1.721992307805802, 1.743976623124762, 1.667512408567114, 2.1147740620214175, 2.241795433165277, 2.213829724988985, 2.011558771684687, 2.1519293886024, 1.9196700953306465, 2.0061779162551243, 1.5391183670329414, 1.5251928600353422, 1.6370761303781778, 1.7658506726269045, 1.6548632781546229, 1.6996570914920572, 1.6138124385360906, 1.7366742073223516, 2.0602283695389967, 2.005921664374475, 2.006983268841822, 2.3137599370895603, 2.7161891835589533, 2.77510701816773, 1.9146965218958658, 1.6417759418790812, 1.5301723234102769, 1.8259152298327535, 1.8848063079002801, 1.817839096235151, 1.7417463603021286, 1.6340498234240708, 1.4600879806153855, 1.5037619434660883, 1.8560393038658622, 2.109608360635671, 1.7417404831955388, 1.84979179549051, 1.809467789300753, 1.8071677709888896, 1.621690032220434, 1.3567011348452263, 1.1805122420116125, 1.1233595769397733, 1.1786234753110987, 1.2037080041148167, 1.2972479787294653, 1.2256440324844002, 1.2670432553719035, 1.3279641781129639, 1.350084416402649, 1.218088101991294, 1.2063971980842694, 1.3296425939598338, 1.5488103037112189, 1.477592196249616, 1.5482049958343533, 1.55520947282355, 1.5822596437449592, 1.6498012610632637, 1.6415472818529397, 1.4879389088928658, 1.2817741650496242, 2.496375665525449, 2.5907205211460687, 2.6881499332961747, 3.1091269416235723, 3.1424048769059727, 2.4192926819505534, 2.4409570251728367, 1.9427721321580322, 1.8683813833945833, 1.6829085153922791]}, {\"marker\": {\"color\": \"brown\"}, \"mode\": \"lines\", \"name\": \"South America\", \"type\": \"scatter\", \"x\": [\"2020-03-01\", \"2020-03-02\", \"2020-03-03\", \"2020-03-04\", \"2020-03-05\", \"2020-03-06\", \"2020-03-07\", \"2020-03-08\", \"2020-03-09\", \"2020-03-10\", \"2020-03-11\", \"2020-03-12\", \"2020-03-13\", \"2020-03-14\", \"2020-03-15\", \"2020-03-16\", \"2020-03-17\", \"2020-03-18\", \"2020-03-19\", \"2020-03-20\", \"2020-03-21\", \"2020-03-22\", \"2020-03-23\", \"2020-03-24\", \"2020-03-25\", \"2020-03-26\", \"2020-03-27\", \"2020-03-28\", \"2020-03-29\", \"2020-03-30\", \"2020-03-31\", \"2020-04-01\", \"2020-04-02\", \"2020-04-03\", \"2020-04-04\", \"2020-04-05\", \"2020-04-06\", \"2020-04-07\", \"2020-04-08\", \"2020-04-09\", \"2020-04-10\", \"2020-04-11\", \"2020-04-12\", \"2020-04-13\", \"2020-04-14\", \"2020-04-15\", \"2020-04-16\", \"2020-04-17\", \"2020-04-18\", \"2020-04-19\", \"2020-04-20\", \"2020-04-21\", \"2020-04-22\", \"2020-04-23\", \"2020-04-24\", \"2020-04-25\", \"2020-04-26\", \"2020-04-27\", \"2020-04-28\", \"2020-04-29\", \"2020-04-30\", \"2020-05-01\", \"2020-05-02\", \"2020-05-03\", \"2020-05-04\", \"2020-05-05\", \"2020-05-06\", \"2020-05-07\", \"2020-05-08\", \"2020-05-09\", \"2020-05-10\", \"2020-05-11\", \"2020-05-12\", \"2020-05-13\", \"2020-05-14\", \"2020-05-15\", \"2020-05-16\", \"2020-05-17\", \"2020-05-18\", \"2020-05-19\", \"2020-05-20\", \"2020-05-21\", \"2020-05-22\", \"2020-05-23\", \"2020-05-24\", \"2020-05-25\", \"2020-05-26\", \"2020-05-27\", \"2020-05-28\", \"2020-05-29\", \"2020-05-30\", \"2020-05-31\", \"2020-06-01\", \"2020-06-02\", \"2020-06-03\", \"2020-06-04\", \"2020-06-05\", \"2020-06-06\", \"2020-06-07\", \"2020-06-08\", \"2020-06-09\", \"2020-06-10\", \"2020-06-11\", \"2020-06-12\", \"2020-06-13\", \"2020-06-14\", \"2020-06-15\", \"2020-06-16\", \"2020-06-17\", \"2020-06-18\", \"2020-06-19\", \"2020-06-20\", \"2020-06-21\", \"2020-06-22\", \"2020-06-23\", \"2020-06-24\", \"2020-06-25\", \"2020-06-26\", \"2020-06-27\", \"2020-06-28\", \"2020-06-29\", \"2020-06-30\", \"2020-07-01\", \"2020-07-02\", \"2020-07-03\", \"2020-07-04\", \"2020-07-05\", \"2020-07-06\", \"2020-07-07\", \"2020-07-08\", \"2020-07-09\", \"2020-07-10\", \"2020-07-11\", \"2020-07-12\", \"2020-07-13\", \"2020-07-14\", \"2020-07-15\", \"2020-07-16\", \"2020-07-17\", \"2020-07-18\", \"2020-07-19\", \"2020-07-20\", \"2020-07-21\", \"2020-07-22\", \"2020-07-23\", \"2020-07-24\", \"2020-07-25\", \"2020-07-26\", \"2020-07-27\", \"2020-07-28\", \"2020-07-29\", \"2020-07-30\", \"2020-07-31\", \"2020-08-01\", \"2020-08-02\", \"2020-08-03\", \"2020-08-04\", \"2020-08-05\", \"2020-08-06\", \"2020-08-07\", \"2020-08-08\", \"2020-08-09\", \"2020-08-10\", \"2020-08-11\", \"2020-08-12\", \"2020-08-13\", \"2020-08-14\", \"2020-08-15\", \"2020-08-16\", \"2020-08-17\", \"2020-08-18\", \"2020-08-19\", \"2020-08-20\", \"2020-08-21\", \"2020-08-22\", \"2020-08-23\", \"2020-08-24\", \"2020-08-25\", \"2020-08-26\", \"2020-08-27\", \"2020-08-28\", \"2020-08-29\", \"2020-08-30\", \"2020-08-31\", \"2020-09-01\", \"2020-09-02\", \"2020-09-03\", \"2020-09-04\", \"2020-09-05\", \"2020-09-06\", \"2020-09-07\", \"2020-09-08\", \"2020-09-09\", \"2020-09-10\", \"2020-09-11\", \"2020-09-12\", \"2020-09-13\", \"2020-09-14\", \"2020-09-15\", \"2020-09-16\", \"2020-09-17\", \"2020-09-18\", \"2020-09-19\", \"2020-09-20\", \"2020-09-21\", \"2020-09-22\", \"2020-09-23\", \"2020-09-24\", \"2020-09-25\", \"2020-09-26\", \"2020-09-27\", \"2020-09-28\", \"2020-09-29\", \"2020-09-30\", \"2020-10-01\", \"2020-10-02\", \"2020-10-03\", \"2020-10-04\", \"2020-10-05\", \"2020-10-06\", \"2020-10-07\", \"2020-10-08\", \"2020-10-09\", \"2020-10-10\", \"2020-10-11\", \"2020-10-12\", \"2020-10-13\", \"2020-10-14\", \"2020-10-15\", \"2020-10-16\", \"2020-10-17\", \"2020-10-18\", \"2020-10-19\", \"2020-10-20\", \"2020-10-21\", \"2020-10-22\", \"2020-10-23\", \"2020-10-24\", \"2020-10-25\", \"2020-10-26\", \"2020-10-27\", \"2020-10-28\", \"2020-10-29\", \"2020-10-30\", \"2020-10-31\", \"2020-11-01\", \"2020-11-02\", \"2020-11-03\", \"2020-11-04\", \"2020-11-05\", \"2020-11-06\", \"2020-11-07\", \"2020-11-08\", \"2020-11-09\", \"2020-11-10\", \"2020-11-11\", \"2020-11-12\", \"2020-11-13\", \"2020-11-14\", \"2020-11-15\", \"2020-11-16\", \"2020-11-17\", \"2020-11-18\", \"2020-11-19\", \"2020-11-20\", \"2020-11-21\", \"2020-11-22\", \"2020-11-23\"], \"y\": [0.0, 0.0, 0.0, 0.0, 0.0, 0.0, 0.0, 0.0, 0.0, 0.01973684210526316, 0.013157894736842105, 0.013157894736842105, 0.005434782608695652, 0.024562309115154644, 0.022649599204623127, 0.015372034169899101, 0.009119164907342247, 0.005324348456688576, 0.02711865120528341, 0.006283157162655972, 0.01165228918937595, 0.010773583894276012, 0.012125786027088444, 0.01106347778376864, 0.01771825859581583, 0.018167068519569687, 0.01883803340183962, 0.01752469740731843, 0.01743158203212928, 0.022343199595653628, 0.031164321453920785, 0.04049522599821624, 0.05192642976646153, 0.05355453326952917, 0.09653830616963682, 0.10597866391916282, 0.10025947573353929, 0.10112082612557911, 0.06818994184768136, 0.0676501080416576, 0.06621440445548546, 0.06322999092733428, 0.059451023187923, 0.057969235859053225, 0.05237819670465129, 0.046951215112625254, 0.04002038891501355, 0.03474996137645887, 0.03792571327178943, 0.04042121501281915, 0.03777391467267467, 0.036277338252365954, 0.041342054701657, 0.04289284486618244, 0.04231930446799732, 0.05487654354912492, 0.04382188537973986, 0.04243504491053737, 0.04318164992685575, 0.037402540994879725, 0.03444240424704185, 0.043490094833765286, 0.03883019706956691, 0.04441917463099236, 0.05206826215892458, 0.04424241685762806, 0.045848489551434744, 0.05359405183598112, 0.04369364308271225, 0.054834568823207835, 0.04916975439917674, 2.466872143953358, 0.005816487537579284, -0.024184814000324295, 0.08438137731345866, 0.3290196662886436, 0.052581803023633605, 0.045781737289234695, 0.03752751560602368, 0.03421688027970471, 0.032889802984787324, 0.029085699058670325, 0.029012924717120792, 0.027956627887861935, 0.033090409714256426, 0.028264740487947183, 0.036595849695355405, 0.036360788866281885, 0.033401188729294956, 0.029612376805173642, 0.028145099601507753, 0.027562168848164547, 0.030616968382755877, 0.026407020435745138, 0.027542532367445, 0.02882399022162221, 0.05144550939594503, 0.05199128683315516, 0.024232699327001683, 0.026512721483059522, 0.0242044335739235, 0.023578718676227947, 0.023661887164053635, 0.023530623324776706, 0.024484956681637287, 0.024710025713578807, 0.024376346056286368, 0.025197346292849792, 0.054545299530031406, 0.06739661809501718, 0.055743700648285106, 0.04240242775591699, 0.042150756804428514, 0.034403626356845636, 0.03173965633823456, 0.028153837033957158, 0.02994820819866717, 0.027519762029262995, 0.026209992066888513, 0.024512087393248522, 0.025733234936922228, 0.028516101782175795, 0.02828906538024555, 0.031118462903373122, 0.034568360111645685, 0.03702035473661537, 0.036474878241565346, 0.03659961717999526, 0.03896001470964817, 0.039275731302709914, 0.03605782065505149, 0.033279444600103084, 0.0333637090056006, 0.042751484205636375, 0.0397564135039414, 0.03424983206108738, 0.03265155827287818, 0.03338029972896394, 0.03636443451944566, 0.04138021010523286, 0.03566613972232586, 0.034127333153054294, 0.034384257908791446, 0.03463917608833593, 0.031436267909626045, 0.039965194515134084, 0.03574752017202892, 0.035735695087294524, 0.034651740606873815, 0.033568529397833814, 0.033967082757087756, 0.034008145083066585, 0.02402663463426601, 0.022549793411185282, 0.021999050370843307, 0.024191194544897692, 0.024003091890740385, 0.025737358717277916, 0.025087992464050357, 0.025190459080205535, 0.024875529691716136, 0.024666194088024913, 0.022287797422884646, 0.02195999874247011, 0.020099063341694815, 0.01993329811095091, 0.02517363629130999, 0.026266534636248517, 0.026703551633798728, 0.027444618452409548, 0.02967210604693653, 0.02971924817593011, 0.03076696288719051, 0.027388972011392145, 0.028293613202939504, 0.02920685956250506, 0.029588980157135843, 0.02813296424980169, 0.03062548031155829, 0.031513771927917926, 0.03105719862484208, 0.02960886548833518, 0.030668944275964838, 0.029402827207175793, 0.029712305409571232, 0.028732299258527782, 0.02960077377267178, 0.02921613428962547, 0.030884447970791, 0.030533385792522152, -0.02839183800798985, -0.03541521989465377, -0.040945921722463925, -0.052269155659573546, -0.060579078749634696, -0.0933433802000976, -0.1688793156602657, 0.0259021858048894, 0.024175727791274877, 0.024519877956839287, 0.024434750086431742, 0.024986702248840382, 0.02426408361400897, 0.025538774319214863, 0.02520301439785595, 0.0244046147844683, 0.026771196276564584, 0.029711224643670455, 0.030182034652369613, 0.029195139639254953, 0.028679689018494808, 0.029517797326197328, 0.030941000889367767, 0.029707227628066074, 0.02789306021033823, 0.03121187501338868, 0.03385432913005596, 0.03474422585848611, 0.03451183999888504, 0.03453055635023712, 0.03358458005188186, 0.03435141785748675, 0.03587721108490997, 0.03631215582494355, 0.03669613197320718, 0.03690980477821107, 0.03733733392290877, 0.03699251152843314, 0.03827006299109537, 0.03312548599471569, 0.03242532673914444, 0.03187556241888733, 0.032349325722679255, 0.0324654736892425, 0.03432375297830244, 0.03439936629762518, 0.0329357134969964, 0.03179419424578004, 0.030161543807826402, 0.030553039180714645, 0.03196365707594038, 0.03173341667074627, 0.0322791183908475, 0.03080037301471314, 0.030912370644413673, 0.03215836036725246, 0.030878707081492113, 0.03011153822903497, 0.028995359824104963, 0.028717674485209312, 0.028562410935632793, 0.029338779487060696, 0.03204518858056273, 0.03196012483068067, 0.030719137959853742, 0.027707222093529566, 0.025600832878801234, 0.027713637803097782, 0.025598361811325118, 0.022594050660507205, 0.023672512775750394, 0.02564432861674707, 0.028552462152451604, 0.029444951876620464, 0.02785542708550001, 0.029101884689022306, 0.029325881589275737, 0.028896033188838408]}],\n",
       "                        {\"template\": {\"data\": {\"bar\": [{\"error_x\": {\"color\": \"#2a3f5f\"}, \"error_y\": {\"color\": \"#2a3f5f\"}, \"marker\": {\"line\": {\"color\": \"#E5ECF6\", \"width\": 0.5}}, \"type\": \"bar\"}], \"barpolar\": [{\"marker\": {\"line\": {\"color\": \"#E5ECF6\", \"width\": 0.5}}, \"type\": \"barpolar\"}], \"carpet\": [{\"aaxis\": {\"endlinecolor\": \"#2a3f5f\", \"gridcolor\": \"white\", \"linecolor\": \"white\", \"minorgridcolor\": \"white\", \"startlinecolor\": \"#2a3f5f\"}, \"baxis\": {\"endlinecolor\": \"#2a3f5f\", \"gridcolor\": \"white\", \"linecolor\": \"white\", \"minorgridcolor\": \"white\", \"startlinecolor\": \"#2a3f5f\"}, \"type\": \"carpet\"}], \"choropleth\": [{\"colorbar\": {\"outlinewidth\": 0, \"ticks\": \"\"}, \"type\": \"choropleth\"}], \"contour\": [{\"colorbar\": {\"outlinewidth\": 0, \"ticks\": \"\"}, \"colorscale\": [[0.0, \"#0d0887\"], [0.1111111111111111, \"#46039f\"], [0.2222222222222222, \"#7201a8\"], [0.3333333333333333, \"#9c179e\"], [0.4444444444444444, \"#bd3786\"], [0.5555555555555556, \"#d8576b\"], [0.6666666666666666, \"#ed7953\"], [0.7777777777777778, \"#fb9f3a\"], [0.8888888888888888, \"#fdca26\"], [1.0, \"#f0f921\"]], \"type\": \"contour\"}], \"contourcarpet\": [{\"colorbar\": {\"outlinewidth\": 0, \"ticks\": \"\"}, \"type\": \"contourcarpet\"}], \"heatmap\": [{\"colorbar\": {\"outlinewidth\": 0, \"ticks\": \"\"}, \"colorscale\": [[0.0, \"#0d0887\"], [0.1111111111111111, \"#46039f\"], [0.2222222222222222, \"#7201a8\"], [0.3333333333333333, \"#9c179e\"], [0.4444444444444444, \"#bd3786\"], [0.5555555555555556, \"#d8576b\"], [0.6666666666666666, \"#ed7953\"], [0.7777777777777778, \"#fb9f3a\"], [0.8888888888888888, \"#fdca26\"], [1.0, \"#f0f921\"]], \"type\": \"heatmap\"}], \"heatmapgl\": [{\"colorbar\": {\"outlinewidth\": 0, \"ticks\": \"\"}, \"colorscale\": [[0.0, \"#0d0887\"], [0.1111111111111111, \"#46039f\"], [0.2222222222222222, \"#7201a8\"], [0.3333333333333333, \"#9c179e\"], [0.4444444444444444, \"#bd3786\"], [0.5555555555555556, \"#d8576b\"], [0.6666666666666666, \"#ed7953\"], [0.7777777777777778, \"#fb9f3a\"], [0.8888888888888888, \"#fdca26\"], [1.0, \"#f0f921\"]], \"type\": \"heatmapgl\"}], \"histogram\": [{\"marker\": {\"colorbar\": {\"outlinewidth\": 0, \"ticks\": \"\"}}, \"type\": \"histogram\"}], \"histogram2d\": [{\"colorbar\": {\"outlinewidth\": 0, \"ticks\": \"\"}, \"colorscale\": [[0.0, \"#0d0887\"], [0.1111111111111111, \"#46039f\"], [0.2222222222222222, \"#7201a8\"], [0.3333333333333333, \"#9c179e\"], [0.4444444444444444, \"#bd3786\"], [0.5555555555555556, \"#d8576b\"], [0.6666666666666666, \"#ed7953\"], [0.7777777777777778, \"#fb9f3a\"], [0.8888888888888888, \"#fdca26\"], [1.0, \"#f0f921\"]], \"type\": \"histogram2d\"}], \"histogram2dcontour\": [{\"colorbar\": {\"outlinewidth\": 0, \"ticks\": \"\"}, \"colorscale\": [[0.0, \"#0d0887\"], [0.1111111111111111, \"#46039f\"], [0.2222222222222222, \"#7201a8\"], [0.3333333333333333, \"#9c179e\"], [0.4444444444444444, \"#bd3786\"], [0.5555555555555556, \"#d8576b\"], [0.6666666666666666, \"#ed7953\"], [0.7777777777777778, \"#fb9f3a\"], [0.8888888888888888, \"#fdca26\"], [1.0, \"#f0f921\"]], \"type\": \"histogram2dcontour\"}], \"mesh3d\": [{\"colorbar\": {\"outlinewidth\": 0, \"ticks\": \"\"}, \"type\": \"mesh3d\"}], \"parcoords\": [{\"line\": {\"colorbar\": {\"outlinewidth\": 0, \"ticks\": \"\"}}, \"type\": \"parcoords\"}], \"pie\": [{\"automargin\": true, \"type\": \"pie\"}], \"scatter\": [{\"marker\": {\"colorbar\": {\"outlinewidth\": 0, \"ticks\": \"\"}}, \"type\": \"scatter\"}], \"scatter3d\": [{\"line\": {\"colorbar\": {\"outlinewidth\": 0, \"ticks\": \"\"}}, \"marker\": {\"colorbar\": {\"outlinewidth\": 0, \"ticks\": \"\"}}, \"type\": \"scatter3d\"}], \"scattercarpet\": [{\"marker\": {\"colorbar\": {\"outlinewidth\": 0, \"ticks\": \"\"}}, \"type\": \"scattercarpet\"}], \"scattergeo\": [{\"marker\": {\"colorbar\": {\"outlinewidth\": 0, \"ticks\": \"\"}}, \"type\": \"scattergeo\"}], \"scattergl\": [{\"marker\": {\"colorbar\": {\"outlinewidth\": 0, \"ticks\": \"\"}}, \"type\": \"scattergl\"}], \"scattermapbox\": [{\"marker\": {\"colorbar\": {\"outlinewidth\": 0, \"ticks\": \"\"}}, \"type\": \"scattermapbox\"}], \"scatterpolar\": [{\"marker\": {\"colorbar\": {\"outlinewidth\": 0, \"ticks\": \"\"}}, \"type\": \"scatterpolar\"}], \"scatterpolargl\": [{\"marker\": {\"colorbar\": {\"outlinewidth\": 0, \"ticks\": \"\"}}, \"type\": \"scatterpolargl\"}], \"scatterternary\": [{\"marker\": {\"colorbar\": {\"outlinewidth\": 0, \"ticks\": \"\"}}, \"type\": \"scatterternary\"}], \"surface\": [{\"colorbar\": {\"outlinewidth\": 0, \"ticks\": \"\"}, \"colorscale\": [[0.0, \"#0d0887\"], [0.1111111111111111, \"#46039f\"], [0.2222222222222222, \"#7201a8\"], [0.3333333333333333, \"#9c179e\"], [0.4444444444444444, \"#bd3786\"], [0.5555555555555556, \"#d8576b\"], [0.6666666666666666, \"#ed7953\"], [0.7777777777777778, \"#fb9f3a\"], [0.8888888888888888, \"#fdca26\"], [1.0, \"#f0f921\"]], \"type\": \"surface\"}], \"table\": [{\"cells\": {\"fill\": {\"color\": \"#EBF0F8\"}, \"line\": {\"color\": \"white\"}}, \"header\": {\"fill\": {\"color\": \"#C8D4E3\"}, \"line\": {\"color\": \"white\"}}, \"type\": \"table\"}]}, \"layout\": {\"annotationdefaults\": {\"arrowcolor\": \"#2a3f5f\", \"arrowhead\": 0, \"arrowwidth\": 1}, \"coloraxis\": {\"colorbar\": {\"outlinewidth\": 0, \"ticks\": \"\"}}, \"colorscale\": {\"diverging\": [[0, \"#8e0152\"], [0.1, \"#c51b7d\"], [0.2, \"#de77ae\"], [0.3, \"#f1b6da\"], [0.4, \"#fde0ef\"], [0.5, \"#f7f7f7\"], [0.6, \"#e6f5d0\"], [0.7, \"#b8e186\"], [0.8, \"#7fbc41\"], [0.9, \"#4d9221\"], [1, \"#276419\"]], \"sequential\": [[0.0, \"#0d0887\"], [0.1111111111111111, \"#46039f\"], [0.2222222222222222, \"#7201a8\"], [0.3333333333333333, \"#9c179e\"], [0.4444444444444444, \"#bd3786\"], [0.5555555555555556, \"#d8576b\"], [0.6666666666666666, \"#ed7953\"], [0.7777777777777778, \"#fb9f3a\"], [0.8888888888888888, \"#fdca26\"], [1.0, \"#f0f921\"]], \"sequentialminus\": [[0.0, \"#0d0887\"], [0.1111111111111111, \"#46039f\"], [0.2222222222222222, \"#7201a8\"], [0.3333333333333333, \"#9c179e\"], [0.4444444444444444, \"#bd3786\"], [0.5555555555555556, \"#d8576b\"], [0.6666666666666666, \"#ed7953\"], [0.7777777777777778, \"#fb9f3a\"], [0.8888888888888888, \"#fdca26\"], [1.0, \"#f0f921\"]]}, \"colorway\": [\"#636efa\", \"#EF553B\", \"#00cc96\", \"#ab63fa\", \"#FFA15A\", \"#19d3f3\", \"#FF6692\", \"#B6E880\", \"#FF97FF\", \"#FECB52\"], \"font\": {\"color\": \"#2a3f5f\"}, \"geo\": {\"bgcolor\": \"white\", \"lakecolor\": \"white\", \"landcolor\": \"#E5ECF6\", \"showlakes\": true, \"showland\": true, \"subunitcolor\": \"white\"}, \"hoverlabel\": {\"align\": \"left\"}, \"hovermode\": \"closest\", \"mapbox\": {\"style\": \"light\"}, \"paper_bgcolor\": \"white\", \"plot_bgcolor\": \"#E5ECF6\", \"polar\": {\"angularaxis\": {\"gridcolor\": \"white\", \"linecolor\": \"white\", \"ticks\": \"\"}, \"bgcolor\": \"#E5ECF6\", \"radialaxis\": {\"gridcolor\": \"white\", \"linecolor\": \"white\", \"ticks\": \"\"}}, \"scene\": {\"xaxis\": {\"backgroundcolor\": \"#E5ECF6\", \"gridcolor\": \"white\", \"gridwidth\": 2, \"linecolor\": \"white\", \"showbackground\": true, \"ticks\": \"\", \"zerolinecolor\": \"white\"}, \"yaxis\": {\"backgroundcolor\": \"#E5ECF6\", \"gridcolor\": \"white\", \"gridwidth\": 2, \"linecolor\": \"white\", \"showbackground\": true, \"ticks\": \"\", \"zerolinecolor\": \"white\"}, \"zaxis\": {\"backgroundcolor\": \"#E5ECF6\", \"gridcolor\": \"white\", \"gridwidth\": 2, \"linecolor\": \"white\", \"showbackground\": true, \"ticks\": \"\", \"zerolinecolor\": \"white\"}}, \"shapedefaults\": {\"line\": {\"color\": \"#2a3f5f\"}}, \"ternary\": {\"aaxis\": {\"gridcolor\": \"white\", \"linecolor\": \"white\", \"ticks\": \"\"}, \"baxis\": {\"gridcolor\": \"white\", \"linecolor\": \"white\", \"ticks\": \"\"}, \"bgcolor\": \"#E5ECF6\", \"caxis\": {\"gridcolor\": \"white\", \"linecolor\": \"white\", \"ticks\": \"\"}}, \"title\": {\"x\": 0.05}, \"xaxis\": {\"automargin\": true, \"gridcolor\": \"white\", \"linecolor\": \"white\", \"ticks\": \"\", \"title\": {\"standoff\": 15}, \"zerolinecolor\": \"white\", \"zerolinewidth\": 2}, \"yaxis\": {\"automargin\": true, \"gridcolor\": \"white\", \"linecolor\": \"white\", \"ticks\": \"\", \"title\": {\"standoff\": 15}, \"zerolinecolor\": \"white\", \"zerolinewidth\": 2}}}, \"title\": {\"text\": \"Mean death rate over continents\"}, \"xaxis\": {\"ticklen\": 5, \"title\": {\"text\": \"mean deaths/cases %\"}, \"zeroline\": false}},\n",
       "                        {\"responsive\": true}\n",
       "                    ).then(function(){\n",
       "                            \n",
       "var gd = document.getElementById('5a351821-c6c9-49e7-b648-4862e286d1b4');\n",
       "var x = new MutationObserver(function (mutations, observer) {{\n",
       "        var display = window.getComputedStyle(gd).display;\n",
       "        if (!display || display === 'none') {{\n",
       "            console.log([gd, 'removed!']);\n",
       "            Plotly.purge(gd);\n",
       "            observer.disconnect();\n",
       "        }}\n",
       "}});\n",
       "\n",
       "// Listen for the removal of the full notebook cells\n",
       "var notebookContainer = gd.closest('#notebook-container');\n",
       "if (notebookContainer) {{\n",
       "    x.observe(notebookContainer, {childList: true});\n",
       "}}\n",
       "\n",
       "// Listen for the clearing of the current output cell\n",
       "var outputEl = gd.closest('.output');\n",
       "if (outputEl) {{\n",
       "    x.observe(outputEl, {childList: true});\n",
       "}}\n",
       "\n",
       "                        })\n",
       "                };\n",
       "                });\n",
       "            </script>\n",
       "        </div>"
      ]
     },
     "metadata": {},
     "output_type": "display_data"
    }
   ],
   "source": [
    "trace1 = go.Scatter(\n",
    "                    x = df[(df['continent']=='Asia')&(df['datetime']>='2020-03-01')].groupby(['date','continent'])['date'].apply(lambda x: np.unique(x)[0]),\n",
    "                    y = df[(df['continent']=='Asia')&(df['datetime']>='2020-03-01')].groupby(['date','continent'])['death_rate'].mean()*100,\n",
    "                    mode = \"lines\",\n",
    "                    name = \"Asia\",\n",
    "                    marker = dict(color = 'green'),\n",
    ")\n",
    "\n",
    "trace2 = go.Scatter(\n",
    "                    x = df[(df['continent']=='Europe')&(df['datetime']>='2020-03-01')].groupby(['date','continent'])['date'].apply(lambda x: np.unique(x)[0]),\n",
    "                    y = df[(df['continent']=='Europe')&(df['datetime']>='2020-03-01')].groupby(['date','continent'])['death_rate'].mean()*100,\n",
    "                    mode = \"lines\",\n",
    "                    name = \"Europe\",\n",
    "                    marker = dict(color = 'red'),\n",
    ")\n",
    "\n",
    "trace3 = go.Scatter(\n",
    "                    x = df[(df['continent']=='Africa')&(df['datetime']>='2020-03-01')].groupby(['date','continent'])['date'].apply(lambda x: np.unique(x)[0]),\n",
    "                    y = df[(df['continent']=='Africa')&(df['datetime']>='2020-03-01')].groupby(['date','continent'])['death_rate'].mean()*100,\n",
    "                    mode = \"lines\",\n",
    "                    name = \"Africa\",\n",
    "                    marker = dict(color = 'blue'),\n",
    ")\n",
    "\n",
    "trace4 = go.Scatter(\n",
    "                    x = df[(df['continent']=='North America')&(df['datetime']>='2020-03-01')].groupby(['date','continent'])['date'].apply(lambda x: np.unique(x)[0]),\n",
    "                    y = df[(df['continent']=='North America')&(df['datetime']>='2020-03-01')].groupby(['date','continent'])['death_rate'].mean()*100,\n",
    "                    mode = \"lines\",\n",
    "                    name = \"North America\",\n",
    "                    marker = dict(color = 'black'),\n",
    ")\n",
    "\n",
    "trace5 = go.Scatter(\n",
    "                    x = df[(df['continent']=='South America')&(df['datetime']>='2020-03-01')].groupby(['date','continent'])['date'].apply(lambda x: np.unique(x)[0]),\n",
    "                    y = df[(df['continent']=='South America')&(df['datetime']>='2020-03-01')].groupby(['date','continent'])['death_rate'].mean(),\n",
    "                    mode = \"lines\",\n",
    "                    name = \"South America\",\n",
    "                    marker = dict(color = 'brown'),\n",
    ")\n",
    "\n",
    "data = [trace1,trace2,trace3,trace4,trace5]\n",
    "layout = dict(title = 'Mean death rate over continents',\n",
    "              xaxis= dict(title= 'mean deaths/cases %',ticklen= 5,zeroline= False)\n",
    "             )\n",
    "fig = dict(data = data, layout = layout)\n",
    "iplot(fig)"
   ]
  },
  {
   "cell_type": "code",
   "execution_count": 9,
   "metadata": {},
   "outputs": [],
   "source": [
    "df['year_month'] = df['date'].apply(lambda x: x[:7])\n",
    "df_grouped = df.groupby(['location','year_month']).agg({'new_deaths': np.sum, 'gdp_per_capita': np.mean, 'new_cases':np.sum}).reset_index()\n",
    "df_grouped = df_grouped[(~df_grouped['new_deaths'].isnull())&(~df_grouped['new_cases'].isnull())&(~df_grouped['gdp_per_capita'].isnull())&(~df_grouped['location'].isnull())]\n",
    "del df['year_month']"
   ]
  },
  {
   "cell_type": "code",
   "execution_count": 10,
   "metadata": {},
   "outputs": [],
   "source": [
    "df_grouped = df_grouped[df_grouped['year_month'].isin(['2020-04','2020-05','2020-06','2020-07','2020-08','2020-09'])]"
   ]
  },
  {
   "cell_type": "code",
   "execution_count": 38,
   "metadata": {},
   "outputs": [
    {
     "data": {
      "application/vnd.plotly.v1+json": {
       "config": {
        "plotlyServerURL": "https://plot.ly"
       },
       "data": [
        {
         "hovertemplate": "<b>%{hovertext}</b><br><br>location=Denmark<br>year_month=2020-04<br>new_deaths=%{x}<br>new_cases=%{marker.size}<extra></extra>",
         "hovertext": [
          "Denmark"
         ],
         "ids": [
          "Denmark"
         ],
         "legendgroup": "Denmark",
         "marker": {
          "color": "#636efa",
          "size": [
           6431
          ],
          "sizemode": "area",
          "sizeref": 28.29222222222222,
          "symbol": "circle"
         },
         "mode": "markers",
         "name": "Denmark",
         "orientation": "v",
         "showlegend": true,
         "type": "scatter",
         "x": [
          366
         ],
         "xaxis": "x",
         "y": [
          6431
         ],
         "yaxis": "y"
        },
        {
         "hovertemplate": "<b>%{hovertext}</b><br><br>location=Germany<br>year_month=2020-04<br>new_deaths=%{x}<br>new_cases=%{marker.size}<extra></extra>",
         "hovertext": [
          "Germany"
         ],
         "ids": [
          "Germany"
         ],
         "legendgroup": "Germany",
         "marker": {
          "color": "#EF553B",
          "size": [
           97206
          ],
          "sizemode": "area",
          "sizeref": 28.29222222222222,
          "symbol": "circle"
         },
         "mode": "markers",
         "name": "Germany",
         "orientation": "v",
         "showlegend": true,
         "type": "scatter",
         "x": [
          5705
         ],
         "xaxis": "x",
         "y": [
          97206
         ],
         "yaxis": "y"
        },
        {
         "hovertemplate": "<b>%{hovertext}</b><br><br>location=Iceland<br>year_month=2020-04<br>new_deaths=%{x}<br>new_cases=%{marker.size}<extra></extra>",
         "hovertext": [
          "Iceland"
         ],
         "ids": [
          "Iceland"
         ],
         "legendgroup": "Iceland",
         "marker": {
          "color": "#00cc96",
          "size": [
           711
          ],
          "sizemode": "area",
          "sizeref": 28.29222222222222,
          "symbol": "circle"
         },
         "mode": "markers",
         "name": "Iceland",
         "orientation": "v",
         "showlegend": true,
         "type": "scatter",
         "x": [
          8
         ],
         "xaxis": "x",
         "y": [
          711
         ],
         "yaxis": "y"
        },
        {
         "hovertemplate": "<b>%{hovertext}</b><br><br>location=Italy<br>year_month=2020-04<br>new_deaths=%{x}<br>new_cases=%{marker.size}<extra></extra>",
         "hovertext": [
          "Italy"
         ],
         "ids": [
          "Italy"
         ],
         "legendgroup": "Italy",
         "marker": {
          "color": "#ab63fa",
          "size": [
           101852
          ],
          "sizemode": "area",
          "sizeref": 28.29222222222222,
          "symbol": "circle"
         },
         "mode": "markers",
         "name": "Italy",
         "orientation": "v",
         "showlegend": true,
         "type": "scatter",
         "x": [
          16091
         ],
         "xaxis": "x",
         "y": [
          101852
         ],
         "yaxis": "y"
        }
       ],
       "frames": [
        {
         "data": [
          {
           "hovertemplate": "<b>%{hovertext}</b><br><br>location=Denmark<br>year_month=2020-04<br>new_deaths=%{x}<br>new_cases=%{marker.size}<extra></extra>",
           "hovertext": [
            "Denmark"
           ],
           "ids": [
            "Denmark"
           ],
           "legendgroup": "Denmark",
           "marker": {
            "color": "#636efa",
            "size": [
             6431
            ],
            "sizemode": "area",
            "sizeref": 28.29222222222222,
            "symbol": "circle"
           },
           "mode": "markers",
           "name": "Denmark",
           "orientation": "v",
           "showlegend": true,
           "type": "scatter",
           "x": [
            366
           ],
           "xaxis": "x",
           "y": [
            6431
           ],
           "yaxis": "y"
          },
          {
           "hovertemplate": "<b>%{hovertext}</b><br><br>location=Germany<br>year_month=2020-04<br>new_deaths=%{x}<br>new_cases=%{marker.size}<extra></extra>",
           "hovertext": [
            "Germany"
           ],
           "ids": [
            "Germany"
           ],
           "legendgroup": "Germany",
           "marker": {
            "color": "#EF553B",
            "size": [
             97206
            ],
            "sizemode": "area",
            "sizeref": 28.29222222222222,
            "symbol": "circle"
           },
           "mode": "markers",
           "name": "Germany",
           "orientation": "v",
           "showlegend": true,
           "type": "scatter",
           "x": [
            5705
           ],
           "xaxis": "x",
           "y": [
            97206
           ],
           "yaxis": "y"
          },
          {
           "hovertemplate": "<b>%{hovertext}</b><br><br>location=Iceland<br>year_month=2020-04<br>new_deaths=%{x}<br>new_cases=%{marker.size}<extra></extra>",
           "hovertext": [
            "Iceland"
           ],
           "ids": [
            "Iceland"
           ],
           "legendgroup": "Iceland",
           "marker": {
            "color": "#00cc96",
            "size": [
             711
            ],
            "sizemode": "area",
            "sizeref": 28.29222222222222,
            "symbol": "circle"
           },
           "mode": "markers",
           "name": "Iceland",
           "orientation": "v",
           "showlegend": true,
           "type": "scatter",
           "x": [
            8
           ],
           "xaxis": "x",
           "y": [
            711
           ],
           "yaxis": "y"
          },
          {
           "hovertemplate": "<b>%{hovertext}</b><br><br>location=Italy<br>year_month=2020-04<br>new_deaths=%{x}<br>new_cases=%{marker.size}<extra></extra>",
           "hovertext": [
            "Italy"
           ],
           "ids": [
            "Italy"
           ],
           "legendgroup": "Italy",
           "marker": {
            "color": "#ab63fa",
            "size": [
             101852
            ],
            "sizemode": "area",
            "sizeref": 28.29222222222222,
            "symbol": "circle"
           },
           "mode": "markers",
           "name": "Italy",
           "orientation": "v",
           "showlegend": true,
           "type": "scatter",
           "x": [
            16091
           ],
           "xaxis": "x",
           "y": [
            101852
           ],
           "yaxis": "y"
          }
         ],
         "name": "2020-04"
        },
        {
         "data": [
          {
           "hovertemplate": "<b>%{hovertext}</b><br><br>location=Denmark<br>year_month=2020-05<br>new_deaths=%{x}<br>new_cases=%{marker.size}<extra></extra>",
           "hovertext": [
            "Denmark"
           ],
           "ids": [
            "Denmark"
           ],
           "legendgroup": "Denmark",
           "marker": {
            "color": "#636efa",
            "size": [
             2625
            ],
            "sizemode": "area",
            "sizeref": 28.29222222222222,
            "symbol": "circle"
           },
           "mode": "markers",
           "name": "Denmark",
           "orientation": "v",
           "showlegend": true,
           "type": "scatter",
           "x": [
            128
           ],
           "xaxis": "x",
           "y": [
            2625
           ],
           "yaxis": "y"
          },
          {
           "hovertemplate": "<b>%{hovertext}</b><br><br>location=Germany<br>year_month=2020-05<br>new_deaths=%{x}<br>new_cases=%{marker.size}<extra></extra>",
           "hovertext": [
            "Germany"
           ],
           "ids": [
            "Germany"
           ],
           "legendgroup": "Germany",
           "marker": {
            "color": "#EF553B",
            "size": [
             22363
            ],
            "sizemode": "area",
            "sizeref": 28.29222222222222,
            "symbol": "circle"
           },
           "mode": "markers",
           "name": "Germany",
           "orientation": "v",
           "showlegend": true,
           "type": "scatter",
           "x": [
            2212
           ],
           "xaxis": "x",
           "y": [
            22363
           ],
           "yaxis": "y"
          },
          {
           "hovertemplate": "<b>%{hovertext}</b><br><br>location=Iceland<br>year_month=2020-05<br>new_deaths=%{x}<br>new_cases=%{marker.size}<extra></extra>",
           "hovertext": [
            "Iceland"
           ],
           "ids": [
            "Iceland"
           ],
           "legendgroup": "Iceland",
           "marker": {
            "color": "#00cc96",
            "size": [
             9
            ],
            "sizemode": "area",
            "sizeref": 28.29222222222222,
            "symbol": "circle"
           },
           "mode": "markers",
           "name": "Iceland",
           "orientation": "v",
           "showlegend": true,
           "type": "scatter",
           "x": [
            0
           ],
           "xaxis": "x",
           "y": [
            9
           ],
           "yaxis": "y"
          },
          {
           "hovertemplate": "<b>%{hovertext}</b><br><br>location=Italy<br>year_month=2020-05<br>new_deaths=%{x}<br>new_cases=%{marker.size}<extra></extra>",
           "hovertext": [
            "Italy"
           ],
           "ids": [
            "Italy"
           ],
           "legendgroup": "Italy",
           "marker": {
            "color": "#ab63fa",
            "size": [
             29073
            ],
            "sizemode": "area",
            "sizeref": 28.29222222222222,
            "symbol": "circle"
           },
           "mode": "markers",
           "name": "Italy",
           "orientation": "v",
           "showlegend": true,
           "type": "scatter",
           "x": [
            5658
           ],
           "xaxis": "x",
           "y": [
            29073
           ],
           "yaxis": "y"
          }
         ],
         "name": "2020-05"
        },
        {
         "data": [
          {
           "hovertemplate": "<b>%{hovertext}</b><br><br>location=Denmark<br>year_month=2020-06<br>new_deaths=%{x}<br>new_cases=%{marker.size}<extra></extra>",
           "hovertext": [
            "Denmark"
           ],
           "ids": [
            "Denmark"
           ],
           "legendgroup": "Denmark",
           "marker": {
            "color": "#636efa",
            "size": [
             1118
            ],
            "sizemode": "area",
            "sizeref": 28.29222222222222,
            "symbol": "circle"
           },
           "mode": "markers",
           "name": "Denmark",
           "orientation": "v",
           "showlegend": true,
           "type": "scatter",
           "x": [
            34
           ],
           "xaxis": "x",
           "y": [
            1118
           ],
           "yaxis": "y"
          },
          {
           "hovertemplate": "<b>%{hovertext}</b><br><br>location=Germany<br>year_month=2020-06<br>new_deaths=%{x}<br>new_cases=%{marker.size}<extra></extra>",
           "hovertext": [
            "Germany"
           ],
           "ids": [
            "Germany"
           ],
           "legendgroup": "Germany",
           "marker": {
            "color": "#EF553B",
            "size": [
             12777
            ],
            "sizemode": "area",
            "sizeref": 28.29222222222222,
            "symbol": "circle"
           },
           "mode": "markers",
           "name": "Germany",
           "orientation": "v",
           "showlegend": true,
           "type": "scatter",
           "x": [
            473
           ],
           "xaxis": "x",
           "y": [
            12777
           ],
           "yaxis": "y"
          },
          {
           "hovertemplate": "<b>%{hovertext}</b><br><br>location=Iceland<br>year_month=2020-06<br>new_deaths=%{x}<br>new_cases=%{marker.size}<extra></extra>",
           "hovertext": [
            "Iceland"
           ],
           "ids": [
            "Iceland"
           ],
           "legendgroup": "Iceland",
           "marker": {
            "color": "#00cc96",
            "size": [
             16
            ],
            "sizemode": "area",
            "sizeref": 28.29222222222222,
            "symbol": "circle"
           },
           "mode": "markers",
           "name": "Iceland",
           "orientation": "v",
           "showlegend": true,
           "type": "scatter",
           "x": [
            0
           ],
           "xaxis": "x",
           "y": [
            16
           ],
           "yaxis": "y"
          },
          {
           "hovertemplate": "<b>%{hovertext}</b><br><br>location=Italy<br>year_month=2020-06<br>new_deaths=%{x}<br>new_cases=%{marker.size}<extra></extra>",
           "hovertext": [
            "Italy"
           ],
           "ids": [
            "Italy"
           ],
           "legendgroup": "Italy",
           "marker": {
            "color": "#ab63fa",
            "size": [
             7772
            ],
            "sizemode": "area",
            "sizeref": 28.29222222222222,
            "symbol": "circle"
           },
           "mode": "markers",
           "name": "Italy",
           "orientation": "v",
           "showlegend": true,
           "type": "scatter",
           "x": [
            1404
           ],
           "xaxis": "x",
           "y": [
            7772
           ],
           "yaxis": "y"
          }
         ],
         "name": "2020-06"
        },
        {
         "data": [
          {
           "hovertemplate": "<b>%{hovertext}</b><br><br>location=Denmark<br>year_month=2020-07<br>new_deaths=%{x}<br>new_cases=%{marker.size}<extra></extra>",
           "hovertext": [
            "Denmark"
           ],
           "ids": [
            "Denmark"
           ],
           "legendgroup": "Denmark",
           "marker": {
            "color": "#636efa",
            "size": [
             974
            ],
            "sizemode": "area",
            "sizeref": 28.29222222222222,
            "symbol": "circle"
           },
           "mode": "markers",
           "name": "Denmark",
           "orientation": "v",
           "showlegend": true,
           "type": "scatter",
           "x": [
            10
           ],
           "xaxis": "x",
           "y": [
            974
           ],
           "yaxis": "y"
          },
          {
           "hovertemplate": "<b>%{hovertext}</b><br><br>location=Germany<br>year_month=2020-07<br>new_deaths=%{x}<br>new_cases=%{marker.size}<extra></extra>",
           "hovertext": [
            "Germany"
           ],
           "ids": [
            "Germany"
           ],
           "legendgroup": "Germany",
           "marker": {
            "color": "#EF553B",
            "size": [
             14439
            ],
            "sizemode": "area",
            "sizeref": 28.29222222222222,
            "symbol": "circle"
           },
           "mode": "markers",
           "name": "Germany",
           "orientation": "v",
           "showlegend": true,
           "type": "scatter",
           "x": [
            168
           ],
           "xaxis": "x",
           "y": [
            14439
           ],
           "yaxis": "y"
          },
          {
           "hovertemplate": "<b>%{hovertext}</b><br><br>location=Iceland<br>year_month=2020-07<br>new_deaths=%{x}<br>new_cases=%{marker.size}<extra></extra>",
           "hovertext": [
            "Iceland"
           ],
           "ids": [
            "Iceland"
           ],
           "legendgroup": "Iceland",
           "marker": {
            "color": "#00cc96",
            "size": [
             50
            ],
            "sizemode": "area",
            "sizeref": 28.29222222222222,
            "symbol": "circle"
           },
           "mode": "markers",
           "name": "Iceland",
           "orientation": "v",
           "showlegend": true,
           "type": "scatter",
           "x": [
            0
           ],
           "xaxis": "x",
           "y": [
            50
           ],
           "yaxis": "y"
          },
          {
           "hovertemplate": "<b>%{hovertext}</b><br><br>location=Italy<br>year_month=2020-07<br>new_deaths=%{x}<br>new_cases=%{marker.size}<extra></extra>",
           "hovertext": [
            "Italy"
           ],
           "ids": [
            "Italy"
           ],
           "legendgroup": "Italy",
           "marker": {
            "color": "#ab63fa",
            "size": [
             6722
            ],
            "sizemode": "area",
            "sizeref": 28.29222222222222,
            "symbol": "circle"
           },
           "mode": "markers",
           "name": "Italy",
           "orientation": "v",
           "showlegend": true,
           "type": "scatter",
           "x": [
            388
           ],
           "xaxis": "x",
           "y": [
            6722
           ],
           "yaxis": "y"
          }
         ],
         "name": "2020-07"
        },
        {
         "data": [
          {
           "hovertemplate": "<b>%{hovertext}</b><br><br>location=Denmark<br>year_month=2020-08<br>new_deaths=%{x}<br>new_cases=%{marker.size}<extra></extra>",
           "hovertext": [
            "Denmark"
           ],
           "ids": [
            "Denmark"
           ],
           "legendgroup": "Denmark",
           "marker": {
            "color": "#636efa",
            "size": [
             2975
            ],
            "sizemode": "area",
            "sizeref": 28.29222222222222,
            "symbol": "circle"
           },
           "mode": "markers",
           "name": "Denmark",
           "orientation": "v",
           "showlegend": true,
           "type": "scatter",
           "x": [
            9
           ],
           "xaxis": "x",
           "y": [
            2975
           ],
           "yaxis": "y"
          },
          {
           "hovertemplate": "<b>%{hovertext}</b><br><br>location=Germany<br>year_month=2020-08<br>new_deaths=%{x}<br>new_cases=%{marker.size}<extra></extra>",
           "hovertext": [
            "Germany"
           ],
           "ids": [
            "Germany"
           ],
           "legendgroup": "Germany",
           "marker": {
            "color": "#EF553B",
            "size": [
             33683
            ],
            "sizemode": "area",
            "sizeref": 28.29222222222222,
            "symbol": "circle"
           },
           "mode": "markers",
           "name": "Germany",
           "orientation": "v",
           "showlegend": true,
           "type": "scatter",
           "x": [
            157
           ],
           "xaxis": "x",
           "y": [
            33683
           ],
           "yaxis": "y"
          },
          {
           "hovertemplate": "<b>%{hovertext}</b><br><br>location=Iceland<br>year_month=2020-08<br>new_deaths=%{x}<br>new_cases=%{marker.size}<extra></extra>",
           "hovertext": [
            "Iceland"
           ],
           "ids": [
            "Iceland"
           ],
           "legendgroup": "Iceland",
           "marker": {
            "color": "#00cc96",
            "size": [
             233
            ],
            "sizemode": "area",
            "sizeref": 28.29222222222222,
            "symbol": "circle"
           },
           "mode": "markers",
           "name": "Iceland",
           "orientation": "v",
           "showlegend": true,
           "type": "scatter",
           "x": [
            0
           ],
           "xaxis": "x",
           "y": [
            233
           ],
           "yaxis": "y"
          },
          {
           "hovertemplate": "<b>%{hovertext}</b><br><br>location=Italy<br>year_month=2020-08<br>new_deaths=%{x}<br>new_cases=%{marker.size}<extra></extra>",
           "hovertext": [
            "Italy"
           ],
           "ids": [
            "Italy"
           ],
           "legendgroup": "Italy",
           "marker": {
            "color": "#ab63fa",
            "size": [
             21060
            ],
            "sizemode": "area",
            "sizeref": 28.29222222222222,
            "symbol": "circle"
           },
           "mode": "markers",
           "name": "Italy",
           "orientation": "v",
           "showlegend": true,
           "type": "scatter",
           "x": [
            345
           ],
           "xaxis": "x",
           "y": [
            21060
           ],
           "yaxis": "y"
          }
         ],
         "name": "2020-08"
        },
        {
         "data": [
          {
           "hovertemplate": "<b>%{hovertext}</b><br><br>location=Denmark<br>year_month=2020-09<br>new_deaths=%{x}<br>new_cases=%{marker.size}<extra></extra>",
           "hovertext": [
            "Denmark"
           ],
           "ids": [
            "Denmark"
           ],
           "legendgroup": "Denmark",
           "marker": {
            "color": "#636efa",
            "size": [
             10764
            ],
            "sizemode": "area",
            "sizeref": 28.29222222222222,
            "symbol": "circle"
           },
           "mode": "markers",
           "name": "Denmark",
           "orientation": "v",
           "showlegend": true,
           "type": "scatter",
           "x": [
            26
           ],
           "xaxis": "x",
           "y": [
            10764
           ],
           "yaxis": "y"
          },
          {
           "hovertemplate": "<b>%{hovertext}</b><br><br>location=Germany<br>year_month=2020-09<br>new_deaths=%{x}<br>new_cases=%{marker.size}<extra></extra>",
           "hovertext": [
            "Germany"
           ],
           "ids": [
            "Germany"
           ],
           "legendgroup": "Germany",
           "marker": {
            "color": "#EF553B",
            "size": [
             46838
            ],
            "sizemode": "area",
            "sizeref": 28.29222222222222,
            "symbol": "circle"
           },
           "mode": "markers",
           "name": "Germany",
           "orientation": "v",
           "showlegend": true,
           "type": "scatter",
           "x": [
            190
           ],
           "xaxis": "x",
           "y": [
            46838
           ],
           "yaxis": "y"
          },
          {
           "hovertemplate": "<b>%{hovertext}</b><br><br>location=Iceland<br>year_month=2020-09<br>new_deaths=%{x}<br>new_cases=%{marker.size}<extra></extra>",
           "hovertext": [
            "Iceland"
           ],
           "ids": [
            "Iceland"
           ],
           "legendgroup": "Iceland",
           "marker": {
            "color": "#00cc96",
            "size": [
             590
            ],
            "sizemode": "area",
            "sizeref": 28.29222222222222,
            "symbol": "circle"
           },
           "mode": "markers",
           "name": "Iceland",
           "orientation": "v",
           "showlegend": true,
           "type": "scatter",
           "x": [
            0
           ],
           "xaxis": "x",
           "y": [
            590
           ],
           "yaxis": "y"
          },
          {
           "hovertemplate": "<b>%{hovertext}</b><br><br>location=Italy<br>year_month=2020-09<br>new_deaths=%{x}<br>new_cases=%{marker.size}<extra></extra>",
           "hovertext": [
            "Italy"
           ],
           "ids": [
            "Italy"
           ],
           "legendgroup": "Italy",
           "marker": {
            "color": "#ab63fa",
            "size": [
             44793
            ],
            "sizemode": "area",
            "sizeref": 28.29222222222222,
            "symbol": "circle"
           },
           "mode": "markers",
           "name": "Italy",
           "orientation": "v",
           "showlegend": true,
           "type": "scatter",
           "x": [
            398
           ],
           "xaxis": "x",
           "y": [
            44793
           ],
           "yaxis": "y"
          }
         ],
         "name": "2020-09"
        }
       ],
       "layout": {
        "legend": {
         "itemsizing": "constant",
         "title": {
          "text": "location"
         },
         "tracegroupgap": 0
        },
        "margin": {
         "t": 60
        },
        "sliders": [
         {
          "active": 0,
          "currentvalue": {
           "prefix": "year_month="
          },
          "len": 0.9,
          "pad": {
           "b": 10,
           "t": 60
          },
          "steps": [
           {
            "args": [
             [
              "2020-04"
             ],
             {
              "frame": {
               "duration": 0,
               "redraw": false
              },
              "fromcurrent": true,
              "mode": "immediate",
              "transition": {
               "duration": 0,
               "easing": "linear"
              }
             }
            ],
            "label": "2020-04",
            "method": "animate"
           },
           {
            "args": [
             [
              "2020-05"
             ],
             {
              "frame": {
               "duration": 0,
               "redraw": false
              },
              "fromcurrent": true,
              "mode": "immediate",
              "transition": {
               "duration": 0,
               "easing": "linear"
              }
             }
            ],
            "label": "2020-05",
            "method": "animate"
           },
           {
            "args": [
             [
              "2020-06"
             ],
             {
              "frame": {
               "duration": 0,
               "redraw": false
              },
              "fromcurrent": true,
              "mode": "immediate",
              "transition": {
               "duration": 0,
               "easing": "linear"
              }
             }
            ],
            "label": "2020-06",
            "method": "animate"
           },
           {
            "args": [
             [
              "2020-07"
             ],
             {
              "frame": {
               "duration": 0,
               "redraw": false
              },
              "fromcurrent": true,
              "mode": "immediate",
              "transition": {
               "duration": 0,
               "easing": "linear"
              }
             }
            ],
            "label": "2020-07",
            "method": "animate"
           },
           {
            "args": [
             [
              "2020-08"
             ],
             {
              "frame": {
               "duration": 0,
               "redraw": false
              },
              "fromcurrent": true,
              "mode": "immediate",
              "transition": {
               "duration": 0,
               "easing": "linear"
              }
             }
            ],
            "label": "2020-08",
            "method": "animate"
           },
           {
            "args": [
             [
              "2020-09"
             ],
             {
              "frame": {
               "duration": 0,
               "redraw": false
              },
              "fromcurrent": true,
              "mode": "immediate",
              "transition": {
               "duration": 0,
               "easing": "linear"
              }
             }
            ],
            "label": "2020-09",
            "method": "animate"
           }
          ],
          "x": 0.1,
          "xanchor": "left",
          "y": 0,
          "yanchor": "top"
         }
        ],
        "template": {
         "data": {
          "bar": [
           {
            "error_x": {
             "color": "#2a3f5f"
            },
            "error_y": {
             "color": "#2a3f5f"
            },
            "marker": {
             "line": {
              "color": "#E5ECF6",
              "width": 0.5
             }
            },
            "type": "bar"
           }
          ],
          "barpolar": [
           {
            "marker": {
             "line": {
              "color": "#E5ECF6",
              "width": 0.5
             }
            },
            "type": "barpolar"
           }
          ],
          "carpet": [
           {
            "aaxis": {
             "endlinecolor": "#2a3f5f",
             "gridcolor": "white",
             "linecolor": "white",
             "minorgridcolor": "white",
             "startlinecolor": "#2a3f5f"
            },
            "baxis": {
             "endlinecolor": "#2a3f5f",
             "gridcolor": "white",
             "linecolor": "white",
             "minorgridcolor": "white",
             "startlinecolor": "#2a3f5f"
            },
            "type": "carpet"
           }
          ],
          "choropleth": [
           {
            "colorbar": {
             "outlinewidth": 0,
             "ticks": ""
            },
            "type": "choropleth"
           }
          ],
          "contour": [
           {
            "colorbar": {
             "outlinewidth": 0,
             "ticks": ""
            },
            "colorscale": [
             [
              0,
              "#0d0887"
             ],
             [
              0.1111111111111111,
              "#46039f"
             ],
             [
              0.2222222222222222,
              "#7201a8"
             ],
             [
              0.3333333333333333,
              "#9c179e"
             ],
             [
              0.4444444444444444,
              "#bd3786"
             ],
             [
              0.5555555555555556,
              "#d8576b"
             ],
             [
              0.6666666666666666,
              "#ed7953"
             ],
             [
              0.7777777777777778,
              "#fb9f3a"
             ],
             [
              0.8888888888888888,
              "#fdca26"
             ],
             [
              1,
              "#f0f921"
             ]
            ],
            "type": "contour"
           }
          ],
          "contourcarpet": [
           {
            "colorbar": {
             "outlinewidth": 0,
             "ticks": ""
            },
            "type": "contourcarpet"
           }
          ],
          "heatmap": [
           {
            "colorbar": {
             "outlinewidth": 0,
             "ticks": ""
            },
            "colorscale": [
             [
              0,
              "#0d0887"
             ],
             [
              0.1111111111111111,
              "#46039f"
             ],
             [
              0.2222222222222222,
              "#7201a8"
             ],
             [
              0.3333333333333333,
              "#9c179e"
             ],
             [
              0.4444444444444444,
              "#bd3786"
             ],
             [
              0.5555555555555556,
              "#d8576b"
             ],
             [
              0.6666666666666666,
              "#ed7953"
             ],
             [
              0.7777777777777778,
              "#fb9f3a"
             ],
             [
              0.8888888888888888,
              "#fdca26"
             ],
             [
              1,
              "#f0f921"
             ]
            ],
            "type": "heatmap"
           }
          ],
          "heatmapgl": [
           {
            "colorbar": {
             "outlinewidth": 0,
             "ticks": ""
            },
            "colorscale": [
             [
              0,
              "#0d0887"
             ],
             [
              0.1111111111111111,
              "#46039f"
             ],
             [
              0.2222222222222222,
              "#7201a8"
             ],
             [
              0.3333333333333333,
              "#9c179e"
             ],
             [
              0.4444444444444444,
              "#bd3786"
             ],
             [
              0.5555555555555556,
              "#d8576b"
             ],
             [
              0.6666666666666666,
              "#ed7953"
             ],
             [
              0.7777777777777778,
              "#fb9f3a"
             ],
             [
              0.8888888888888888,
              "#fdca26"
             ],
             [
              1,
              "#f0f921"
             ]
            ],
            "type": "heatmapgl"
           }
          ],
          "histogram": [
           {
            "marker": {
             "colorbar": {
              "outlinewidth": 0,
              "ticks": ""
             }
            },
            "type": "histogram"
           }
          ],
          "histogram2d": [
           {
            "colorbar": {
             "outlinewidth": 0,
             "ticks": ""
            },
            "colorscale": [
             [
              0,
              "#0d0887"
             ],
             [
              0.1111111111111111,
              "#46039f"
             ],
             [
              0.2222222222222222,
              "#7201a8"
             ],
             [
              0.3333333333333333,
              "#9c179e"
             ],
             [
              0.4444444444444444,
              "#bd3786"
             ],
             [
              0.5555555555555556,
              "#d8576b"
             ],
             [
              0.6666666666666666,
              "#ed7953"
             ],
             [
              0.7777777777777778,
              "#fb9f3a"
             ],
             [
              0.8888888888888888,
              "#fdca26"
             ],
             [
              1,
              "#f0f921"
             ]
            ],
            "type": "histogram2d"
           }
          ],
          "histogram2dcontour": [
           {
            "colorbar": {
             "outlinewidth": 0,
             "ticks": ""
            },
            "colorscale": [
             [
              0,
              "#0d0887"
             ],
             [
              0.1111111111111111,
              "#46039f"
             ],
             [
              0.2222222222222222,
              "#7201a8"
             ],
             [
              0.3333333333333333,
              "#9c179e"
             ],
             [
              0.4444444444444444,
              "#bd3786"
             ],
             [
              0.5555555555555556,
              "#d8576b"
             ],
             [
              0.6666666666666666,
              "#ed7953"
             ],
             [
              0.7777777777777778,
              "#fb9f3a"
             ],
             [
              0.8888888888888888,
              "#fdca26"
             ],
             [
              1,
              "#f0f921"
             ]
            ],
            "type": "histogram2dcontour"
           }
          ],
          "mesh3d": [
           {
            "colorbar": {
             "outlinewidth": 0,
             "ticks": ""
            },
            "type": "mesh3d"
           }
          ],
          "parcoords": [
           {
            "line": {
             "colorbar": {
              "outlinewidth": 0,
              "ticks": ""
             }
            },
            "type": "parcoords"
           }
          ],
          "pie": [
           {
            "automargin": true,
            "type": "pie"
           }
          ],
          "scatter": [
           {
            "marker": {
             "colorbar": {
              "outlinewidth": 0,
              "ticks": ""
             }
            },
            "type": "scatter"
           }
          ],
          "scatter3d": [
           {
            "line": {
             "colorbar": {
              "outlinewidth": 0,
              "ticks": ""
             }
            },
            "marker": {
             "colorbar": {
              "outlinewidth": 0,
              "ticks": ""
             }
            },
            "type": "scatter3d"
           }
          ],
          "scattercarpet": [
           {
            "marker": {
             "colorbar": {
              "outlinewidth": 0,
              "ticks": ""
             }
            },
            "type": "scattercarpet"
           }
          ],
          "scattergeo": [
           {
            "marker": {
             "colorbar": {
              "outlinewidth": 0,
              "ticks": ""
             }
            },
            "type": "scattergeo"
           }
          ],
          "scattergl": [
           {
            "marker": {
             "colorbar": {
              "outlinewidth": 0,
              "ticks": ""
             }
            },
            "type": "scattergl"
           }
          ],
          "scattermapbox": [
           {
            "marker": {
             "colorbar": {
              "outlinewidth": 0,
              "ticks": ""
             }
            },
            "type": "scattermapbox"
           }
          ],
          "scatterpolar": [
           {
            "marker": {
             "colorbar": {
              "outlinewidth": 0,
              "ticks": ""
             }
            },
            "type": "scatterpolar"
           }
          ],
          "scatterpolargl": [
           {
            "marker": {
             "colorbar": {
              "outlinewidth": 0,
              "ticks": ""
             }
            },
            "type": "scatterpolargl"
           }
          ],
          "scatterternary": [
           {
            "marker": {
             "colorbar": {
              "outlinewidth": 0,
              "ticks": ""
             }
            },
            "type": "scatterternary"
           }
          ],
          "surface": [
           {
            "colorbar": {
             "outlinewidth": 0,
             "ticks": ""
            },
            "colorscale": [
             [
              0,
              "#0d0887"
             ],
             [
              0.1111111111111111,
              "#46039f"
             ],
             [
              0.2222222222222222,
              "#7201a8"
             ],
             [
              0.3333333333333333,
              "#9c179e"
             ],
             [
              0.4444444444444444,
              "#bd3786"
             ],
             [
              0.5555555555555556,
              "#d8576b"
             ],
             [
              0.6666666666666666,
              "#ed7953"
             ],
             [
              0.7777777777777778,
              "#fb9f3a"
             ],
             [
              0.8888888888888888,
              "#fdca26"
             ],
             [
              1,
              "#f0f921"
             ]
            ],
            "type": "surface"
           }
          ],
          "table": [
           {
            "cells": {
             "fill": {
              "color": "#EBF0F8"
             },
             "line": {
              "color": "white"
             }
            },
            "header": {
             "fill": {
              "color": "#C8D4E3"
             },
             "line": {
              "color": "white"
             }
            },
            "type": "table"
           }
          ]
         },
         "layout": {
          "annotationdefaults": {
           "arrowcolor": "#2a3f5f",
           "arrowhead": 0,
           "arrowwidth": 1
          },
          "coloraxis": {
           "colorbar": {
            "outlinewidth": 0,
            "ticks": ""
           }
          },
          "colorscale": {
           "diverging": [
            [
             0,
             "#8e0152"
            ],
            [
             0.1,
             "#c51b7d"
            ],
            [
             0.2,
             "#de77ae"
            ],
            [
             0.3,
             "#f1b6da"
            ],
            [
             0.4,
             "#fde0ef"
            ],
            [
             0.5,
             "#f7f7f7"
            ],
            [
             0.6,
             "#e6f5d0"
            ],
            [
             0.7,
             "#b8e186"
            ],
            [
             0.8,
             "#7fbc41"
            ],
            [
             0.9,
             "#4d9221"
            ],
            [
             1,
             "#276419"
            ]
           ],
           "sequential": [
            [
             0,
             "#0d0887"
            ],
            [
             0.1111111111111111,
             "#46039f"
            ],
            [
             0.2222222222222222,
             "#7201a8"
            ],
            [
             0.3333333333333333,
             "#9c179e"
            ],
            [
             0.4444444444444444,
             "#bd3786"
            ],
            [
             0.5555555555555556,
             "#d8576b"
            ],
            [
             0.6666666666666666,
             "#ed7953"
            ],
            [
             0.7777777777777778,
             "#fb9f3a"
            ],
            [
             0.8888888888888888,
             "#fdca26"
            ],
            [
             1,
             "#f0f921"
            ]
           ],
           "sequentialminus": [
            [
             0,
             "#0d0887"
            ],
            [
             0.1111111111111111,
             "#46039f"
            ],
            [
             0.2222222222222222,
             "#7201a8"
            ],
            [
             0.3333333333333333,
             "#9c179e"
            ],
            [
             0.4444444444444444,
             "#bd3786"
            ],
            [
             0.5555555555555556,
             "#d8576b"
            ],
            [
             0.6666666666666666,
             "#ed7953"
            ],
            [
             0.7777777777777778,
             "#fb9f3a"
            ],
            [
             0.8888888888888888,
             "#fdca26"
            ],
            [
             1,
             "#f0f921"
            ]
           ]
          },
          "colorway": [
           "#636efa",
           "#EF553B",
           "#00cc96",
           "#ab63fa",
           "#FFA15A",
           "#19d3f3",
           "#FF6692",
           "#B6E880",
           "#FF97FF",
           "#FECB52"
          ],
          "font": {
           "color": "#2a3f5f"
          },
          "geo": {
           "bgcolor": "white",
           "lakecolor": "white",
           "landcolor": "#E5ECF6",
           "showlakes": true,
           "showland": true,
           "subunitcolor": "white"
          },
          "hoverlabel": {
           "align": "left"
          },
          "hovermode": "closest",
          "mapbox": {
           "style": "light"
          },
          "paper_bgcolor": "white",
          "plot_bgcolor": "#E5ECF6",
          "polar": {
           "angularaxis": {
            "gridcolor": "white",
            "linecolor": "white",
            "ticks": ""
           },
           "bgcolor": "#E5ECF6",
           "radialaxis": {
            "gridcolor": "white",
            "linecolor": "white",
            "ticks": ""
           }
          },
          "scene": {
           "xaxis": {
            "backgroundcolor": "#E5ECF6",
            "gridcolor": "white",
            "gridwidth": 2,
            "linecolor": "white",
            "showbackground": true,
            "ticks": "",
            "zerolinecolor": "white"
           },
           "yaxis": {
            "backgroundcolor": "#E5ECF6",
            "gridcolor": "white",
            "gridwidth": 2,
            "linecolor": "white",
            "showbackground": true,
            "ticks": "",
            "zerolinecolor": "white"
           },
           "zaxis": {
            "backgroundcolor": "#E5ECF6",
            "gridcolor": "white",
            "gridwidth": 2,
            "linecolor": "white",
            "showbackground": true,
            "ticks": "",
            "zerolinecolor": "white"
           }
          },
          "shapedefaults": {
           "line": {
            "color": "#2a3f5f"
           }
          },
          "ternary": {
           "aaxis": {
            "gridcolor": "white",
            "linecolor": "white",
            "ticks": ""
           },
           "baxis": {
            "gridcolor": "white",
            "linecolor": "white",
            "ticks": ""
           },
           "bgcolor": "#E5ECF6",
           "caxis": {
            "gridcolor": "white",
            "linecolor": "white",
            "ticks": ""
           }
          },
          "title": {
           "x": 0.05
          },
          "xaxis": {
           "automargin": true,
           "gridcolor": "white",
           "linecolor": "white",
           "ticks": "",
           "title": {
            "standoff": 15
           },
           "zerolinecolor": "white",
           "zerolinewidth": 2
          },
          "yaxis": {
           "automargin": true,
           "gridcolor": "white",
           "linecolor": "white",
           "ticks": "",
           "title": {
            "standoff": 15
           },
           "zerolinecolor": "white",
           "zerolinewidth": 2
          }
         }
        },
        "updatemenus": [
         {
          "buttons": [
           {
            "args": [
             null,
             {
              "frame": {
               "duration": 2000,
               "redraw": false
              },
              "fromcurrent": true,
              "mode": "immediate",
              "transition": {
               "duration": 500,
               "easing": "linear"
              }
             }
            ],
            "label": "&#9654;",
            "method": "animate"
           },
           {
            "args": [
             [
              null
             ],
             {
              "frame": {
               "duration": 0,
               "redraw": false
              },
              "fromcurrent": true,
              "mode": "immediate",
              "transition": {
               "duration": 0,
               "easing": "linear"
              }
             }
            ],
            "label": "&#9724;",
            "method": "animate"
           }
          ],
          "direction": "left",
          "pad": {
           "r": 10,
           "t": 70
          },
          "showactive": false,
          "type": "buttons",
          "x": 0.1,
          "xanchor": "right",
          "y": 0,
          "yanchor": "top"
         }
        ],
        "xaxis": {
         "anchor": "y",
         "domain": [
          0,
          1
         ],
         "title": {
          "text": "new_deaths"
         },
         "type": "log"
        },
        "yaxis": {
         "anchor": "x",
         "domain": [
          0,
          1
         ],
         "title": {
          "text": "new_cases"
         }
        }
       }
      },
      "text/html": [
       "<div>\n",
       "        \n",
       "        \n",
       "            <div id=\"989cd909-0962-41d0-8594-713ffd0405fe\" class=\"plotly-graph-div\" style=\"height:525px; width:100%;\"></div>\n",
       "            <script type=\"text/javascript\">\n",
       "                require([\"plotly\"], function(Plotly) {\n",
       "                    window.PLOTLYENV=window.PLOTLYENV || {};\n",
       "                    \n",
       "                if (document.getElementById(\"989cd909-0962-41d0-8594-713ffd0405fe\")) {\n",
       "                    Plotly.newPlot(\n",
       "                        '989cd909-0962-41d0-8594-713ffd0405fe',\n",
       "                        [{\"hovertemplate\": \"<b>%{hovertext}</b><br><br>location=Denmark<br>year_month=2020-04<br>new_deaths=%{x}<br>new_cases=%{marker.size}<extra></extra>\", \"hovertext\": [\"Denmark\"], \"ids\": [\"Denmark\"], \"legendgroup\": \"Denmark\", \"marker\": {\"color\": \"#636efa\", \"size\": [6431.0], \"sizemode\": \"area\", \"sizeref\": 28.29222222222222, \"symbol\": \"circle\"}, \"mode\": \"markers\", \"name\": \"Denmark\", \"orientation\": \"v\", \"showlegend\": true, \"type\": \"scatter\", \"x\": [366.0], \"xaxis\": \"x\", \"y\": [6431.0], \"yaxis\": \"y\"}, {\"hovertemplate\": \"<b>%{hovertext}</b><br><br>location=Germany<br>year_month=2020-04<br>new_deaths=%{x}<br>new_cases=%{marker.size}<extra></extra>\", \"hovertext\": [\"Germany\"], \"ids\": [\"Germany\"], \"legendgroup\": \"Germany\", \"marker\": {\"color\": \"#EF553B\", \"size\": [97206.0], \"sizemode\": \"area\", \"sizeref\": 28.29222222222222, \"symbol\": \"circle\"}, \"mode\": \"markers\", \"name\": \"Germany\", \"orientation\": \"v\", \"showlegend\": true, \"type\": \"scatter\", \"x\": [5705.0], \"xaxis\": \"x\", \"y\": [97206.0], \"yaxis\": \"y\"}, {\"hovertemplate\": \"<b>%{hovertext}</b><br><br>location=Iceland<br>year_month=2020-04<br>new_deaths=%{x}<br>new_cases=%{marker.size}<extra></extra>\", \"hovertext\": [\"Iceland\"], \"ids\": [\"Iceland\"], \"legendgroup\": \"Iceland\", \"marker\": {\"color\": \"#00cc96\", \"size\": [711.0], \"sizemode\": \"area\", \"sizeref\": 28.29222222222222, \"symbol\": \"circle\"}, \"mode\": \"markers\", \"name\": \"Iceland\", \"orientation\": \"v\", \"showlegend\": true, \"type\": \"scatter\", \"x\": [8.0], \"xaxis\": \"x\", \"y\": [711.0], \"yaxis\": \"y\"}, {\"hovertemplate\": \"<b>%{hovertext}</b><br><br>location=Italy<br>year_month=2020-04<br>new_deaths=%{x}<br>new_cases=%{marker.size}<extra></extra>\", \"hovertext\": [\"Italy\"], \"ids\": [\"Italy\"], \"legendgroup\": \"Italy\", \"marker\": {\"color\": \"#ab63fa\", \"size\": [101852.0], \"sizemode\": \"area\", \"sizeref\": 28.29222222222222, \"symbol\": \"circle\"}, \"mode\": \"markers\", \"name\": \"Italy\", \"orientation\": \"v\", \"showlegend\": true, \"type\": \"scatter\", \"x\": [16091.0], \"xaxis\": \"x\", \"y\": [101852.0], \"yaxis\": \"y\"}],\n",
       "                        {\"legend\": {\"itemsizing\": \"constant\", \"title\": {\"text\": \"location\"}, \"tracegroupgap\": 0}, \"margin\": {\"t\": 60}, \"sliders\": [{\"active\": 0, \"currentvalue\": {\"prefix\": \"year_month=\"}, \"len\": 0.9, \"pad\": {\"b\": 10, \"t\": 60}, \"steps\": [{\"args\": [[\"2020-04\"], {\"frame\": {\"duration\": 0, \"redraw\": false}, \"fromcurrent\": true, \"mode\": \"immediate\", \"transition\": {\"duration\": 0, \"easing\": \"linear\"}}], \"label\": \"2020-04\", \"method\": \"animate\"}, {\"args\": [[\"2020-05\"], {\"frame\": {\"duration\": 0, \"redraw\": false}, \"fromcurrent\": true, \"mode\": \"immediate\", \"transition\": {\"duration\": 0, \"easing\": \"linear\"}}], \"label\": \"2020-05\", \"method\": \"animate\"}, {\"args\": [[\"2020-06\"], {\"frame\": {\"duration\": 0, \"redraw\": false}, \"fromcurrent\": true, \"mode\": \"immediate\", \"transition\": {\"duration\": 0, \"easing\": \"linear\"}}], \"label\": \"2020-06\", \"method\": \"animate\"}, {\"args\": [[\"2020-07\"], {\"frame\": {\"duration\": 0, \"redraw\": false}, \"fromcurrent\": true, \"mode\": \"immediate\", \"transition\": {\"duration\": 0, \"easing\": \"linear\"}}], \"label\": \"2020-07\", \"method\": \"animate\"}, {\"args\": [[\"2020-08\"], {\"frame\": {\"duration\": 0, \"redraw\": false}, \"fromcurrent\": true, \"mode\": \"immediate\", \"transition\": {\"duration\": 0, \"easing\": \"linear\"}}], \"label\": \"2020-08\", \"method\": \"animate\"}, {\"args\": [[\"2020-09\"], {\"frame\": {\"duration\": 0, \"redraw\": false}, \"fromcurrent\": true, \"mode\": \"immediate\", \"transition\": {\"duration\": 0, \"easing\": \"linear\"}}], \"label\": \"2020-09\", \"method\": \"animate\"}], \"x\": 0.1, \"xanchor\": \"left\", \"y\": 0, \"yanchor\": \"top\"}], \"template\": {\"data\": {\"bar\": [{\"error_x\": {\"color\": \"#2a3f5f\"}, \"error_y\": {\"color\": \"#2a3f5f\"}, \"marker\": {\"line\": {\"color\": \"#E5ECF6\", \"width\": 0.5}}, \"type\": \"bar\"}], \"barpolar\": [{\"marker\": {\"line\": {\"color\": \"#E5ECF6\", \"width\": 0.5}}, \"type\": \"barpolar\"}], \"carpet\": [{\"aaxis\": {\"endlinecolor\": \"#2a3f5f\", \"gridcolor\": \"white\", \"linecolor\": \"white\", \"minorgridcolor\": \"white\", \"startlinecolor\": \"#2a3f5f\"}, \"baxis\": {\"endlinecolor\": \"#2a3f5f\", \"gridcolor\": \"white\", \"linecolor\": \"white\", \"minorgridcolor\": \"white\", \"startlinecolor\": \"#2a3f5f\"}, \"type\": \"carpet\"}], \"choropleth\": [{\"colorbar\": {\"outlinewidth\": 0, \"ticks\": \"\"}, \"type\": \"choropleth\"}], \"contour\": [{\"colorbar\": {\"outlinewidth\": 0, \"ticks\": \"\"}, \"colorscale\": [[0.0, \"#0d0887\"], [0.1111111111111111, \"#46039f\"], [0.2222222222222222, \"#7201a8\"], [0.3333333333333333, \"#9c179e\"], [0.4444444444444444, \"#bd3786\"], [0.5555555555555556, \"#d8576b\"], [0.6666666666666666, \"#ed7953\"], [0.7777777777777778, \"#fb9f3a\"], [0.8888888888888888, \"#fdca26\"], [1.0, \"#f0f921\"]], \"type\": \"contour\"}], \"contourcarpet\": [{\"colorbar\": {\"outlinewidth\": 0, \"ticks\": \"\"}, \"type\": \"contourcarpet\"}], \"heatmap\": [{\"colorbar\": {\"outlinewidth\": 0, \"ticks\": \"\"}, \"colorscale\": [[0.0, \"#0d0887\"], [0.1111111111111111, \"#46039f\"], [0.2222222222222222, \"#7201a8\"], [0.3333333333333333, \"#9c179e\"], [0.4444444444444444, \"#bd3786\"], [0.5555555555555556, \"#d8576b\"], [0.6666666666666666, \"#ed7953\"], [0.7777777777777778, \"#fb9f3a\"], [0.8888888888888888, \"#fdca26\"], [1.0, \"#f0f921\"]], \"type\": \"heatmap\"}], \"heatmapgl\": [{\"colorbar\": {\"outlinewidth\": 0, \"ticks\": \"\"}, \"colorscale\": [[0.0, \"#0d0887\"], [0.1111111111111111, \"#46039f\"], [0.2222222222222222, \"#7201a8\"], [0.3333333333333333, \"#9c179e\"], [0.4444444444444444, \"#bd3786\"], [0.5555555555555556, \"#d8576b\"], [0.6666666666666666, \"#ed7953\"], [0.7777777777777778, \"#fb9f3a\"], [0.8888888888888888, \"#fdca26\"], [1.0, \"#f0f921\"]], \"type\": \"heatmapgl\"}], \"histogram\": [{\"marker\": {\"colorbar\": {\"outlinewidth\": 0, \"ticks\": \"\"}}, \"type\": \"histogram\"}], \"histogram2d\": [{\"colorbar\": {\"outlinewidth\": 0, \"ticks\": \"\"}, \"colorscale\": [[0.0, \"#0d0887\"], [0.1111111111111111, \"#46039f\"], [0.2222222222222222, \"#7201a8\"], [0.3333333333333333, \"#9c179e\"], [0.4444444444444444, \"#bd3786\"], [0.5555555555555556, \"#d8576b\"], [0.6666666666666666, \"#ed7953\"], [0.7777777777777778, \"#fb9f3a\"], [0.8888888888888888, \"#fdca26\"], [1.0, \"#f0f921\"]], \"type\": \"histogram2d\"}], \"histogram2dcontour\": [{\"colorbar\": {\"outlinewidth\": 0, \"ticks\": \"\"}, \"colorscale\": [[0.0, \"#0d0887\"], [0.1111111111111111, \"#46039f\"], [0.2222222222222222, \"#7201a8\"], [0.3333333333333333, \"#9c179e\"], [0.4444444444444444, \"#bd3786\"], [0.5555555555555556, \"#d8576b\"], [0.6666666666666666, \"#ed7953\"], [0.7777777777777778, \"#fb9f3a\"], [0.8888888888888888, \"#fdca26\"], [1.0, \"#f0f921\"]], \"type\": \"histogram2dcontour\"}], \"mesh3d\": [{\"colorbar\": {\"outlinewidth\": 0, \"ticks\": \"\"}, \"type\": \"mesh3d\"}], \"parcoords\": [{\"line\": {\"colorbar\": {\"outlinewidth\": 0, \"ticks\": \"\"}}, \"type\": \"parcoords\"}], \"pie\": [{\"automargin\": true, \"type\": \"pie\"}], \"scatter\": [{\"marker\": {\"colorbar\": {\"outlinewidth\": 0, \"ticks\": \"\"}}, \"type\": \"scatter\"}], \"scatter3d\": [{\"line\": {\"colorbar\": {\"outlinewidth\": 0, \"ticks\": \"\"}}, \"marker\": {\"colorbar\": {\"outlinewidth\": 0, \"ticks\": \"\"}}, \"type\": \"scatter3d\"}], \"scattercarpet\": [{\"marker\": {\"colorbar\": {\"outlinewidth\": 0, \"ticks\": \"\"}}, \"type\": \"scattercarpet\"}], \"scattergeo\": [{\"marker\": {\"colorbar\": {\"outlinewidth\": 0, \"ticks\": \"\"}}, \"type\": \"scattergeo\"}], \"scattergl\": [{\"marker\": {\"colorbar\": {\"outlinewidth\": 0, \"ticks\": \"\"}}, \"type\": \"scattergl\"}], \"scattermapbox\": [{\"marker\": {\"colorbar\": {\"outlinewidth\": 0, \"ticks\": \"\"}}, \"type\": \"scattermapbox\"}], \"scatterpolar\": [{\"marker\": {\"colorbar\": {\"outlinewidth\": 0, \"ticks\": \"\"}}, \"type\": \"scatterpolar\"}], \"scatterpolargl\": [{\"marker\": {\"colorbar\": {\"outlinewidth\": 0, \"ticks\": \"\"}}, \"type\": \"scatterpolargl\"}], \"scatterternary\": [{\"marker\": {\"colorbar\": {\"outlinewidth\": 0, \"ticks\": \"\"}}, \"type\": \"scatterternary\"}], \"surface\": [{\"colorbar\": {\"outlinewidth\": 0, \"ticks\": \"\"}, \"colorscale\": [[0.0, \"#0d0887\"], [0.1111111111111111, \"#46039f\"], [0.2222222222222222, \"#7201a8\"], [0.3333333333333333, \"#9c179e\"], [0.4444444444444444, \"#bd3786\"], [0.5555555555555556, \"#d8576b\"], [0.6666666666666666, \"#ed7953\"], [0.7777777777777778, \"#fb9f3a\"], [0.8888888888888888, \"#fdca26\"], [1.0, \"#f0f921\"]], \"type\": \"surface\"}], \"table\": [{\"cells\": {\"fill\": {\"color\": \"#EBF0F8\"}, \"line\": {\"color\": \"white\"}}, \"header\": {\"fill\": {\"color\": \"#C8D4E3\"}, \"line\": {\"color\": \"white\"}}, \"type\": \"table\"}]}, \"layout\": {\"annotationdefaults\": {\"arrowcolor\": \"#2a3f5f\", \"arrowhead\": 0, \"arrowwidth\": 1}, \"coloraxis\": {\"colorbar\": {\"outlinewidth\": 0, \"ticks\": \"\"}}, \"colorscale\": {\"diverging\": [[0, \"#8e0152\"], [0.1, \"#c51b7d\"], [0.2, \"#de77ae\"], [0.3, \"#f1b6da\"], [0.4, \"#fde0ef\"], [0.5, \"#f7f7f7\"], [0.6, \"#e6f5d0\"], [0.7, \"#b8e186\"], [0.8, \"#7fbc41\"], [0.9, \"#4d9221\"], [1, \"#276419\"]], \"sequential\": [[0.0, \"#0d0887\"], [0.1111111111111111, \"#46039f\"], [0.2222222222222222, \"#7201a8\"], [0.3333333333333333, \"#9c179e\"], [0.4444444444444444, \"#bd3786\"], [0.5555555555555556, \"#d8576b\"], [0.6666666666666666, \"#ed7953\"], [0.7777777777777778, \"#fb9f3a\"], [0.8888888888888888, \"#fdca26\"], [1.0, \"#f0f921\"]], \"sequentialminus\": [[0.0, \"#0d0887\"], [0.1111111111111111, \"#46039f\"], [0.2222222222222222, \"#7201a8\"], [0.3333333333333333, \"#9c179e\"], [0.4444444444444444, \"#bd3786\"], [0.5555555555555556, \"#d8576b\"], [0.6666666666666666, \"#ed7953\"], [0.7777777777777778, \"#fb9f3a\"], [0.8888888888888888, \"#fdca26\"], [1.0, \"#f0f921\"]]}, \"colorway\": [\"#636efa\", \"#EF553B\", \"#00cc96\", \"#ab63fa\", \"#FFA15A\", \"#19d3f3\", \"#FF6692\", \"#B6E880\", \"#FF97FF\", \"#FECB52\"], \"font\": {\"color\": \"#2a3f5f\"}, \"geo\": {\"bgcolor\": \"white\", \"lakecolor\": \"white\", \"landcolor\": \"#E5ECF6\", \"showlakes\": true, \"showland\": true, \"subunitcolor\": \"white\"}, \"hoverlabel\": {\"align\": \"left\"}, \"hovermode\": \"closest\", \"mapbox\": {\"style\": \"light\"}, \"paper_bgcolor\": \"white\", \"plot_bgcolor\": \"#E5ECF6\", \"polar\": {\"angularaxis\": {\"gridcolor\": \"white\", \"linecolor\": \"white\", \"ticks\": \"\"}, \"bgcolor\": \"#E5ECF6\", \"radialaxis\": {\"gridcolor\": \"white\", \"linecolor\": \"white\", \"ticks\": \"\"}}, \"scene\": {\"xaxis\": {\"backgroundcolor\": \"#E5ECF6\", \"gridcolor\": \"white\", \"gridwidth\": 2, \"linecolor\": \"white\", \"showbackground\": true, \"ticks\": \"\", \"zerolinecolor\": \"white\"}, \"yaxis\": {\"backgroundcolor\": \"#E5ECF6\", \"gridcolor\": \"white\", \"gridwidth\": 2, \"linecolor\": \"white\", \"showbackground\": true, \"ticks\": \"\", \"zerolinecolor\": \"white\"}, \"zaxis\": {\"backgroundcolor\": \"#E5ECF6\", \"gridcolor\": \"white\", \"gridwidth\": 2, \"linecolor\": \"white\", \"showbackground\": true, \"ticks\": \"\", \"zerolinecolor\": \"white\"}}, \"shapedefaults\": {\"line\": {\"color\": \"#2a3f5f\"}}, \"ternary\": {\"aaxis\": {\"gridcolor\": \"white\", \"linecolor\": \"white\", \"ticks\": \"\"}, \"baxis\": {\"gridcolor\": \"white\", \"linecolor\": \"white\", \"ticks\": \"\"}, \"bgcolor\": \"#E5ECF6\", \"caxis\": {\"gridcolor\": \"white\", \"linecolor\": \"white\", \"ticks\": \"\"}}, \"title\": {\"x\": 0.05}, \"xaxis\": {\"automargin\": true, \"gridcolor\": \"white\", \"linecolor\": \"white\", \"ticks\": \"\", \"title\": {\"standoff\": 15}, \"zerolinecolor\": \"white\", \"zerolinewidth\": 2}, \"yaxis\": {\"automargin\": true, \"gridcolor\": \"white\", \"linecolor\": \"white\", \"ticks\": \"\", \"title\": {\"standoff\": 15}, \"zerolinecolor\": \"white\", \"zerolinewidth\": 2}}}, \"updatemenus\": [{\"buttons\": [{\"args\": [null, {\"frame\": {\"duration\": 2000, \"redraw\": false}, \"fromcurrent\": true, \"mode\": \"immediate\", \"transition\": {\"duration\": 500, \"easing\": \"linear\"}}], \"label\": \"&#9654;\", \"method\": \"animate\"}, {\"args\": [[null], {\"frame\": {\"duration\": 0, \"redraw\": false}, \"fromcurrent\": true, \"mode\": \"immediate\", \"transition\": {\"duration\": 0, \"easing\": \"linear\"}}], \"label\": \"&#9724;\", \"method\": \"animate\"}], \"direction\": \"left\", \"pad\": {\"r\": 10, \"t\": 70}, \"showactive\": false, \"type\": \"buttons\", \"x\": 0.1, \"xanchor\": \"right\", \"y\": 0, \"yanchor\": \"top\"}], \"xaxis\": {\"anchor\": \"y\", \"domain\": [0.0, 1.0], \"title\": {\"text\": \"new_deaths\"}, \"type\": \"log\"}, \"yaxis\": {\"anchor\": \"x\", \"domain\": [0.0, 1.0], \"title\": {\"text\": \"new_cases\"}}},\n",
       "                        {\"responsive\": true}\n",
       "                    ).then(function(){\n",
       "                            Plotly.addFrames('989cd909-0962-41d0-8594-713ffd0405fe', [{\"data\": [{\"hovertemplate\": \"<b>%{hovertext}</b><br><br>location=Denmark<br>year_month=2020-04<br>new_deaths=%{x}<br>new_cases=%{marker.size}<extra></extra>\", \"hovertext\": [\"Denmark\"], \"ids\": [\"Denmark\"], \"legendgroup\": \"Denmark\", \"marker\": {\"color\": \"#636efa\", \"size\": [6431.0], \"sizemode\": \"area\", \"sizeref\": 28.29222222222222, \"symbol\": \"circle\"}, \"mode\": \"markers\", \"name\": \"Denmark\", \"orientation\": \"v\", \"showlegend\": true, \"x\": [366.0], \"xaxis\": \"x\", \"y\": [6431.0], \"yaxis\": \"y\", \"type\": \"scatter\"}, {\"hovertemplate\": \"<b>%{hovertext}</b><br><br>location=Germany<br>year_month=2020-04<br>new_deaths=%{x}<br>new_cases=%{marker.size}<extra></extra>\", \"hovertext\": [\"Germany\"], \"ids\": [\"Germany\"], \"legendgroup\": \"Germany\", \"marker\": {\"color\": \"#EF553B\", \"size\": [97206.0], \"sizemode\": \"area\", \"sizeref\": 28.29222222222222, \"symbol\": \"circle\"}, \"mode\": \"markers\", \"name\": \"Germany\", \"orientation\": \"v\", \"showlegend\": true, \"x\": [5705.0], \"xaxis\": \"x\", \"y\": [97206.0], \"yaxis\": \"y\", \"type\": \"scatter\"}, {\"hovertemplate\": \"<b>%{hovertext}</b><br><br>location=Iceland<br>year_month=2020-04<br>new_deaths=%{x}<br>new_cases=%{marker.size}<extra></extra>\", \"hovertext\": [\"Iceland\"], \"ids\": [\"Iceland\"], \"legendgroup\": \"Iceland\", \"marker\": {\"color\": \"#00cc96\", \"size\": [711.0], \"sizemode\": \"area\", \"sizeref\": 28.29222222222222, \"symbol\": \"circle\"}, \"mode\": \"markers\", \"name\": \"Iceland\", \"orientation\": \"v\", \"showlegend\": true, \"x\": [8.0], \"xaxis\": \"x\", \"y\": [711.0], \"yaxis\": \"y\", \"type\": \"scatter\"}, {\"hovertemplate\": \"<b>%{hovertext}</b><br><br>location=Italy<br>year_month=2020-04<br>new_deaths=%{x}<br>new_cases=%{marker.size}<extra></extra>\", \"hovertext\": [\"Italy\"], \"ids\": [\"Italy\"], \"legendgroup\": \"Italy\", \"marker\": {\"color\": \"#ab63fa\", \"size\": [101852.0], \"sizemode\": \"area\", \"sizeref\": 28.29222222222222, \"symbol\": \"circle\"}, \"mode\": \"markers\", \"name\": \"Italy\", \"orientation\": \"v\", \"showlegend\": true, \"x\": [16091.0], \"xaxis\": \"x\", \"y\": [101852.0], \"yaxis\": \"y\", \"type\": \"scatter\"}], \"name\": \"2020-04\"}, {\"data\": [{\"hovertemplate\": \"<b>%{hovertext}</b><br><br>location=Denmark<br>year_month=2020-05<br>new_deaths=%{x}<br>new_cases=%{marker.size}<extra></extra>\", \"hovertext\": [\"Denmark\"], \"ids\": [\"Denmark\"], \"legendgroup\": \"Denmark\", \"marker\": {\"color\": \"#636efa\", \"size\": [2625.0], \"sizemode\": \"area\", \"sizeref\": 28.29222222222222, \"symbol\": \"circle\"}, \"mode\": \"markers\", \"name\": \"Denmark\", \"orientation\": \"v\", \"showlegend\": true, \"x\": [128.0], \"xaxis\": \"x\", \"y\": [2625.0], \"yaxis\": \"y\", \"type\": \"scatter\"}, {\"hovertemplate\": \"<b>%{hovertext}</b><br><br>location=Germany<br>year_month=2020-05<br>new_deaths=%{x}<br>new_cases=%{marker.size}<extra></extra>\", \"hovertext\": [\"Germany\"], \"ids\": [\"Germany\"], \"legendgroup\": \"Germany\", \"marker\": {\"color\": \"#EF553B\", \"size\": [22363.0], \"sizemode\": \"area\", \"sizeref\": 28.29222222222222, \"symbol\": \"circle\"}, \"mode\": \"markers\", \"name\": \"Germany\", \"orientation\": \"v\", \"showlegend\": true, \"x\": [2212.0], \"xaxis\": \"x\", \"y\": [22363.0], \"yaxis\": \"y\", \"type\": \"scatter\"}, {\"hovertemplate\": \"<b>%{hovertext}</b><br><br>location=Iceland<br>year_month=2020-05<br>new_deaths=%{x}<br>new_cases=%{marker.size}<extra></extra>\", \"hovertext\": [\"Iceland\"], \"ids\": [\"Iceland\"], \"legendgroup\": \"Iceland\", \"marker\": {\"color\": \"#00cc96\", \"size\": [9.0], \"sizemode\": \"area\", \"sizeref\": 28.29222222222222, \"symbol\": \"circle\"}, \"mode\": \"markers\", \"name\": \"Iceland\", \"orientation\": \"v\", \"showlegend\": true, \"x\": [0.0], \"xaxis\": \"x\", \"y\": [9.0], \"yaxis\": \"y\", \"type\": \"scatter\"}, {\"hovertemplate\": \"<b>%{hovertext}</b><br><br>location=Italy<br>year_month=2020-05<br>new_deaths=%{x}<br>new_cases=%{marker.size}<extra></extra>\", \"hovertext\": [\"Italy\"], \"ids\": [\"Italy\"], \"legendgroup\": \"Italy\", \"marker\": {\"color\": \"#ab63fa\", \"size\": [29073.0], \"sizemode\": \"area\", \"sizeref\": 28.29222222222222, \"symbol\": \"circle\"}, \"mode\": \"markers\", \"name\": \"Italy\", \"orientation\": \"v\", \"showlegend\": true, \"x\": [5658.0], \"xaxis\": \"x\", \"y\": [29073.0], \"yaxis\": \"y\", \"type\": \"scatter\"}], \"name\": \"2020-05\"}, {\"data\": [{\"hovertemplate\": \"<b>%{hovertext}</b><br><br>location=Denmark<br>year_month=2020-06<br>new_deaths=%{x}<br>new_cases=%{marker.size}<extra></extra>\", \"hovertext\": [\"Denmark\"], \"ids\": [\"Denmark\"], \"legendgroup\": \"Denmark\", \"marker\": {\"color\": \"#636efa\", \"size\": [1118.0], \"sizemode\": \"area\", \"sizeref\": 28.29222222222222, \"symbol\": \"circle\"}, \"mode\": \"markers\", \"name\": \"Denmark\", \"orientation\": \"v\", \"showlegend\": true, \"x\": [34.0], \"xaxis\": \"x\", \"y\": [1118.0], \"yaxis\": \"y\", \"type\": \"scatter\"}, {\"hovertemplate\": \"<b>%{hovertext}</b><br><br>location=Germany<br>year_month=2020-06<br>new_deaths=%{x}<br>new_cases=%{marker.size}<extra></extra>\", \"hovertext\": [\"Germany\"], \"ids\": [\"Germany\"], \"legendgroup\": \"Germany\", \"marker\": {\"color\": \"#EF553B\", \"size\": [12777.0], \"sizemode\": \"area\", \"sizeref\": 28.29222222222222, \"symbol\": \"circle\"}, \"mode\": \"markers\", \"name\": \"Germany\", \"orientation\": \"v\", \"showlegend\": true, \"x\": [473.0], \"xaxis\": \"x\", \"y\": [12777.0], \"yaxis\": \"y\", \"type\": \"scatter\"}, {\"hovertemplate\": \"<b>%{hovertext}</b><br><br>location=Iceland<br>year_month=2020-06<br>new_deaths=%{x}<br>new_cases=%{marker.size}<extra></extra>\", \"hovertext\": [\"Iceland\"], \"ids\": [\"Iceland\"], \"legendgroup\": \"Iceland\", \"marker\": {\"color\": \"#00cc96\", \"size\": [16.0], \"sizemode\": \"area\", \"sizeref\": 28.29222222222222, \"symbol\": \"circle\"}, \"mode\": \"markers\", \"name\": \"Iceland\", \"orientation\": \"v\", \"showlegend\": true, \"x\": [0.0], \"xaxis\": \"x\", \"y\": [16.0], \"yaxis\": \"y\", \"type\": \"scatter\"}, {\"hovertemplate\": \"<b>%{hovertext}</b><br><br>location=Italy<br>year_month=2020-06<br>new_deaths=%{x}<br>new_cases=%{marker.size}<extra></extra>\", \"hovertext\": [\"Italy\"], \"ids\": [\"Italy\"], \"legendgroup\": \"Italy\", \"marker\": {\"color\": \"#ab63fa\", \"size\": [7772.0], \"sizemode\": \"area\", \"sizeref\": 28.29222222222222, \"symbol\": \"circle\"}, \"mode\": \"markers\", \"name\": \"Italy\", \"orientation\": \"v\", \"showlegend\": true, \"x\": [1404.0], \"xaxis\": \"x\", \"y\": [7772.0], \"yaxis\": \"y\", \"type\": \"scatter\"}], \"name\": \"2020-06\"}, {\"data\": [{\"hovertemplate\": \"<b>%{hovertext}</b><br><br>location=Denmark<br>year_month=2020-07<br>new_deaths=%{x}<br>new_cases=%{marker.size}<extra></extra>\", \"hovertext\": [\"Denmark\"], \"ids\": [\"Denmark\"], \"legendgroup\": \"Denmark\", \"marker\": {\"color\": \"#636efa\", \"size\": [974.0], \"sizemode\": \"area\", \"sizeref\": 28.29222222222222, \"symbol\": \"circle\"}, \"mode\": \"markers\", \"name\": \"Denmark\", \"orientation\": \"v\", \"showlegend\": true, \"x\": [10.0], \"xaxis\": \"x\", \"y\": [974.0], \"yaxis\": \"y\", \"type\": \"scatter\"}, {\"hovertemplate\": \"<b>%{hovertext}</b><br><br>location=Germany<br>year_month=2020-07<br>new_deaths=%{x}<br>new_cases=%{marker.size}<extra></extra>\", \"hovertext\": [\"Germany\"], \"ids\": [\"Germany\"], \"legendgroup\": \"Germany\", \"marker\": {\"color\": \"#EF553B\", \"size\": [14439.0], \"sizemode\": \"area\", \"sizeref\": 28.29222222222222, \"symbol\": \"circle\"}, \"mode\": \"markers\", \"name\": \"Germany\", \"orientation\": \"v\", \"showlegend\": true, \"x\": [168.0], \"xaxis\": \"x\", \"y\": [14439.0], \"yaxis\": \"y\", \"type\": \"scatter\"}, {\"hovertemplate\": \"<b>%{hovertext}</b><br><br>location=Iceland<br>year_month=2020-07<br>new_deaths=%{x}<br>new_cases=%{marker.size}<extra></extra>\", \"hovertext\": [\"Iceland\"], \"ids\": [\"Iceland\"], \"legendgroup\": \"Iceland\", \"marker\": {\"color\": \"#00cc96\", \"size\": [50.0], \"sizemode\": \"area\", \"sizeref\": 28.29222222222222, \"symbol\": \"circle\"}, \"mode\": \"markers\", \"name\": \"Iceland\", \"orientation\": \"v\", \"showlegend\": true, \"x\": [0.0], \"xaxis\": \"x\", \"y\": [50.0], \"yaxis\": \"y\", \"type\": \"scatter\"}, {\"hovertemplate\": \"<b>%{hovertext}</b><br><br>location=Italy<br>year_month=2020-07<br>new_deaths=%{x}<br>new_cases=%{marker.size}<extra></extra>\", \"hovertext\": [\"Italy\"], \"ids\": [\"Italy\"], \"legendgroup\": \"Italy\", \"marker\": {\"color\": \"#ab63fa\", \"size\": [6722.0], \"sizemode\": \"area\", \"sizeref\": 28.29222222222222, \"symbol\": \"circle\"}, \"mode\": \"markers\", \"name\": \"Italy\", \"orientation\": \"v\", \"showlegend\": true, \"x\": [388.0], \"xaxis\": \"x\", \"y\": [6722.0], \"yaxis\": \"y\", \"type\": \"scatter\"}], \"name\": \"2020-07\"}, {\"data\": [{\"hovertemplate\": \"<b>%{hovertext}</b><br><br>location=Denmark<br>year_month=2020-08<br>new_deaths=%{x}<br>new_cases=%{marker.size}<extra></extra>\", \"hovertext\": [\"Denmark\"], \"ids\": [\"Denmark\"], \"legendgroup\": \"Denmark\", \"marker\": {\"color\": \"#636efa\", \"size\": [2975.0], \"sizemode\": \"area\", \"sizeref\": 28.29222222222222, \"symbol\": \"circle\"}, \"mode\": \"markers\", \"name\": \"Denmark\", \"orientation\": \"v\", \"showlegend\": true, \"x\": [9.0], \"xaxis\": \"x\", \"y\": [2975.0], \"yaxis\": \"y\", \"type\": \"scatter\"}, {\"hovertemplate\": \"<b>%{hovertext}</b><br><br>location=Germany<br>year_month=2020-08<br>new_deaths=%{x}<br>new_cases=%{marker.size}<extra></extra>\", \"hovertext\": [\"Germany\"], \"ids\": [\"Germany\"], \"legendgroup\": \"Germany\", \"marker\": {\"color\": \"#EF553B\", \"size\": [33683.0], \"sizemode\": \"area\", \"sizeref\": 28.29222222222222, \"symbol\": \"circle\"}, \"mode\": \"markers\", \"name\": \"Germany\", \"orientation\": \"v\", \"showlegend\": true, \"x\": [157.0], \"xaxis\": \"x\", \"y\": [33683.0], \"yaxis\": \"y\", \"type\": \"scatter\"}, {\"hovertemplate\": \"<b>%{hovertext}</b><br><br>location=Iceland<br>year_month=2020-08<br>new_deaths=%{x}<br>new_cases=%{marker.size}<extra></extra>\", \"hovertext\": [\"Iceland\"], \"ids\": [\"Iceland\"], \"legendgroup\": \"Iceland\", \"marker\": {\"color\": \"#00cc96\", \"size\": [233.0], \"sizemode\": \"area\", \"sizeref\": 28.29222222222222, \"symbol\": \"circle\"}, \"mode\": \"markers\", \"name\": \"Iceland\", \"orientation\": \"v\", \"showlegend\": true, \"x\": [0.0], \"xaxis\": \"x\", \"y\": [233.0], \"yaxis\": \"y\", \"type\": \"scatter\"}, {\"hovertemplate\": \"<b>%{hovertext}</b><br><br>location=Italy<br>year_month=2020-08<br>new_deaths=%{x}<br>new_cases=%{marker.size}<extra></extra>\", \"hovertext\": [\"Italy\"], \"ids\": [\"Italy\"], \"legendgroup\": \"Italy\", \"marker\": {\"color\": \"#ab63fa\", \"size\": [21060.0], \"sizemode\": \"area\", \"sizeref\": 28.29222222222222, \"symbol\": \"circle\"}, \"mode\": \"markers\", \"name\": \"Italy\", \"orientation\": \"v\", \"showlegend\": true, \"x\": [345.0], \"xaxis\": \"x\", \"y\": [21060.0], \"yaxis\": \"y\", \"type\": \"scatter\"}], \"name\": \"2020-08\"}, {\"data\": [{\"hovertemplate\": \"<b>%{hovertext}</b><br><br>location=Denmark<br>year_month=2020-09<br>new_deaths=%{x}<br>new_cases=%{marker.size}<extra></extra>\", \"hovertext\": [\"Denmark\"], \"ids\": [\"Denmark\"], \"legendgroup\": \"Denmark\", \"marker\": {\"color\": \"#636efa\", \"size\": [10764.0], \"sizemode\": \"area\", \"sizeref\": 28.29222222222222, \"symbol\": \"circle\"}, \"mode\": \"markers\", \"name\": \"Denmark\", \"orientation\": \"v\", \"showlegend\": true, \"x\": [26.0], \"xaxis\": \"x\", \"y\": [10764.0], \"yaxis\": \"y\", \"type\": \"scatter\"}, {\"hovertemplate\": \"<b>%{hovertext}</b><br><br>location=Germany<br>year_month=2020-09<br>new_deaths=%{x}<br>new_cases=%{marker.size}<extra></extra>\", \"hovertext\": [\"Germany\"], \"ids\": [\"Germany\"], \"legendgroup\": \"Germany\", \"marker\": {\"color\": \"#EF553B\", \"size\": [46838.0], \"sizemode\": \"area\", \"sizeref\": 28.29222222222222, \"symbol\": \"circle\"}, \"mode\": \"markers\", \"name\": \"Germany\", \"orientation\": \"v\", \"showlegend\": true, \"x\": [190.0], \"xaxis\": \"x\", \"y\": [46838.0], \"yaxis\": \"y\", \"type\": \"scatter\"}, {\"hovertemplate\": \"<b>%{hovertext}</b><br><br>location=Iceland<br>year_month=2020-09<br>new_deaths=%{x}<br>new_cases=%{marker.size}<extra></extra>\", \"hovertext\": [\"Iceland\"], \"ids\": [\"Iceland\"], \"legendgroup\": \"Iceland\", \"marker\": {\"color\": \"#00cc96\", \"size\": [590.0], \"sizemode\": \"area\", \"sizeref\": 28.29222222222222, \"symbol\": \"circle\"}, \"mode\": \"markers\", \"name\": \"Iceland\", \"orientation\": \"v\", \"showlegend\": true, \"x\": [0.0], \"xaxis\": \"x\", \"y\": [590.0], \"yaxis\": \"y\", \"type\": \"scatter\"}, {\"hovertemplate\": \"<b>%{hovertext}</b><br><br>location=Italy<br>year_month=2020-09<br>new_deaths=%{x}<br>new_cases=%{marker.size}<extra></extra>\", \"hovertext\": [\"Italy\"], \"ids\": [\"Italy\"], \"legendgroup\": \"Italy\", \"marker\": {\"color\": \"#ab63fa\", \"size\": [44793.0], \"sizemode\": \"area\", \"sizeref\": 28.29222222222222, \"symbol\": \"circle\"}, \"mode\": \"markers\", \"name\": \"Italy\", \"orientation\": \"v\", \"showlegend\": true, \"x\": [398.0], \"xaxis\": \"x\", \"y\": [44793.0], \"yaxis\": \"y\", \"type\": \"scatter\"}], \"name\": \"2020-09\"}]);\n",
       "                        }).then(function(){\n",
       "                            \n",
       "var gd = document.getElementById('989cd909-0962-41d0-8594-713ffd0405fe');\n",
       "var x = new MutationObserver(function (mutations, observer) {{\n",
       "        var display = window.getComputedStyle(gd).display;\n",
       "        if (!display || display === 'none') {{\n",
       "            console.log([gd, 'removed!']);\n",
       "            Plotly.purge(gd);\n",
       "            observer.disconnect();\n",
       "        }}\n",
       "}});\n",
       "\n",
       "// Listen for the removal of the full notebook cells\n",
       "var notebookContainer = gd.closest('#notebook-container');\n",
       "if (notebookContainer) {{\n",
       "    x.observe(notebookContainer, {childList: true});\n",
       "}}\n",
       "\n",
       "// Listen for the clearing of the current output cell\n",
       "var outputEl = gd.closest('.output');\n",
       "if (outputEl) {{\n",
       "    x.observe(outputEl, {childList: true});\n",
       "}}\n",
       "\n",
       "                        })\n",
       "                };\n",
       "                });\n",
       "            </script>\n",
       "        </div>"
      ]
     },
     "metadata": {},
     "output_type": "display_data"
    },
    {
     "name": "stdout",
     "output_type": "stream",
     "text": [
      "None\n"
     ]
    }
   ],
   "source": [
    "fig = px.scatter(\n",
    "                 df_grouped[df_grouped['location'].isin(['Denmark','Iceland','Italy','Germany'])], \n",
    "                 y=\"new_cases\",\n",
    "                 x=\"new_deaths\",\n",
    "                 animation_frame=\"year_month\",\n",
    "                 animation_group=\"location\",\n",
    "                 size=\"new_cases\",\n",
    "                 color=\"location\",\n",
    "                 hover_name=\"location\",\n",
    "                 log_x=True, \n",
    "                 size_max=60\n",
    "                )\n",
    "fig.layout.updatemenus[0].buttons[0].args[1][\"frame\"][\"duration\"] = 2000\n",
    "print(fig.show())"
   ]
  },
  {
   "cell_type": "code",
   "execution_count": null,
   "metadata": {},
   "outputs": [],
   "source": []
  }
 ],
 "metadata": {
  "kernelspec": {
   "display_name": "Python 3",
   "language": "python",
   "name": "python3"
  },
  "language_info": {
   "codemirror_mode": {
    "name": "ipython",
    "version": 3
   },
   "file_extension": ".py",
   "mimetype": "text/x-python",
   "name": "python",
   "nbconvert_exporter": "python",
   "pygments_lexer": "ipython3",
   "version": "3.8.6"
  }
 },
 "nbformat": 4,
 "nbformat_minor": 4
}
