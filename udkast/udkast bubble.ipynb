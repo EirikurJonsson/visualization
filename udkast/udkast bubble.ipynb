{
 "cells": [
  {
   "cell_type": "code",
   "execution_count": null,
   "metadata": {},
   "outputs": [],
   "source": [
    "#inder"
   ]
  },
  {
   "cell_type": "code",
   "execution_count": 4,
   "metadata": {},
   "outputs": [
    {
     "ename": "NameError",
     "evalue": "name 'gapminder_indicators' is not defined",
     "output_type": "error",
     "traceback": [
      "\u001b[1;31m---------------------------------------------------------------------------\u001b[0m",
      "\u001b[1;31mNameError\u001b[0m                                 Traceback (most recent call last)",
      "\u001b[1;32m<ipython-input-4-2a354b856c3e>\u001b[0m in \u001b[0;36m<module>\u001b[1;34m\u001b[0m\n\u001b[0;32m      1\u001b[0m \u001b[1;32mfrom\u001b[0m \u001b[0mbubbly\u001b[0m\u001b[1;33m.\u001b[0m\u001b[0mbubbly\u001b[0m \u001b[1;32mimport\u001b[0m \u001b[0mbubbleplot\u001b[0m\u001b[1;33m\u001b[0m\u001b[1;33m\u001b[0m\u001b[0m\n\u001b[0;32m      2\u001b[0m \u001b[1;33m\u001b[0m\u001b[0m\n\u001b[1;32m----> 3\u001b[1;33m figure = bubbleplot(dataset=gapminder_indicators, x_column='gdpPercap', y_column='lifeExp', \n\u001b[0m\u001b[0;32m      4\u001b[0m     \u001b[0mbubble_column\u001b[0m\u001b[1;33m=\u001b[0m\u001b[1;34m'country'\u001b[0m\u001b[1;33m,\u001b[0m \u001b[0mtime_column\u001b[0m\u001b[1;33m=\u001b[0m\u001b[1;34m'year'\u001b[0m\u001b[1;33m,\u001b[0m \u001b[0msize_column\u001b[0m\u001b[1;33m=\u001b[0m\u001b[1;34m'pop'\u001b[0m\u001b[1;33m,\u001b[0m \u001b[0mcolor_column\u001b[0m\u001b[1;33m=\u001b[0m\u001b[1;34m'continent'\u001b[0m\u001b[1;33m,\u001b[0m\u001b[1;33m\u001b[0m\u001b[1;33m\u001b[0m\u001b[0m\n\u001b[0;32m      5\u001b[0m     \u001b[0mx_title\u001b[0m\u001b[1;33m=\u001b[0m\u001b[1;34m\"GDP per Capita\"\u001b[0m\u001b[1;33m,\u001b[0m \u001b[0my_title\u001b[0m\u001b[1;33m=\u001b[0m\u001b[1;34m\"Life Expectancy\"\u001b[0m\u001b[1;33m,\u001b[0m \u001b[0mtitle\u001b[0m\u001b[1;33m=\u001b[0m\u001b[1;34m'Gapminder Global Indicators'\u001b[0m\u001b[1;33m,\u001b[0m\u001b[1;33m\u001b[0m\u001b[1;33m\u001b[0m\u001b[0m\n",
      "\u001b[1;31mNameError\u001b[0m: name 'gapminder_indicators' is not defined"
     ]
    }
   ],
   "source": [
    "\n",
    "\n",
    "from bubbly.bubbly import bubbleplot \n",
    "\n",
    "figure = bubbleplot(dataset=gapminder_indicators, x_column='gdpPercap', y_column='lifeExp', \n",
    "    bubble_column='country', time_column='year', size_column='pop', color_column='continent', \n",
    "    x_title=\"GDP per Capita\", y_title=\"Life Expectancy\", title='Gapminder Global Indicators',\n",
    "    x_logscale=True, scale_bubble=3, height=650)\n",
    "\n",
    "iplot(figure, config={'scrollzoom': True})\n",
    "\n"
   ]
  },
  {
   "cell_type": "code",
   "execution_count": null,
   "metadata": {},
   "outputs": [],
   "source": []
  },
  {
   "cell_type": "code",
   "execution_count": 1,
   "metadata": {},
   "outputs": [
    {
     "ename": "NameError",
     "evalue": "name 'gapminder_indicators' is not defined",
     "output_type": "error",
     "traceback": [
      "\u001b[1;31m---------------------------------------------------------------------------\u001b[0m",
      "\u001b[1;31mNameError\u001b[0m                                 Traceback (most recent call last)",
      "\u001b[1;32m<ipython-input-1-a4c13e44ce64>\u001b[0m in \u001b[0;36m<module>\u001b[1;34m\u001b[0m\n\u001b[1;32m----> 1\u001b[1;33m \u001b[0mdataset\u001b[0m \u001b[1;33m=\u001b[0m \u001b[0mgapminder_indicators\u001b[0m\u001b[1;33m\u001b[0m\u001b[1;33m\u001b[0m\u001b[0m\n\u001b[0m\u001b[0;32m      2\u001b[0m \u001b[0mx_column\u001b[0m \u001b[1;33m=\u001b[0m \u001b[1;34m'gdpPercap'\u001b[0m\u001b[1;33m\u001b[0m\u001b[1;33m\u001b[0m\u001b[0m\n\u001b[0;32m      3\u001b[0m \u001b[0my_column\u001b[0m \u001b[1;33m=\u001b[0m \u001b[1;34m'lifeExp'\u001b[0m\u001b[1;33m\u001b[0m\u001b[1;33m\u001b[0m\u001b[0m\n\u001b[0;32m      4\u001b[0m \u001b[0mbubble_column\u001b[0m \u001b[1;33m=\u001b[0m \u001b[1;34m'country'\u001b[0m\u001b[1;33m\u001b[0m\u001b[1;33m\u001b[0m\u001b[0m\n\u001b[0;32m      5\u001b[0m \u001b[0mtime_column\u001b[0m \u001b[1;33m=\u001b[0m \u001b[1;34m'year'\u001b[0m\u001b[1;33m\u001b[0m\u001b[1;33m\u001b[0m\u001b[0m\n",
      "\u001b[1;31mNameError\u001b[0m: name 'gapminder_indicators' is not defined"
     ]
    }
   ],
   "source": [
    "dataset = gapminder_indicators\n",
    "x_column = 'gdpPercap'\n",
    "y_column = 'lifeExp'\n",
    "bubble_column = 'country'\n",
    "time_column = 'year'"
   ]
  },
  {
   "cell_type": "code",
   "execution_count": 2,
   "metadata": {},
   "outputs": [
    {
     "ename": "NameError",
     "evalue": "name 'dataset' is not defined",
     "output_type": "error",
     "traceback": [
      "\u001b[1;31m---------------------------------------------------------------------------\u001b[0m",
      "\u001b[1;31mNameError\u001b[0m                                 Traceback (most recent call last)",
      "\u001b[1;32m<ipython-input-2-59b3fdfacb78>\u001b[0m in \u001b[0;36m<module>\u001b[1;34m\u001b[0m\n\u001b[0;32m      1\u001b[0m \u001b[1;31m# Get the years in the dataset\u001b[0m\u001b[1;33m\u001b[0m\u001b[1;33m\u001b[0m\u001b[1;33m\u001b[0m\u001b[0m\n\u001b[1;32m----> 2\u001b[1;33m \u001b[0myears\u001b[0m \u001b[1;33m=\u001b[0m \u001b[0mdataset\u001b[0m\u001b[1;33m[\u001b[0m\u001b[0mtime_column\u001b[0m\u001b[1;33m]\u001b[0m\u001b[1;33m.\u001b[0m\u001b[0munique\u001b[0m\u001b[1;33m(\u001b[0m\u001b[1;33m)\u001b[0m\u001b[1;33m\u001b[0m\u001b[1;33m\u001b[0m\u001b[0m\n\u001b[0m\u001b[0;32m      3\u001b[0m \u001b[1;33m\u001b[0m\u001b[0m\n\u001b[0;32m      4\u001b[0m \u001b[1;31m# Make the grid\u001b[0m\u001b[1;33m\u001b[0m\u001b[1;33m\u001b[0m\u001b[1;33m\u001b[0m\u001b[0m\n\u001b[0;32m      5\u001b[0m \u001b[0mgrid\u001b[0m \u001b[1;33m=\u001b[0m \u001b[0mpd\u001b[0m\u001b[1;33m.\u001b[0m\u001b[0mDataFrame\u001b[0m\u001b[1;33m(\u001b[0m\u001b[1;33m)\u001b[0m\u001b[1;33m\u001b[0m\u001b[1;33m\u001b[0m\u001b[0m\n",
      "\u001b[1;31mNameError\u001b[0m: name 'dataset' is not defined"
     ]
    }
   ],
   "source": [
    "# Get the years in the dataset\n",
    "years = dataset[time_column].unique()\n",
    "\n",
    "# Make the grid\n",
    "grid = pd.DataFrame()\n",
    "col_name_template = '{year}+{header}_grid'\n",
    "for year in years:\n",
    "    dataset_by_year = dataset[(dataset['year'] == int(year))]\n",
    "    for col_name in [x_column, y_column, bubble_column]:\n",
    "        # Each column name is unique\n",
    "        temp = col_name_template.format(\n",
    "            year=year, header=col_name\n",
    "        )\n",
    "        if dataset_by_year[col_name].size != 0:\n",
    "            grid = grid.append({'value': list(dataset_by_year[col_name]), 'key': temp}, \n",
    "                               ignore_index=True)\n",
    "\n",
    "grid.sample(10)"
   ]
  },
  {
   "cell_type": "code",
   "execution_count": 3,
   "metadata": {},
   "outputs": [
    {
     "ename": "NameError",
     "evalue": "name 'years' is not defined",
     "output_type": "error",
     "traceback": [
      "\u001b[1;31m---------------------------------------------------------------------------\u001b[0m",
      "\u001b[1;31mNameError\u001b[0m                                 Traceback (most recent call last)",
      "\u001b[1;32m<ipython-input-3-e2d4360ba55d>\u001b[0m in \u001b[0;36m<module>\u001b[1;34m\u001b[0m\n\u001b[0;32m      7\u001b[0m \u001b[1;33m\u001b[0m\u001b[0m\n\u001b[0;32m      8\u001b[0m \u001b[1;31m# Get the earliest year\u001b[0m\u001b[1;33m\u001b[0m\u001b[1;33m\u001b[0m\u001b[1;33m\u001b[0m\u001b[0m\n\u001b[1;32m----> 9\u001b[1;33m \u001b[0myear\u001b[0m \u001b[1;33m=\u001b[0m \u001b[0mmin\u001b[0m\u001b[1;33m(\u001b[0m\u001b[0myears\u001b[0m\u001b[1;33m)\u001b[0m\u001b[1;33m\u001b[0m\u001b[1;33m\u001b[0m\u001b[0m\n\u001b[0m\u001b[0;32m     10\u001b[0m \u001b[1;33m\u001b[0m\u001b[0m\n\u001b[0;32m     11\u001b[0m \u001b[1;31m# Make the trace\u001b[0m\u001b[1;33m\u001b[0m\u001b[1;33m\u001b[0m\u001b[1;33m\u001b[0m\u001b[0m\n",
      "\u001b[1;31mNameError\u001b[0m: name 'years' is not defined"
     ]
    }
   ],
   "source": [
    "# Define figure\n",
    "figure = {\n",
    "    'data': [],\n",
    "    'layout': {},\n",
    "    'frames': []\n",
    "}\n",
    "\n",
    "# Get the earliest year\n",
    "year = min(years)\n",
    "\n",
    "# Make the trace\n",
    "trace = {\n",
    "    'x': grid.loc[grid['key']==col_name_template.format(\n",
    "        year=year, header=x_column\n",
    "    ), 'value'].values[0], \n",
    "    'y': grid.loc[grid['key']==col_name_template.format(\n",
    "        year=year, header=y_column\n",
    "    ), 'value'].values[0],\n",
    "    'mode': 'markers',\n",
    "    'text': grid.loc[grid['key']==col_name_template.format(\n",
    "        year=year, header=bubble_column\n",
    "    ), 'value'].values[0]\n",
    "}\n",
    "# Append the trace to the figure\n",
    "figure['data'].append(trace)\n",
    "\n",
    "# Plot the figure\n",
    "iplot(figure, config={'scrollzoom': True})"
   ]
  },
  {
   "cell_type": "code",
   "execution_count": null,
   "metadata": {},
   "outputs": [],
   "source": [
    "\n",
    "\n",
    "# Get the max and min range of both axes\n",
    "xmin = min(np.log10(dataset[x_column]))*0.98\n",
    "xmax = max(np.log10(dataset[x_column]))*1.02\n",
    "ymin = min(dataset[y_column])*0.75\n",
    "ymax = max(dataset[y_column])*1.25\n",
    "\n",
    "# Modify the layout\n",
    "figure['layout']['xaxis'] = {'title': 'GDP per Capita', 'type': 'log', \n",
    "                             'range': [xmin, xmax]}   \n",
    "figure['layout']['yaxis'] = {'title': 'Life Expectancy', \n",
    "                             'range': [ymin, ymax]} \n",
    "figure['layout']['title'] = 'Gapminder Global Indicators'\n",
    "figure['layout']['showlegend'] = False\n",
    "figure['layout']['hovermode'] = 'closest'\n",
    "iplot(figure, config={'scrollzoom': True})\n",
    "\n"
   ]
  }
 ],
 "metadata": {
  "kernelspec": {
   "display_name": "Python 3",
   "language": "python",
   "name": "python3"
  },
  "language_info": {
   "codemirror_mode": {
    "name": "ipython",
    "version": 3
   },
   "file_extension": ".py",
   "mimetype": "text/x-python",
   "name": "python",
   "nbconvert_exporter": "python",
   "pygments_lexer": "ipython3",
   "version": "3.8.5"
  }
 },
 "nbformat": 4,
 "nbformat_minor": 4
}
